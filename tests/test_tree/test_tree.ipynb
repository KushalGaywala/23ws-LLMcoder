{
 "cells": [
  {
   "cell_type": "code",
   "execution_count": 3,
   "metadata": {},
   "outputs": [],
   "source": [
    "from llmcoder.treeofthought.PriorityQueue import PriorityQueue, Conversation\n",
    "import openai\n",
    "\n",
    "messages = [\n",
    "    {\n",
    "        \"role\": \"system\",\n",
    "        \"content\": \" \"\n",
    "    }, {\n",
    "        \"role\": \"user\",\n",
    "        \"content\": \" Please provide a cute easy code in python \"\n",
    "    }\n",
    "]\n"
   ]
  },
  {
   "cell_type": "code",
   "execution_count": 4,
   "metadata": {},
   "outputs": [
    {
     "name": "stdout",
     "output_type": "stream",
     "text": [
      " Please provide a cute easy code in python \n"
     ]
    }
   ],
   "source": [
    "print(messages[1][\"content\"])"
   ]
  },
  {
   "cell_type": "code",
   "execution_count": 7,
   "metadata": {},
   "outputs": [
    {
     "name": "stdout",
     "output_type": "stream",
     "text": [
      "Sure! Here is a simple code that prints a heart shape using ASCII characters in Python:\n",
      "\n",
      "```python\n",
      "print(\"   \\033[31m♥\\033[0m\")\n",
      "\n",
      "\n",
      "def print_heart_pattern():\n",
      "    pattern = '01000100000101010000000000000001100001101000100101010001'\n",
      "    for i in range(0, len(pattern), 5):\n",
      "        line = pattern[i:i + 5]\n",
      "        for char in line:\n",
      "            if char == '0':\n",
      "                print(\"  \", end=\"\")\n",
      "            else:\n",
      "                print(\"\\033[31m♥\\033[0m\", end=\"\")\n",
      "        print()\n",
      "\n",
      "\n",
      "if __name__ == '__main__':\n",
      "    print_heart_pattern()\n",
      "    print()\n",
      "```\n",
      "This code consists of two parts:\n",
      "- Printing a single red heart character.\n",
      "- Printing a heart shape using another HBA pattern.\n",
      "\n",
      "The first line simply uses ANSI escape code to print the heart shape (a red heart, represented by the \"♥\" symbol) with red color. The color can be observed with terminal supporting colors.\n",
      "\n",
      "The second part prints a heart shape pattern formed by \"0\"s (empty spaces) and \"1\"s (triangle shape), visually giving you a heart shape <3.\n",
      "\n",
      "I hope you find this code cute and easy! Let me know if there is anything specific you are interested in, and I will be happy to help!\n"
     ]
    }
   ],
   "source": [
    "from openai import OpenAI\n",
    "from llmcoder.utils import get_openai_key\n",
    "\n",
    "client = OpenAI(api_key = get_openai_key())\n",
    "messages = client.chat.completions.create(messages=messages, model=\"gpt-3.5-turbo\", temperature=1.5, n = 3)\n",
    "print(messages.choices[0].message.content)\n",
    "\n"
   ]
  },
  {
   "cell_type": "code",
   "execution_count": 3,
   "metadata": {},
   "outputs": [
    {
     "name": "stdout",
     "output_type": "stream",
     "text": [
      "Sure! Here's a fun little program that prints a heart shape using ASCII art: \n",
      "\n",
      "```python\n",
      "print(\"    ♥ ♥\")\n",
      "print(\"  ♥     ♥\")\n",
      "print(\" ♥       ♥\")\n",
      "print(\"  ♥     ♥\")\n",
      "print(\"    ♥ ♥\")\n",
      "```\n",
      "\n",
      "When you run this code, you'll see a heart symbol printed out in the console like this:\n",
      "\n",
      "```\n",
      "    ♥ ♥\n",
      "  ♥     ♥\n",
      " ♥       ♥\n",
      "  ♥     ♥\n",
      "    ♥ ♥\n",
      "```\n",
      "\n",
      "Feel free to modify, add, or combine ASCII art elements to create your own cute patterns!\n"
     ]
    }
   ],
   "source": [
    "print(messages.choices[1].message.content)"
   ]
  },
  {
   "cell_type": "code",
   "execution_count": 8,
   "metadata": {},
   "outputs": [
    {
     "name": "stdout",
     "output_type": "stream",
     "text": [
      "[7.96856521]\n"
     ]
    }
   ],
   "source": [
    "from llmcoder.analyze.GPTScoreAnalyzer import GPTScoreAnalyzer\n",
    "analyzer = GPTScoreAnalyzer()\n",
    "score1 = analyzer.score_code(messages.choices[1].message.content)\n",
    "print(score1)\n"
   ]
  },
  {
   "cell_type": "code",
   "execution_count": 12,
   "metadata": {},
   "outputs": [
    {
     "name": "stdout",
     "output_type": "stream",
     "text": [
      "(Choice(finish_reason='stop', index=1, logprobs=None, message=ChatCompletionMessage(content='Sure! Here\\'s an example of a simple program that asks the user for their name and says hello in a cute way:\\n\\n```\\nname = input(\"Enter your name: \")\\nprint(\"Hello, \" + name + \"! You are just as cute as a button!\")\\n```\\n\\nWhen you run this program, it will prompt the user to enter their name. After they\\'ve entered their name and hit enter, it will print a greeting message that acknowledges them as charming and cute.\\n\\nFeel free to play around with the message as well and add your own creative stamps of cuteness! ', role='assistant', function_call=None, tool_calls=None)),)\n"
     ]
    }
   ],
   "source": [
    "import heapq\n",
    "analyzer_results_history = \"\"\n",
    "priority_queue = PriorityQueue()\n",
    "conversation1 = Conversation(score1, messages.choices[1], analyzer_results_history)\n",
    "# conversations = [(conversation1, conversation2)]\n",
    "# priority_queue.create_priority_queue(conversations)\n",
    "priority_queue.push(conversation1)\n",
    "conversation = priority_queue.get_highest_scored_conversation()\n",
    "print(conversation._get_messages())"
   ]
  },
  {
   "cell_type": "code",
   "execution_count": 17,
   "metadata": {},
   "outputs": [
    {
     "ename": "ImportError",
     "evalue": "cannot import name 'Conversation' from 'llmcoder.treeofthought' (C:\\Users\\anaca\\Documents\\quinto.curso\\ai.tools\\llmcoder\\23ws-LLMcoder\\src\\llmcoder\\treeofthought\\__init__.py)",
     "output_type": "error",
     "traceback": [
      "\u001b[1;31m---------------------------------------------------------------------------\u001b[0m",
      "\u001b[1;31mImportError\u001b[0m                               Traceback (most recent call last)",
      "Cell \u001b[1;32mIn[17], line 1\u001b[0m\n\u001b[1;32m----> 1\u001b[0m \u001b[38;5;28;01mfrom\u001b[39;00m \u001b[38;5;21;01mllmcoder\u001b[39;00m \u001b[38;5;28;01mimport\u001b[39;00m LLMCoder\n\u001b[0;32m      2\u001b[0m llmcoder \u001b[38;5;241m=\u001b[39m LLMCoder(log_conversation\u001b[38;5;241m=\u001b[39m\u001b[38;5;28;01mFalse\u001b[39;00m)\n\u001b[0;32m      3\u001b[0m llmcoder\u001b[38;5;241m.\u001b[39m_add_message_to_conversation(\u001b[38;5;124m\"\u001b[39m\u001b[38;5;124muser\u001b[39m\u001b[38;5;124m\"\u001b[39m, conversation, message \u001b[38;5;241m=\u001b[39m messages[\u001b[38;5;241m1\u001b[39m][\u001b[38;5;124m\"\u001b[39m\u001b[38;5;124mcontent\u001b[39m\u001b[38;5;124m\"\u001b[39m], model\u001b[38;5;241m=\u001b[39m \u001b[38;5;124m\"\u001b[39m\u001b[38;5;124mgpt-3.5-turbo\u001b[39m\u001b[38;5;124m\"\u001b[39m, n \u001b[38;5;241m=\u001b[39m \u001b[38;5;241m3\u001b[39m)\n",
      "File \u001b[1;32m~\\Documents\\quinto.curso\\ai.tools\\llmcoder\\23ws-LLMcoder\\src\\llmcoder\\LLMCoder.py:8\u001b[0m\n\u001b[0;32m      6\u001b[0m \n\u001b[0;32m      7\u001b[0m import numpy as np\n\u001b[1;32m----> 8\u001b[0m import openai\n\u001b[0;32m      9\u001b[0m \n\u001b[0;32m     10\u001b[0m from llmcoder.analyze.factory import AnalyzerFactory\n",
      "\u001b[1;31mImportError\u001b[0m: cannot import name 'Conversation' from 'llmcoder.treeofthought' (C:\\Users\\anaca\\Documents\\quinto.curso\\ai.tools\\llmcoder\\23ws-LLMcoder\\src\\llmcoder\\treeofthought\\__init__.py)"
     ]
    }
   ],
   "source": [
    "from llmcoder import LLMCoder\n",
    "llmcoder = LLMCoder(log_conversation=False)\n",
    "llmcoder._add_message_to_conversation(\"user\", conversation, message = messages[1][\"content\"], model= \"gpt-3.5-turbo\", n = 3)"
   ]
  },
  {
   "cell_type": "code",
   "execution_count": 15,
   "metadata": {},
   "outputs": [
    {
     "ename": "NameError",
     "evalue": "name 'llmcoder' is not defined",
     "output_type": "error",
     "traceback": [
      "\u001b[1;31m---------------------------------------------------------------------------\u001b[0m",
      "\u001b[1;31mNameError\u001b[0m                                 Traceback (most recent call last)",
      "Cell \u001b[1;32mIn[15], line 1\u001b[0m\n\u001b[1;32m----> 1\u001b[0m results \u001b[38;5;241m=\u001b[39m llmcoder\u001b[38;5;241m.\u001b[39m_get_completions(temperature \u001b[38;5;241m=\u001b[39m \u001b[38;5;241m0.7\u001b[39m, n \u001b[38;5;241m=\u001b[39m \u001b[38;5;241m3\u001b[39m)\n\u001b[0;32m      3\u001b[0m \u001b[38;5;28;01mfor\u001b[39;00m result \u001b[38;5;129;01min\u001b[39;00m results:\n\u001b[0;32m      4\u001b[0m     valid_choices, analysis_results_list, candidate_scores \u001b[38;5;241m=\u001b[39m result\n",
      "\u001b[1;31mNameError\u001b[0m: name 'llmcoder' is not defined"
     ]
    }
   ],
   "source": [
    "results = llmcoder._get_completions(temperature = 0.7, n = 3)\n",
    "\n",
    "for result in results:\n",
    "    valid_choices, analysis_results_list, candidate_scores = result\n",
    "    print(candidate_scores)"
   ]
  },
  {
   "cell_type": "code",
   "execution_count": null,
   "metadata": {},
   "outputs": [],
   "source": []
  }
 ],
 "metadata": {
  "kernelspec": {
   "display_name": "myenv_python",
   "language": "python",
   "name": "python3"
  },
  "language_info": {
   "codemirror_mode": {
    "name": "ipython",
    "version": 3
   },
   "file_extension": ".py",
   "mimetype": "text/x-python",
   "name": "python",
   "nbconvert_exporter": "python",
   "pygments_lexer": "ipython3",
   "version": "3.11.7"
  }
 },
 "nbformat": 4,
 "nbformat_minor": 2
}
