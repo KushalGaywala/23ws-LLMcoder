{
 "cells": [
  {
   "cell_type": "code",
   "execution_count": 1,
   "metadata": {},
   "outputs": [],
   "source": [
    "from llmcoder import LLMCoder\n",
    "import re"
   ]
  },
  {
   "cell_type": "code",
   "execution_count": 2,
   "metadata": {},
   "outputs": [],
   "source": [
    "llmcoder = LLMCoder(analyzers=[\"mypy_analyzer_v1\", \"signature_analyzer_v1\"], max_iter=3, feedback_variant=\"coworker\")"
   ]
  },
  {
   "cell_type": "code",
   "execution_count": 3,
   "metadata": {},
   "outputs": [],
   "source": [
    "initial_code = '''import numpy as np\n",
    "\n",
    "# Function that computes the levenstein distance between two strings\n",
    "'''"
   ]
  },
  {
   "cell_type": "code",
   "execution_count": 4,
   "metadata": {},
   "outputs": [
    {
     "name": "stdout",
     "output_type": "stream",
     "text": [
      "[LLMcoder] Creating first completion...\n",
      "[Scoring] Considering 14 completions, ignoring 0\n",
      "[Scoring] Choosing message 7 with score 8.830147975325003\n",
      "[LLMcoder] Starting feedback loop...\n",
      "[LLMcoder] Starting feedback iteration 1...\n",
      "[LLMcoder] Analyzing code in a coworker mode...\n",
      "[LLMcoder] Running mypy_analyzer_v1...\n",
      "[Mypy] No missing stubs found.\n",
      "[Mypy] Success: no issues found in 1 source file\n",
      "[Mypy] \n",
      "[LLMcoder] Running signature_analyzer_v1...\n",
      "[Signatures] Using context from previous analyzers: ['mypy_analyzer_v1']\n",
      "[Signatures] No problematic functions or classes found in the context.\n",
      "[LLMcoder] 1 / 1 analyzers passed\n",
      "[LLMcoder] Creating first completion...\n",
      "[Scoring] Considering 14 completions, ignoring 0\n",
      "[Scoring] Choosing message 7 with score 8.830147975325003\n",
      "[LLMcoder] Starting feedback loop...\n",
      "[LLMcoder] Starting feedback iteration 1...\n",
      "[LLMcoder] Analyzing code in a coworker mode...\n",
      "[LLMcoder] Running mypy_analyzer_v1...\n",
      "[Mypy] No missing stubs found.\n",
      "[Mypy] Success: no issues found in 1 source file\n",
      "[Mypy] \n",
      "[LLMcoder] Running signature_analyzer_v1...\n",
      "[Signatures] Using context from previous analyzers: ['mypy_analyzer_v1']\n",
      "[Signatures] No problematic functions or classes found in the context.\n",
      "[LLMcoder] 1 / 1 analyzers passed\n",
      "[LLMcoder] Creating first completion...\n",
      "[Scoring] Considering 14 completions, ignoring 0\n",
      "[Scoring] Choosing message 0 with score 8.460601983666088\n",
      "[LLMcoder] Starting feedback loop...\n",
      "[LLMcoder] Starting feedback iteration 1...\n",
      "[LLMcoder] Analyzing code in a coworker mode...\n",
      "[LLMcoder] Running mypy_analyzer_v1...\n",
      "[Mypy] No missing stubs found.\n",
      "[Mypy] Success: no issues found in 1 source file\n",
      "[Mypy] \n",
      "[LLMcoder] Running signature_analyzer_v1...\n",
      "[Signatures] Using context from previous analyzers: ['mypy_analyzer_v1']\n",
      "[Signatures] No problematic functions or classes found in the context.\n",
      "[LLMcoder] 1 / 1 analyzers passed\n",
      "[LLMcoder] Creating first completion...\n",
      "[Scoring] Considering 14 completions, ignoring 0\n",
      "[Scoring] Choosing message 7 with score 8.606503103631578\n",
      "[LLMcoder] Starting feedback loop...\n",
      "[LLMcoder] Starting feedback iteration 1...\n",
      "[LLMcoder] Analyzing code in a coworker mode...\n",
      "[LLMcoder] Running mypy_analyzer_v1...\n",
      "[Mypy] No missing stubs found.\n",
      "[Mypy] Success: no issues found in 1 source file\n",
      "[Mypy] \n",
      "[LLMcoder] Running signature_analyzer_v1...\n",
      "[Signatures] Using context from previous analyzers: ['mypy_analyzer_v1']\n",
      "[Signatures] No problematic functions or classes found in the context.\n",
      "[LLMcoder] 1 / 1 analyzers passed\n",
      "[LLMcoder] Creating first completion...\n",
      "[Scoring] Considering 14 completions, ignoring 0\n",
      "[Scoring] Choosing message 0 with score 8.606503103631578\n",
      "[LLMcoder] Starting feedback loop...\n",
      "[LLMcoder] Starting feedback iteration 1...\n",
      "[LLMcoder] Analyzing code in a coworker mode...\n",
      "[LLMcoder] Running mypy_analyzer_v1...\n",
      "[Mypy] No missing stubs found.\n",
      "[Mypy] Success: no issues found in 1 source file\n",
      "[Mypy] \n",
      "[LLMcoder] Running signature_analyzer_v1...\n",
      "[Signatures] Using context from previous analyzers: ['mypy_analyzer_v1']\n",
      "[Signatures] No problematic functions or classes found in the context.\n",
      "[LLMcoder] 1 / 1 analyzers passed\n"
     ]
    }
   ],
   "source": [
    "# Meta-Loop\n",
    "N_STEPS = 10\n",
    "\n",
    "code_steps = [initial_code]\n",
    "\n",
    "for i in range(N_STEPS):\n",
    "    completion = llmcoder.complete(code_steps[-1])\n",
    "    if completion == \"\":\n",
    "        break\n",
    "    code_steps.append(code_steps[-1] + completion + \"\\n\")"
   ]
  },
  {
   "cell_type": "code",
   "execution_count": 5,
   "metadata": {},
   "outputs": [
    {
     "name": "stdout",
     "output_type": "stream",
     "text": [
      "import numpy as np\n",
      "\n",
      "# Function that computes the levenstein distance between two strings\n",
      "def levenshtein_distance(s1, s2):\n",
      "    if len(s1) < len(s2):\n",
      "        return levenshtein_distance(s2, s1)\n",
      "\n",
      "    if len(s2) == 0:\n",
      "        return len(s1)\n",
      "\n",
      "    previous_row = range(len(s2) + 1)\n",
      "    for i, c1 in enumerate(s1):\n",
      "        current_row = [i + 1]\n",
      "        for j, c2 in enumerate(s2):\n",
      "            insertions = previous_row[j + 1] + 1 \n",
      "            deletions = current_row[j] + 1       \n",
      "            substitutions = previous_row[j] + (c1 != c2)\n",
      "            current_row.append(min(insertions, deletions, substitutions))\n",
      "        previous_row = current_row\n",
      "    \n",
      "    return previous_row[-1]\n",
      "\n",
      "# Testing the levenshtein distance function\n",
      "print(levenshtein_distance(\"kitten\", \"sitting\"))  # Output: 3\n",
      "print(levenshtein_distance(\"rosettacode\", \"raisethysword\"))  # Output: 8\n",
      "print(levenshtein_distance(\"hello\", \"world\"))  # Output: 5\n",
      "\n"
     ]
    }
   ],
   "source": [
    "print(code_steps[-1])"
   ]
  },
  {
   "cell_type": "code",
   "execution_count": 6,
   "metadata": {},
   "outputs": [
    {
     "name": "stdout",
     "output_type": "stream",
     "text": [
      "SYSTEM\n",
      "You are AutocompleteGPT, a useful AI autocomplete tool that provides code completions based on the user's code.\n",
      "You are a precision-focused tool for code autocompletion, adept in languages like Python, JavaScript, C++, and SQL.\n",
      "Precisely continue the code from the point of interruption and do not repeat or modify the original code, even if it is incorrect or the code interrupts in the middle of a line.\n",
      "Your code is well documented with comments and annotations, and you should provide a clear explanation of the code's purpose in your code completion.\n",
      "Your unique capability is to provide completions without altering, repeating, or commenting on the original code.\n",
      "You offer only the necessary code to complete the snippet, ensuring the response is exclusively code, with no additional comments, explanations, or annotations.\n",
      "This approach makes you an ideal assistant for users seeking straightforward and efficient code extensions, enhancing their work with accurate, logic-driven completions while maintaining the integrity and simplicity of the original input.\n",
      "Your response begins with the next characters of the line if the last line of the user's code is incomplete, or the next line if the last line of the user's code is complete.\n",
      "Your application is a VSCode extension like GitHub Copilot, which provides seamless code completions based on the user's code at the point of interruption.\n",
      "--------------------------------------------------------------------------------\n",
      "USER\n",
      "import numpy as np\n",
      "\n",
      "# Function that computes the levenstein distance between two strings\n",
      "def levenshtein_distance(s1, s2):\n",
      "    if len(s1) < len(s2):\n",
      "        return levenshtein_distance(s2, s1)\n",
      "\n",
      "    if len(s2) == 0:\n",
      "        return len(s1)\n",
      "\n",
      "    previous_row = range(len(s2) + 1)\n",
      "    for i, c1 in enumerate(s1):\n",
      "        current_row = [i + 1]\n",
      "        for j, c2 in enumerate(s2):\n",
      "            insertions = previous_row[j + 1] + 1 \n",
      "            deletions = current_row[j] + 1       \n",
      "            substitutions = previous_row[j] + (c1 != c2)\n",
      "            current_row.append(min(insertions, deletions, substitutions))\n",
      "        previous_row = current_row\n",
      "    \n",
      "    return previous_row[-1]\n",
      "\n",
      "# Testing the levenshtein distance function\n",
      "print(levenshtein_distance(\"kitten\", \"sitting\"))  # Output: 3\n",
      "print(levenshtein_distance(\"rosettacode\", \"raisethysword\"))  # Output: 8\n",
      "print(levenshtein_distance(\"hello\", \"world\"))  # Output: 5\n",
      "\n",
      "--------------------------------------------------------------------------------\n",
      "ASSISTANT\n",
      "\n",
      "--------------------------------------------------------------------------------\n"
     ]
    }
   ],
   "source": [
    "for message in llmcoder.messages:\n",
    "    print(message['role'].upper())\n",
    "    print(message['content'])\n",
    "    print('-' * 80)"
   ]
  },
  {
   "cell_type": "code",
   "execution_count": 7,
   "metadata": {},
   "outputs": [
    {
     "name": "stdout",
     "output_type": "stream",
     "text": [
      "import numpy as np\n",
      "\n",
      "# Function that computes the levenstein distance between two strings\n",
      "def levenshtein_distance(s1, s2):\n",
      "    if len(s1) < len(s2):\n",
      "        return levenshtein_distance(s2, s1)\n",
      "\n",
      "    if len(s2) == 0:\n",
      "        return len(s1)\n",
      "\n",
      "    previous_row = range(len(s2) + 1)\n",
      "    for i, c1 in enumerate(s1):\n",
      "        current_row = [i + 1]\n",
      "        for j, c2 in enumerate(s2):\n",
      "            insertions = previous_row[j + 1] + 1 \n",
      "            deletions = current_row[j] + 1       \n",
      "            substitutions = previous_row[j] + (c1 != c2)\n",
      "            current_row.append(min(insertions, deletions, substitutions))\n",
      "        previous_row = current_row\n",
      "    \n",
      "    return previous_row[-1]\n",
      "\n",
      "# Testing the levenshtein distance function\n",
      "print(levenshtein_distance(\"kitten\", \"sitting\"))  # Output: 3\n",
      "print(levenshtein_distance(\"rosettacode\", \"raisethysword\"))  # Output: 8\n",
      "print(levenshtein_distance(\"hello\", \"world\"))  # Output: 5\n",
      "\n"
     ]
    }
   ],
   "source": [
    "print(code_steps[-1])"
   ]
  },
  {
   "cell_type": "code",
   "execution_count": null,
   "metadata": {},
   "outputs": [],
   "source": []
  }
 ],
 "metadata": {
  "kernelspec": {
   "display_name": "llmcoder",
   "language": "python",
   "name": "python3"
  },
  "language_info": {
   "codemirror_mode": {
    "name": "ipython",
    "version": 3
   },
   "file_extension": ".py",
   "mimetype": "text/x-python",
   "name": "python",
   "nbconvert_exporter": "python",
   "pygments_lexer": "ipython3",
   "version": "3.11.5"
  }
 },
 "nbformat": 4,
 "nbformat_minor": 2
}
