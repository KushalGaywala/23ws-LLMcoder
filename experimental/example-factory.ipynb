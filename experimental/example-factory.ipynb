{
 "cells": [
  {
   "cell_type": "markdown",
   "metadata": {},
   "source": [
    "# Set up OpenAI and start with a system prompt"
   ]
  },
  {
   "cell_type": "code",
   "execution_count": 62,
   "metadata": {},
   "outputs": [],
   "source": [
    "import json\n",
    "import os\n",
    "\n",
    "from openai import OpenAI"
   ]
  },
  {
   "cell_type": "code",
   "execution_count": 63,
   "metadata": {},
   "outputs": [],
   "source": [
    "EXAMPLES_DIR = 'examples'\n",
    "os.makedirs(EXAMPLES_DIR, exist_ok=True)"
   ]
  },
  {
   "cell_type": "code",
   "execution_count": 64,
   "metadata": {},
   "outputs": [],
   "source": [
    "client = OpenAI(\n",
    "    # defaults to os.environ.get(\"OPENAI_API_KEY\")\n",
    "    api_key=open('../key.txt', 'r').read().strip('\\n'),\n",
    ")"
   ]
  },
  {
   "cell_type": "code",
   "execution_count": 65,
   "metadata": {},
   "outputs": [],
   "source": [
    "system_prompt = \"\"\"\n",
    "# Instructions:\n",
    "You are an autocomplete system for Python. Generate or complete Python code based on the user's description or the provided code snippet.\n",
    "\n",
    "The user may\n",
    "1. Describe code, either directly or in a Python comment. In this case, you should implement the described code.\n",
    "2. Write incomplete code. In this case, you should complete the code.\n",
    "\n",
    "## Example 1:\n",
    "\n",
    "[INPUT]\n",
    "# Function to add two numbers\n",
    "[/INPUT]\n",
    "\n",
    "[ANSWER]\n",
    "```python\n",
    "def add_numbers(a, b):\n",
    "    return a + b\n",
    "```\n",
    "[/ANSWER]\n",
    "\n",
    "## Example 2:\n",
    "\n",
    "[INPUT]\n",
    "I need a function that checks if a number is prime\n",
    "[/INPUT]\n",
    "\n",
    "[ANSWER]\n",
    "```python\n",
    "def is_prime(number):\n",
    "    if number > 1:\n",
    "        for i in range(2, int(number**0.5)+1):\n",
    "            if (number % i) == 0:\n",
    "                return False\n",
    "        return True\n",
    "    else:\n",
    "        return False\n",
    "```\n",
    "[/ANSWER]\n",
    "\n",
    "## Example 3:\n",
    "\n",
    "[INPUT]\n",
    "```python\n",
    "def factorial(n):\n",
    "    # Computes the fact\n",
    "```\n",
    "[/INPUT]\n",
    "\n",
    "[ANSWER]\n",
    "```python\n",
    "    # Computes the factorial of a number\n",
    "    if n == 0:\n",
    "        return 1\n",
    "    else:\n",
    "        return n * factorial(n-1)\n",
    "```\n",
    "[/ANSWER]\n",
    "\n",
    "# Rules:\n",
    "- Your entire response must be valid Python code.\n",
    "- Any comments or notes must be made in Python code block, i.e., ```python ... ```.\n",
    "- You must not add any additional comments or notes outside of the ```python ... ``` blocks. Your entire response must only consist of one Python code block.\n",
    "- You must end your response after ending the Python code block with \"```\".\n",
    "\"\"\""
   ]
  },
  {
   "cell_type": "code",
   "execution_count": 66,
   "metadata": {},
   "outputs": [],
   "source": [
    "def add_message(messages: list[str], role: str, message: str | None = None) -> list[str]:\n",
    "    # If the user is the assistant, generate a response\n",
    "    if role == \"assistant\" and message is None:\n",
    "        chat_completion = client.chat.completions.create(messages=messages, model=\"gpt-3.5-turbo\")\n",
    "        message = chat_completion.choices[0].message.content\n",
    "\n",
    "    # Add the message to the messages list\n",
    "    messages.append({\n",
    "        \"role\": role,\n",
    "        \"content\": message,\n",
    "    })\n",
    "\n",
    "    return messages"
   ]
  },
  {
   "cell_type": "markdown",
   "metadata": {},
   "source": [
    "# Generate a response to an example prompt"
   ]
  },
  {
   "cell_type": "code",
   "execution_count": 67,
   "metadata": {},
   "outputs": [],
   "source": [
    "user_input = \"\"\"import json\n",
    "import os\n",
    "\n",
    "from openai import OpenAI\n",
    "\n",
    "EXAMPLES_DIR = 'examples'\n",
    "os.makedirs(EXAMPLES_DIR, exist_ok=True)\n",
    "\n",
    "# Load your API key from an environment variable or secret management servic\n",
    "client = OpenAI(\n",
    "    # defaults to os.environ.get(\"OPENAI_API_KEY\")\n",
    "    api_key=open('../key.txt', 'r').read().strip('\\n'),\n",
    ")\n",
    "\n",
    "def add_message(messages: list[str], role: str, message: str | None = None) -> list[str]:\n",
    "    # If the user is the assistant, g\"\"\""
   ]
  },
  {
   "cell_type": "code",
   "execution_count": 68,
   "metadata": {},
   "outputs": [],
   "source": [
    "messages = []"
   ]
  },
  {
   "cell_type": "code",
   "execution_count": 69,
   "metadata": {},
   "outputs": [],
   "source": [
    "messages = add_message(messages, \"system\", system_prompt)\n",
    "messages = add_message(messages, \"user\", user_input)"
   ]
  },
  {
   "cell_type": "code",
   "execution_count": 70,
   "metadata": {},
   "outputs": [],
   "source": [
    "messages = add_message(messages, \"assistant\")"
   ]
  },
  {
   "cell_type": "markdown",
   "metadata": {},
   "source": [
    "# Examine the output and store the conversation and a comment"
   ]
  },
  {
   "cell_type": "code",
   "execution_count": 71,
   "metadata": {},
   "outputs": [
    {
     "name": "stdout",
     "output_type": "stream",
     "text": [
      "```python\n",
      "def add_message(messages: list[str], role: str, message: str | None = None) -> list[str]:\n",
      "    # If the user is the assistant, just append the message to the messages list\n",
      "    if role == \"assistant\":\n",
      "        messages.append(message)\n",
      "    return messages\n",
      "```\n",
      "\n"
     ]
    }
   ],
   "source": [
    "print(messages[-1]['content'])"
   ]
  },
  {
   "cell_type": "code",
   "execution_count": 72,
   "metadata": {},
   "outputs": [],
   "source": [
    "comment = \"\"\"\n",
    "+ Valid python code\n",
    "- Does not understand that a new message should be generated by the model if the user is the assistant\n",
    "- ignores \n",
    "\"\"\"\n",
    "\n",
    "title = \"OpenAI add_message in-line autocomplete with few-shot system prompt\""
   ]
  },
  {
   "cell_type": "code",
   "execution_count": 73,
   "metadata": {},
   "outputs": [],
   "source": [
    "# Remove any previous comments\n",
    "messages = [message for message in messages if message['role'] != 'comment']\n",
    "\n",
    "# Add the comment to the messages list\n",
    "messages.append({\n",
    "    \"role\": \"comment\",\n",
    "    \"content\": comment,\n",
    "})"
   ]
  },
  {
   "cell_type": "code",
   "execution_count": 74,
   "metadata": {},
   "outputs": [],
   "source": [
    "# Save the messages to a file\n",
    "# with open(os.path.join(EXAMPLES_DIR, f\"{title}.json\"), \"w\") as f:\n",
    "#     json.dump(messages, f, indent=4)"
   ]
  }
 ],
 "metadata": {
  "kernelspec": {
   "display_name": "llmcoder",
   "language": "python",
   "name": "python3"
  },
  "language_info": {
   "codemirror_mode": {
    "name": "ipython",
    "version": 3
   },
   "file_extension": ".py",
   "mimetype": "text/x-python",
   "name": "python",
   "nbconvert_exporter": "python",
   "pygments_lexer": "ipython3",
   "version": "3.11.5"
  }
 },
 "nbformat": 4,
 "nbformat_minor": 2
}
