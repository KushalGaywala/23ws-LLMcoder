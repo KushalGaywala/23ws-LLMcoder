{
 "cells": [
  {
   "cell_type": "markdown",
   "metadata": {},
   "source": [
    "# Set up OpenAI and start with a system prompt"
   ]
  },
  {
   "cell_type": "code",
   "execution_count": 1,
   "metadata": {},
   "outputs": [],
   "source": [
    "import json\n",
    "import os\n",
    "\n",
    "from openai import OpenAI"
   ]
  },
  {
   "cell_type": "code",
   "execution_count": 2,
   "metadata": {},
   "outputs": [],
   "source": [
    "EXAMPLES_DIR = 'examples'\n",
    "os.makedirs(EXAMPLES_DIR, exist_ok=True)"
   ]
  },
  {
   "cell_type": "code",
   "execution_count": 3,
   "metadata": {},
   "outputs": [],
   "source": [
    "# Load your API key from an environment variable or secret management servic\n",
    "client = OpenAI(\n",
    "    # defaults to os.environ.get(\"OPENAI_API_KEY\")\n",
    "    api_key=open('../key.txt', 'r').read().strip('\\n'),\n",
    ")"
   ]
  },
  {
   "cell_type": "code",
   "execution_count": 4,
   "metadata": {},
   "outputs": [],
   "source": [
    "system_prompt = \"\"\"# Instructions:\n",
    "You are an autocomplete system for Python.\n",
    "\n",
    "The user may\n",
    "1. Describe code, either directly or in a Python comment, in which case you implement the code.\n",
    "2. Write code, in which case you autocomplete the code.\n",
    "\n",
    "## Example 1:\n",
    "\n",
    "[INPUT]\n",
    "```python\n",
    "# Comment describing the code\n",
    "```\n",
    "[/INPUT]\n",
    "\n",
    "[ANSWER]\n",
    "```python\n",
    "# Comment describing the code\n",
    "<code>\n",
    "```\n",
    "[/ANSWER]\n",
    "\n",
    "## Example 2:\n",
    "\n",
    "[INPUT]\n",
    "Description of the code\n",
    "[/INPUT]\n",
    "\n",
    "[ANSWER]\n",
    "```python\n",
    "<code>\n",
    "```\n",
    "[/ANSWER]\n",
    "\n",
    "## Example 3:\n",
    "\n",
    "[INPUT]\n",
    "```python\n",
    "<incomplete code snippet>\n",
    "```\n",
    "[/INPUT]\n",
    "\n",
    "[ANSWER]\n",
    "```python\n",
    "<incomplete code snippet><code>\n",
    "```\n",
    "[/ANSWER]\n",
    "\n",
    "# Rules:\n",
    "- Your entire response must be valid python code.\n",
    "- Any comments or notes must must be made in Python code block, i.e. ```python ... ```.\n",
    "- You must not add any additional comments or notes outside of ```python ... ``` blocks, i.e. your entire response must only consist of one Python code block.\n",
    "- You must end your response after ending the python code block with \"```\".\n",
    "\"\"\""
   ]
  },
  {
   "cell_type": "code",
   "execution_count": 5,
   "metadata": {},
   "outputs": [],
   "source": [
    "def add_message(messages: list[str], role: str, message: str | None = None) -> list[str]:\n",
    "    # If the user is the assistant, generate a response\n",
    "    if role == \"assistant\" and message is None:\n",
    "        chat_completion = client.chat.completions.create(messages=messages, model=\"gpt-3.5-turbo\")\n",
    "        message = chat_completion.choices[0].message.content\n",
    "\n",
    "    # Add the message to the messages list\n",
    "    messages.append({\n",
    "        \"role\": role,\n",
    "        \"content\": message,\n",
    "    })\n",
    "\n",
    "    return messages"
   ]
  },
  {
   "cell_type": "markdown",
   "metadata": {},
   "source": [
    "# Generate a response to an example prompt"
   ]
  },
  {
   "cell_type": "code",
   "execution_count": 6,
   "metadata": {},
   "outputs": [],
   "source": [
    "user_input = \"\"\"Implement an algorithm that reads a csv file, splits it into chunks based on the first letter in the 'Name' column and stores the chunks into separate csv files.\"\"\""
   ]
  },
  {
   "cell_type": "code",
   "execution_count": 7,
   "metadata": {},
   "outputs": [],
   "source": [
    "messages = []"
   ]
  },
  {
   "cell_type": "code",
   "execution_count": 8,
   "metadata": {},
   "outputs": [],
   "source": [
    "messages = add_message(messages, \"system\", system_prompt)\n",
    "messages = add_message(messages, \"user\", user_input)"
   ]
  },
  {
   "cell_type": "code",
   "execution_count": 9,
   "metadata": {},
   "outputs": [],
   "source": [
    "messages = add_message(messages, \"assistant\")"
   ]
  },
  {
   "cell_type": "markdown",
   "metadata": {},
   "source": [
    "# Examine the output and store the conversation and a comment"
   ]
  },
  {
   "cell_type": "code",
   "execution_count": 19,
   "metadata": {},
   "outputs": [
    {
     "name": "stdout",
     "output_type": "stream",
     "text": [
      "```python\n",
      "import pandas as pd\n",
      "\n",
      "def split_csv_file(input_file, output_dir):\n",
      "    # Read the CSV file into a DataFrame\n",
      "    data = pd.read_csv(input_file)\n",
      "    \n",
      "    # Group the DataFrame by first letter of 'Name' column\n",
      "    grouped_data = data.groupby(data['Name'].str[0])\n",
      "    \n",
      "    # Save each group into a separate CSV file\n",
      "    for letter, group in grouped_data:\n",
      "        output_file = f\"{output_dir}/{letter}.csv\"\n",
      "        group.to_csv(output_file, index=False)\n",
      "```\n",
      "```\n"
     ]
    }
   ],
   "source": [
    "print(messages[-1]['content'])"
   ]
  },
  {
   "cell_type": "code",
   "execution_count": 20,
   "metadata": {},
   "outputs": [],
   "source": [
    "import pandas as pd\n",
    "\n",
    "def split_csv_file(input_file, output_dir):\n",
    "    # Read the CSV file into a DataFrame\n",
    "    data = pd.read_csv(input_file)\n",
    "    \n",
    "    # Group the DataFrame by first letter of 'Name' column\n",
    "    grouped_data = data.groupby(data['Name'].str[0])\n",
    "    \n",
    "    # Save each group into a separate CSV file\n",
    "    for letter, group in grouped_data:\n",
    "        output_file = f\"{output_dir}/{letter}.csv\"\n",
    "        group.to_csv(output_file, index=False)\n"
   ]
  },
  {
   "cell_type": "code",
   "execution_count": 22,
   "metadata": {},
   "outputs": [],
   "source": [
    "split_csv_file('names.csv', 'output')"
   ]
  },
  {
   "cell_type": "code",
   "execution_count": 32,
   "metadata": {},
   "outputs": [],
   "source": [
    "comment = \"\"\"\n",
    "+ Correct implementation of the algorithm\n",
    "- Does not check if the output directory exists and results in an `OSError: Cannot save file into a non-existent directory: 'output'`\n",
    "- Additional ``` at the end of the response\n",
    "\"\"\"\n",
    "\n",
    "title = \"Split a CSV file into chunks based on the first letter in the 'Name' column\""
   ]
  },
  {
   "cell_type": "code",
   "execution_count": 33,
   "metadata": {},
   "outputs": [],
   "source": [
    "# Remove any previous comments\n",
    "messages = [message for message in messages if message['role'] != 'comment']\n",
    "\n",
    "# Add the comment to the messages list\n",
    "messages.append({\n",
    "    \"role\": \"comment\",\n",
    "    \"content\": comment,\n",
    "})"
   ]
  },
  {
   "cell_type": "code",
   "execution_count": 34,
   "metadata": {},
   "outputs": [],
   "source": [
    "# Save the messages to a file\n",
    "with open(os.path.join(EXAMPLES_DIR, f\"{title}.json\"), \"w\") as f:\n",
    "    json.dump(messages, f, indent=4)"
   ]
  }
 ],
 "metadata": {
  "kernelspec": {
   "display_name": "llmcoder",
   "language": "python",
   "name": "python3"
  },
  "language_info": {
   "codemirror_mode": {
    "name": "ipython",
    "version": 3
   },
   "file_extension": ".py",
   "mimetype": "text/x-python",
   "name": "python",
   "nbconvert_exporter": "python",
   "pygments_lexer": "ipython3",
   "version": "3.11.5"
  }
 },
 "nbformat": 4,
 "nbformat_minor": 2
}
