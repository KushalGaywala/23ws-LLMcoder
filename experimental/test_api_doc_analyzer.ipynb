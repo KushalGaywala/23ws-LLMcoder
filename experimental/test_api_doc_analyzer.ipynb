{
 "cells": [
  {
   "cell_type": "code",
   "execution_count": 1,
   "metadata": {},
   "outputs": [],
   "source": [
    "from llmcoder.analyze import APIDocumentationAnalyzer"
   ]
  },
  {
   "cell_type": "code",
   "execution_count": 2,
   "metadata": {},
   "outputs": [],
   "source": [
    "a = APIDocumentationAnalyzer()"
   ]
  },
  {
   "cell_type": "code",
   "execution_count": 3,
   "metadata": {},
   "outputs": [],
   "source": [
    "input = \"\"\"import numpy as np\n",
    "\n",
    "def foo(a, b):\n",
    "    return a + b\n",
    "    \n",
    "if __name__ == \"__main__\":\n",
    "    A = np.array([1, 2, 3])\n",
    "    B = np.\"\"\"\n",
    "\n",
    "completion = \"\"\"not_a_function(4, 5, 6)\n",
    "    print(foo(A, B))\"\"\""
   ]
  },
  {
   "cell_type": "code",
   "execution_count": 4,
   "metadata": {},
   "outputs": [
    {
     "name": "stdout",
     "output_type": "stream",
     "text": [
      "Module: \n",
      "<module 'numpy' from '/home/psaegert/miniconda3/envs/llmcoder/lib/python3.11/site-packages/numpy/__init__.py'>\n",
      "\n",
      "\n",
      "Module: \n",
      "<module 'numpy' from '/home/psaegert/miniconda3/envs/llmcoder/lib/python3.11/site-packages/numpy/__init__.py'>\n",
      "\n",
      "\n"
     ]
    },
    {
     "name": "stderr",
     "output_type": "stream",
     "text": [
      "/home/psaegert/Projects/23ws-LLMcoder/src/llmcoder/analyze/APIDocumentationAnalyzer.py:268: UserWarning: The NumPy module was reloaded (imported a second time). This can in some cases result in small but subtle issues and is discouraged.\n",
      "  spec.loader.exec_module(module)\n",
      "/home/psaegert/Projects/23ws-LLMcoder/src/llmcoder/analyze/APIDocumentationAnalyzer.py:268: UserWarning: The NumPy module was reloaded (imported a second time). This can in some cases result in small but subtle issues and is discouraged.\n",
      "  spec.loader.exec_module(module)\n"
     ]
    }
   ],
   "source": [
    "analyzer_results = [a.analyze(input, completion)]"
   ]
  },
  {
   "cell_type": "code",
   "execution_count": 5,
   "metadata": {},
   "outputs": [],
   "source": [
    "from llmcoder import LLMCoder"
   ]
  },
  {
   "cell_type": "code",
   "execution_count": 6,
   "metadata": {},
   "outputs": [],
   "source": [
    "llmcoder = LLMCoder(analyzers=['api_documentation_analyzer_v1'])"
   ]
  },
  {
   "cell_type": "code",
   "execution_count": 7,
   "metadata": {},
   "outputs": [],
   "source": [
    "llmcoder.messages = [\n",
    "    {\n",
    "        \"role\": \"system\",\n",
    "        \"content\": llmcoder.system_prompt\n",
    "    }, {\n",
    "        \"role\": \"user\",\n",
    "        \"content\": input\n",
    "    }, {\n",
    "        \"role\": \"assistant\",\n",
    "        \"content\": completion\n",
    "    }\n",
    "]"
   ]
  },
  {
   "cell_type": "code",
   "execution_count": 8,
   "metadata": {},
   "outputs": [
    {
     "name": "stderr",
     "output_type": "stream",
     "text": [
      "/home/psaegert/Projects/23ws-LLMcoder/src/llmcoder/analyze/APIDocumentationAnalyzer.py:268: UserWarning: The NumPy module was reloaded (imported a second time). This can in some cases result in small but subtle issues and is discouraged.\n",
      "  spec.loader.exec_module(module)\n",
      "/home/psaegert/Projects/23ws-LLMcoder/src/llmcoder/analyze/APIDocumentationAnalyzer.py:268: UserWarning: The NumPy module was reloaded (imported a second time). This can in some cases result in small but subtle issues and is discouraged.\n",
      "  spec.loader.exec_module(module)\n"
     ]
    },
    {
     "name": "stdout",
     "output_type": "stream",
     "text": [
      "Analyzing code...\n",
      "Running APIDocumentationAnalyzer...\n",
      "Module: \n",
      "<module 'numpy' from '/home/psaegert/miniconda3/envs/llmcoder/lib/python3.11/site-packages/numpy/__init__.py'>\n",
      "\n",
      "\n",
      "Module: \n",
      "<module 'numpy' from '/home/psaegert/miniconda3/envs/llmcoder/lib/python3.11/site-packages/numpy/__init__.py'>\n",
      "\n",
      "\n",
      "0 / 1 analyzers passed\n"
     ]
    },
    {
     "data": {
      "text/plain": [
       "False"
      ]
     },
     "execution_count": 8,
     "metadata": {},
     "output_type": "execute_result"
    }
   ],
   "source": [
    "llmcoder.feedback_step()"
   ]
  },
  {
   "cell_type": "code",
   "execution_count": 9,
   "metadata": {},
   "outputs": [
    {
     "name": "stdout",
     "output_type": "stream",
     "text": [
      "array([4, 5, 6])\n",
      "    print(foo(A, B))\n"
     ]
    }
   ],
   "source": [
    "print(llmcoder.messages[-1]['content'])"
   ]
  }
 ],
 "metadata": {
  "kernelspec": {
   "display_name": "llmcoder",
   "language": "python",
   "name": "python3"
  },
  "language_info": {
   "codemirror_mode": {
    "name": "ipython",
    "version": 3
   },
   "file_extension": ".py",
   "mimetype": "text/x-python",
   "name": "python",
   "nbconvert_exporter": "python",
   "pygments_lexer": "ipython3",
   "version": "3.11.5"
  }
 },
 "nbformat": 4,
 "nbformat_minor": 2
}
