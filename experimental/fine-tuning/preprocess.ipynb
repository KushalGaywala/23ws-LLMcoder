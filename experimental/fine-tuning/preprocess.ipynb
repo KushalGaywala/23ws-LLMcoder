{
 "cells": [
  {
   "cell_type": "code",
   "execution_count": 29,
   "metadata": {},
   "outputs": [],
   "source": [
    "# We have scraped 25 representative repositories that use python from github.\n",
    "# The goal is to sample N = m * 25 files in total, where m is the number of files in each repository.\n",
    "\n",
    "# The sampling strategy for each repository is as follows:\n",
    "# 1. Count the number of lines in each file. A developer spend more time on a file with more lines.\n",
    "# 2. Calculate the probability of sampling each file and sample the files without replacement."
   ]
  },
  {
   "cell_type": "code",
   "execution_count": 30,
   "metadata": {},
   "outputs": [],
   "source": [
    "import os\n",
    "import random\n",
    "from tqdm import tqdm\n",
    "\n",
    "# Set a random seed for replicability\n",
    "random.seed(42)"
   ]
  },
  {
   "cell_type": "code",
   "execution_count": 31,
   "metadata": {},
   "outputs": [],
   "source": [
    "def count_lines(file_path):\n",
    "    \"\"\"\n",
    "    Count the number of lines in a file.\n",
    "    \"\"\"\n",
    "    with open(file_path, 'r', encoding='utf-8') as file:\n",
    "        return sum(1 for _ in file)\n",
    "\n",
    "def sample_files(repo_dir, m):\n",
    "    \"\"\"\n",
    "    Sample m files from a repository based on the number of lines in each file.\n",
    "    \"\"\"\n",
    "    file_paths = [os.path.join(repo_dir, file) for file in os.listdir(repo_dir) if file.endswith('.py')]\n",
    "    line_counts = [count_lines(file_path) for file_path in file_paths]\n",
    "    total_lines = sum(line_counts)\n",
    "\n",
    "    if total_lines == 0:\n",
    "        return []  # No lines to sample from\n",
    "\n",
    "    probabilities = [line_count / total_lines for line_count in line_counts]\n",
    "    sampled_files = random.choices(file_paths, weights=probabilities, k=m)\n",
    "\n",
    "    return sampled_files\n",
    "\n",
    "def get_file_contents(file_paths):\n",
    "    \"\"\"\n",
    "    Get the contents of the given files.\n",
    "    \"\"\"\n",
    "    contents = []\n",
    "    for file_path in file_paths:\n",
    "        with open(file_path, 'r', encoding='utf-8') as file:\n",
    "            contents.append(file.read())\n",
    "    return contents"
   ]
  },
  {
   "cell_type": "code",
   "execution_count": 32,
   "metadata": {},
   "outputs": [
    {
     "name": "stderr",
     "output_type": "stream",
     "text": [
      "100%|██████████| 25/25 [00:00<00:00, 142.30it/s]\n"
     ]
    }
   ],
   "source": [
    "# Assuming output directory from the previous scraping script\n",
    "output_dir = \"scraped_repos\"\n",
    "m = 3  # Number of files to sample from each repository\n",
    "sampled_files_contents = []\n",
    "\n",
    "for repo_name in tqdm(os.listdir(output_dir)):\n",
    "    repo_dir = os.path.join(output_dir, repo_name)\n",
    "    sampled_files = sample_files(repo_dir, m)\n",
    "\n",
    "    if sampled_files == []:\n",
    "        print(f\"Skipping {repo_name} because there are no files to sample from.\")\n",
    "\n",
    "    file_contents = get_file_contents(sampled_files)\n",
    "    sampled_files_contents.extend(file_contents)"
   ]
  },
  {
   "cell_type": "code",
   "execution_count": 33,
   "metadata": {},
   "outputs": [
    {
     "data": {
      "text/plain": [
       "75"
      ]
     },
     "execution_count": 33,
     "metadata": {},
     "output_type": "execute_result"
    }
   ],
   "source": [
    "len(sampled_files_contents)"
   ]
  }
 ],
 "metadata": {
  "kernelspec": {
   "display_name": "llmcoder",
   "language": "python",
   "name": "python3"
  },
  "language_info": {
   "codemirror_mode": {
    "name": "ipython",
    "version": 3
   },
   "file_extension": ".py",
   "mimetype": "text/x-python",
   "name": "python",
   "nbconvert_exporter": "python",
   "pygments_lexer": "ipython3",
   "version": "3.11.5"
  }
 },
 "nbformat": 4,
 "nbformat_minor": 2
}
