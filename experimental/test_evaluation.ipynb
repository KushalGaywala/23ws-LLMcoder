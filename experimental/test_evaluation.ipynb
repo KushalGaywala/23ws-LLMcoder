{
 "cells": [
  {
   "cell_type": "code",
   "execution_count": 1,
   "metadata": {},
   "outputs": [],
   "source": [
    "from llmcoder.utils import get_config_dir, get_system_prompt_dir, get_data_dir\n",
    "from llmcoder.eval.evaluate import Evaluation\n",
    "\n",
    "import os\n",
    "from dynaconf import Dynaconf"
   ]
  },
  {
   "cell_type": "code",
   "execution_count": 2,
   "metadata": {},
   "outputs": [],
   "source": [
    "config = Dynaconf(settings_files=[os.path.join(get_config_dir(), \"baseline_eval-curated.yaml\")])"
   ]
  },
  {
   "cell_type": "code",
   "execution_count": 3,
   "metadata": {},
   "outputs": [
    {
     "name": "stdout",
     "output_type": "stream",
     "text": [
      "Evaluation initialized with configuration: /home/psaegert/Projects/23ws-LLMcoder/src/llmcoder/../../configs/baseline_eval-curated.yaml\n",
      "Found dataset: LLMcoder-Eval/eval_curated at /home/psaegert/Projects/23ws-LLMcoder/data/LLMcoder-Eval/eval_curated/conversations.jsonl\n"
     ]
    }
   ],
   "source": [
    "eval = Evaluation(config)"
   ]
  },
  {
   "cell_type": "code",
   "execution_count": 4,
   "metadata": {},
   "outputs": [
    {
     "name": "stderr",
     "output_type": "stream",
     "text": [
      "Evaluation: 100%|██████████| 90/90 [01:13<00:00,  1.22it/s]\n",
      "Analysis: bleu_score:   3%|▎         | 3/90 [00:28<13:19,  9.19s/it]                /home/psaegert/miniconda3/envs/llmcoder/lib/python3.11/site-packages/nltk/translate/bleu_score.py:552: UserWarning: \n",
      "The hypothesis contains 0 counts of 2-gram overlaps.\n",
      "Therefore the BLEU score evaluates to 0, independently of\n",
      "how many N-gram overlaps of lower order it contains.\n",
      "Consider using lower n-gram order or use SmoothingFunction()\n",
      "  warnings.warn(_msg)\n",
      "/home/psaegert/miniconda3/envs/llmcoder/lib/python3.11/site-packages/nltk/translate/bleu_score.py:552: UserWarning: \n",
      "The hypothesis contains 0 counts of 3-gram overlaps.\n",
      "Therefore the BLEU score evaluates to 0, independently of\n",
      "how many N-gram overlaps of lower order it contains.\n",
      "Consider using lower n-gram order or use SmoothingFunction()\n",
      "  warnings.warn(_msg)\n",
      "/home/psaegert/miniconda3/envs/llmcoder/lib/python3.11/site-packages/nltk/translate/bleu_score.py:552: UserWarning: \n",
      "The hypothesis contains 0 counts of 4-gram overlaps.\n",
      "Therefore the BLEU score evaluates to 0, independently of\n",
      "how many N-gram overlaps of lower order it contains.\n",
      "Consider using lower n-gram order or use SmoothingFunction()\n",
      "  warnings.warn(_msg)\n",
      "Analysis: bleu_score:   4%|▍         | 4/90 [00:40<14:59, 10.46s/it]                /home/psaegert/miniconda3/envs/llmcoder/lib/python3.11/site-packages/nltk/translate/bleu_score.py:552: UserWarning: \n",
      "The hypothesis contains 0 counts of 4-gram overlaps.\n",
      "Therefore the BLEU score evaluates to 0, independently of\n",
      "how many N-gram overlaps of lower order it contains.\n",
      "Consider using lower n-gram order or use SmoothingFunction()\n",
      "  warnings.warn(_msg)\n",
      "Analysis: bleu_score:   9%|▉         | 8/90 [01:36<19:13, 14.07s/it]                /home/psaegert/miniconda3/envs/llmcoder/lib/python3.11/site-packages/nltk/translate/bleu_score.py:552: UserWarning: \n",
      "The hypothesis contains 0 counts of 3-gram overlaps.\n",
      "Therefore the BLEU score evaluates to 0, independently of\n",
      "how many N-gram overlaps of lower order it contains.\n",
      "Consider using lower n-gram order or use SmoothingFunction()\n",
      "  warnings.warn(_msg)\n",
      "/home/psaegert/miniconda3/envs/llmcoder/lib/python3.11/site-packages/nltk/translate/bleu_score.py:552: UserWarning: \n",
      "The hypothesis contains 0 counts of 4-gram overlaps.\n",
      "Therefore the BLEU score evaluates to 0, independently of\n",
      "how many N-gram overlaps of lower order it contains.\n",
      "Consider using lower n-gram order or use SmoothingFunction()\n",
      "  warnings.warn(_msg)\n",
      "Analysis: gpt_reviewer_score:  60%|██████    | 54/90 [13:00<06:05, 10.16s/it]        "
     ]
    }
   ],
   "source": [
    "results, analysis_results = eval.run(verbose=True)"
   ]
  },
  {
   "cell_type": "code",
   "execution_count": 6,
   "metadata": {},
   "outputs": [],
   "source": [
    "config = Dynaconf(settings_files=[os.path.join(get_config_dir(), \"plain_w_sys.yaml\")])"
   ]
  },
  {
   "cell_type": "code",
   "execution_count": 7,
   "metadata": {},
   "outputs": [
    {
     "name": "stdout",
     "output_type": "stream",
     "text": [
      "Evaluation initialized with configuration: /home/psaegert/Projects/23ws-LLMcoder/src/llmcoder/../../configs/plain_w_sys.yaml\n",
      "Found dataset: LLMcoder-Eval/github_mix at /home/psaegert/Projects/23ws-LLMcoder/data/LLMcoder-Eval/github_mix/conversations.jsonl\n"
     ]
    }
   ],
   "source": [
    "eval = Evaluation(config)"
   ]
  },
  {
   "cell_type": "code",
   "execution_count": 8,
   "metadata": {},
   "outputs": [
    {
     "name": "stderr",
     "output_type": "stream",
     "text": [
      "Evaluation: 100%|██████████| 96/96 [54:40<00:00, 34.18s/it]   \n",
      "Analysis: bleu_score:  15%|█▍        | 14/96 [03:34<18:44, 13.71s/it]                /home/psaegert/miniconda3/envs/llmcoder/lib/python3.11/site-packages/nltk/translate/bleu_score.py:552: UserWarning: \n",
      "The hypothesis contains 0 counts of 4-gram overlaps.\n",
      "Therefore the BLEU score evaluates to 0, independently of\n",
      "how many N-gram overlaps of lower order it contains.\n",
      "Consider using lower n-gram order or use SmoothingFunction()\n",
      "  warnings.warn(_msg)\n",
      "Analysis: bleu_score:  34%|███▍      | 33/96 [07:35<15:34, 14.83s/it]                /home/psaegert/miniconda3/envs/llmcoder/lib/python3.11/site-packages/nltk/translate/bleu_score.py:552: UserWarning: \n",
      "The hypothesis contains 0 counts of 3-gram overlaps.\n",
      "Therefore the BLEU score evaluates to 0, independently of\n",
      "how many N-gram overlaps of lower order it contains.\n",
      "Consider using lower n-gram order or use SmoothingFunction()\n",
      "  warnings.warn(_msg)\n",
      "/home/psaegert/miniconda3/envs/llmcoder/lib/python3.11/site-packages/nltk/translate/bleu_score.py:552: UserWarning: \n",
      "The hypothesis contains 0 counts of 4-gram overlaps.\n",
      "Therefore the BLEU score evaluates to 0, independently of\n",
      "how many N-gram overlaps of lower order it contains.\n",
      "Consider using lower n-gram order or use SmoothingFunction()\n",
      "  warnings.warn(_msg)\n",
      "Analysis: bleu_score:  56%|█████▋    | 54/96 [12:21<09:02, 12.91s/it]                /home/psaegert/miniconda3/envs/llmcoder/lib/python3.11/site-packages/nltk/translate/bleu_score.py:552: UserWarning: \n",
      "The hypothesis contains 0 counts of 4-gram overlaps.\n",
      "Therefore the BLEU score evaluates to 0, independently of\n",
      "how many N-gram overlaps of lower order it contains.\n",
      "Consider using lower n-gram order or use SmoothingFunction()\n",
      "  warnings.warn(_msg)\n",
      "Analysis: bleu_score:  76%|███████▌  | 73/96 [26:42<29:00, 75.67s/it]                   /home/psaegert/miniconda3/envs/llmcoder/lib/python3.11/site-packages/nltk/translate/bleu_score.py:552: UserWarning: \n",
      "The hypothesis contains 0 counts of 3-gram overlaps.\n",
      "Therefore the BLEU score evaluates to 0, independently of\n",
      "how many N-gram overlaps of lower order it contains.\n",
      "Consider using lower n-gram order or use SmoothingFunction()\n",
      "  warnings.warn(_msg)\n",
      "/home/psaegert/miniconda3/envs/llmcoder/lib/python3.11/site-packages/nltk/translate/bleu_score.py:552: UserWarning: \n",
      "The hypothesis contains 0 counts of 4-gram overlaps.\n",
      "Therefore the BLEU score evaluates to 0, independently of\n",
      "how many N-gram overlaps of lower order it contains.\n",
      "Consider using lower n-gram order or use SmoothingFunction()\n",
      "  warnings.warn(_msg)\n",
      "Analysis: bleu_score:  78%|███████▊  | 75/96 [27:05<15:07, 43.19s/it]                /home/psaegert/miniconda3/envs/llmcoder/lib/python3.11/site-packages/nltk/translate/bleu_score.py:552: UserWarning: \n",
      "The hypothesis contains 0 counts of 4-gram overlaps.\n",
      "Therefore the BLEU score evaluates to 0, independently of\n",
      "how many N-gram overlaps of lower order it contains.\n",
      "Consider using lower n-gram order or use SmoothingFunction()\n",
      "  warnings.warn(_msg)\n",
      "Analysis: bleu_score:  80%|████████  | 77/96 [27:31<08:40, 27.42s/it]                /home/psaegert/miniconda3/envs/llmcoder/lib/python3.11/site-packages/nltk/translate/bleu_score.py:552: UserWarning: \n",
      "The hypothesis contains 0 counts of 2-gram overlaps.\n",
      "Therefore the BLEU score evaluates to 0, independently of\n",
      "how many N-gram overlaps of lower order it contains.\n",
      "Consider using lower n-gram order or use SmoothingFunction()\n",
      "  warnings.warn(_msg)\n",
      "/home/psaegert/miniconda3/envs/llmcoder/lib/python3.11/site-packages/nltk/translate/bleu_score.py:552: UserWarning: \n",
      "The hypothesis contains 0 counts of 3-gram overlaps.\n",
      "Therefore the BLEU score evaluates to 0, independently of\n",
      "how many N-gram overlaps of lower order it contains.\n",
      "Consider using lower n-gram order or use SmoothingFunction()\n",
      "  warnings.warn(_msg)\n",
      "/home/psaegert/miniconda3/envs/llmcoder/lib/python3.11/site-packages/nltk/translate/bleu_score.py:552: UserWarning: \n",
      "The hypothesis contains 0 counts of 4-gram overlaps.\n",
      "Therefore the BLEU score evaluates to 0, independently of\n",
      "how many N-gram overlaps of lower order it contains.\n",
      "Consider using lower n-gram order or use SmoothingFunction()\n",
      "  warnings.warn(_msg)\n",
      "Analysis: bleu_score:  85%|████████▌ | 82/96 [28:36<03:25, 14.71s/it]                /home/psaegert/miniconda3/envs/llmcoder/lib/python3.11/site-packages/nltk/translate/bleu_score.py:552: UserWarning: \n",
      "The hypothesis contains 0 counts of 4-gram overlaps.\n",
      "Therefore the BLEU score evaluates to 0, independently of\n",
      "how many N-gram overlaps of lower order it contains.\n",
      "Consider using lower n-gram order or use SmoothingFunction()\n",
      "  warnings.warn(_msg)\n",
      "Analysis: agility_score: 100%|██████████| 96/96 [31:00<00:00, 19.38s/it]             \n"
     ]
    }
   ],
   "source": [
    "results, analysis_results = eval.run(verbose=True)"
   ]
  },
  {
   "cell_type": "code",
   "execution_count": null,
   "metadata": {},
   "outputs": [],
   "source": [
    "# import pandas as pd\n",
    "# import matplotlib.pyplot as plt\n",
    "# import re\n",
    "# import os"
   ]
  },
  {
   "cell_type": "code",
   "execution_count": null,
   "metadata": {},
   "outputs": [],
   "source": [
    "# df_list = [pd.read_csv(os.path.join(get_data_dir(\"eval\"), filename), index_col=0) for filename in os.listdir(get_data_dir(\"eval\")) if filename.endswith(\".csv\")]\n",
    "# df_filename_list = [filename for filename in os.listdir(get_data_dir(\"eval\"))]\n",
    "# # Extract the config name from the filename, e.g. \"plain_w_sys\", from \"results_plain_w_sys_2023-11-28_21-22-17.csv\"\n",
    "# pattern = r\"results_(.+)_\\d{4}-\\d{2}-\\d{2}_\\d{2}-\\d{2}-\\d{2}.csv\"\n",
    "# config_name_list = [re.search(pattern, filename) for filename in df_filename_list]\n",
    "# config_name_list = [match.group(1) for match in config_name_list if match is not None]"
   ]
  },
  {
   "cell_type": "code",
   "execution_count": null,
   "metadata": {},
   "outputs": [],
   "source": [
    "# fig, axes = plt.subplots(len(df_list), len(df_list[0].columns), figsize=(len(df_list[0].columns) * 5, len(df_list) * 3))\n",
    "\n",
    "# for (df, axes_row, config_name) in zip(df_list, axes, config_name_list):\n",
    "#     for i, (col, ax) in enumerate(zip(df.columns, axes_row)):\n",
    "#         ax.hist(df[col], bins=20, label=config_name if i == 0 else None)\n",
    "#         ax.set_title(col)\n",
    "#         ax.set_xlabel('Score')\n",
    "#         ax.set_ylabel('Frequency')\n",
    "\n",
    "#         if i == 0:\n",
    "#             ax.legend()\n",
    "\n",
    "# plt.tight_layout()"
   ]
  }
 ],
 "metadata": {
  "kernelspec": {
   "display_name": "llmcoder",
   "language": "python",
   "name": "python3"
  },
  "language_info": {
   "codemirror_mode": {
    "name": "ipython",
    "version": 3
   },
   "file_extension": ".py",
   "mimetype": "text/x-python",
   "name": "python",
   "nbconvert_exporter": "python",
   "pygments_lexer": "ipython3",
   "version": "3.11.5"
  }
 },
 "nbformat": 4,
 "nbformat_minor": 2
}
