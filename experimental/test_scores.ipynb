{
 "cells": [
  {
   "cell_type": "code",
   "execution_count": 1,
   "metadata": {},
   "outputs": [
    {
     "name": "stderr",
     "output_type": "stream",
     "text": [
      "/home/psaegert/miniconda3/envs/llmcoder/lib/python3.11/site-packages/tqdm/auto.py:21: TqdmWarning: IProgress not found. Please update jupyter and ipywidgets. See https://ipywidgets.readthedocs.io/en/stable/user_install.html\n",
      "  from .autonotebook import tqdm as notebook_tqdm\n"
     ]
    }
   ],
   "source": [
    "from llmcoder.eval.metrics.extrinsic import levenshtein_distance_score, bleu_score, trf_similarity_score, sequence_matcher_score, gpt_reviewer_score\n"
   ]
  },
  {
   "cell_type": "code",
   "execution_count": 2,
   "metadata": {},
   "outputs": [],
   "source": [
    "fib1 = \"\"\"\n",
    "# Function that returns the nth Fibonacci number\n",
    "def fibonacci_recursive(n):\n",
    "    if n <= 0:\n",
    "        return []\n",
    "    elif n == 1:\n",
    "        return [0]\n",
    "    elif n == 2:\n",
    "        return [0, 1]\n",
    "    else:\n",
    "        sequence = fibonacci_recursive(n-1)\n",
    "        sequence.append(sequence[-1] + sequence[-2])\n",
    "        return sequence\n",
    "\"\"\""
   ]
  },
  {
   "cell_type": "code",
   "execution_count": 3,
   "metadata": {},
   "outputs": [],
   "source": [
    "fib2 = \"\"\"\n",
    "# Function that returns the nth Fibonacci number\n",
    "def fibonacci_iterative(n):\n",
    "    if n <= 0:\n",
    "        return []\n",
    "    elif n == 1:\n",
    "        return [0]\n",
    "    sequence = [0, 1]\n",
    "    for i in range(2, n):\n",
    "        sequence.append(sequence[i-1] + sequence[i-2])\n",
    "    return sequence\n",
    "\"\"\""
   ]
  },
  {
   "cell_type": "code",
   "execution_count": 4,
   "metadata": {},
   "outputs": [],
   "source": [
    "fib3 = \"\"\"\n",
    "# Function that returns the nth Fibonacci number\n",
    "def fibonacci_memoization(n, memo = {0: 0, 1: 1}):\n",
    "    if n not in memo:\n",
    "        memo[n] = fibonacci_memoization(n-1, memo) + fibonacci_memoization(n-2, memo)\n",
    "    return [memo[i] for i in range(n)]\n",
    "\"\"\""
   ]
  },
  {
   "cell_type": "code",
   "execution_count": 5,
   "metadata": {},
   "outputs": [],
   "source": [
    "geo1 = \"\"\"\n",
    "# Function that returns the nth Fibonacci number\n",
    "import math\n",
    "\n",
    "def geometric_mean(numbers):\n",
    "    if not numbers:\n",
    "        return 0\n",
    "\n",
    "    product = 1\n",
    "    for number in numbers:\n",
    "        product *= number\n",
    "\n",
    "    return math.pow(product, 1/len(numbers))\n",
    "\"\"\""
   ]
  },
  {
   "cell_type": "code",
   "execution_count": 6,
   "metadata": {},
   "outputs": [],
   "source": [
    "scores_list = [\n",
    "    ('levenshtein', levenshtein_distance_score),\n",
    "    ('bleu', bleu_score),\n",
    "    ('trf', trf_similarity_score),\n",
    "    ('seq', sequence_matcher_score),\n",
    "    ('gpt', gpt_reviewer_score)\n",
    "]"
   ]
  },
  {
   "cell_type": "code",
   "execution_count": 7,
   "metadata": {},
   "outputs": [
    {
     "name": "stdout",
     "output_type": "stream",
     "text": [
      "levenshtein\n",
      "fib1 vs fib1: 0.000\n",
      "fib1 vs fib2: 79.000\n",
      "fib1 vs fib3: 184.000\n",
      "fib1 vs geo1: 186.000\n",
      "bleu\n",
      "fib1 vs fib1: 1.000\n",
      "fib1 vs fib2: 0.752\n",
      "fib1 vs fib3: 0.397\n",
      "fib1 vs geo1: 0.379\n",
      "trf\n",
      "fib1 vs fib1: 1.000\n",
      "fib1 vs fib2: 0.937\n",
      "fib1 vs fib3: 0.895\n",
      "fib1 vs geo1: 0.820\n",
      "seq\n",
      "fib1 vs fib1: 1.000\n",
      "fib1 vs fib2: 0.624\n",
      "fib1 vs fib3: 0.329\n",
      "fib1 vs geo1: 0.306\n",
      "gpt\n",
      "fib1 vs fib1: 0.000\n",
      "fib1 vs fib2: 1.000\n",
      "fib1 vs fib3: 1.000\n",
      "fib1 vs geo1: -2.000\n"
     ]
    }
   ],
   "source": [
    "# Take fib1 as ground truth and compare the similarity of fib1 to fib2 and fib3 and geo1\n",
    "\n",
    "for name, score_func in scores_list:\n",
    "    print(name)\n",
    "    print(f'fib1 vs fib1: {score_func(fib1, fib1):.3f}')\n",
    "    print(f'fib1 vs fib2: {score_func(fib1, fib2):.3f}')\n",
    "    print(f'fib1 vs fib3: {score_func(fib1, fib3):.3f}')\n",
    "    print(f'fib1 vs geo1: {score_func(fib1, geo1):.3f}')"
   ]
  }
 ],
 "metadata": {
  "kernelspec": {
   "display_name": "llmcoder",
   "language": "python",
   "name": "python3"
  },
  "language_info": {
   "codemirror_mode": {
    "name": "ipython",
    "version": 3
   },
   "file_extension": ".py",
   "mimetype": "text/x-python",
   "name": "python",
   "nbconvert_exporter": "python",
   "pygments_lexer": "ipython3",
   "version": "3.11.5"
  }
 },
 "nbformat": 4,
 "nbformat_minor": 2
}
