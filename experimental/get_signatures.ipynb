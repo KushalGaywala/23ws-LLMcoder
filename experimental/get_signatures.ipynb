{
 "cells": [
  {
   "cell_type": "code",
   "execution_count": 74,
   "metadata": {},
   "outputs": [],
   "source": [
    "import ast\n",
    "import inspect"
   ]
  },
  {
   "cell_type": "code",
   "execution_count": 75,
   "metadata": {},
   "outputs": [],
   "source": [
    "code = \"\"\"\n",
    "import numpy as np\n",
    "from pandas import DataFrame\n",
    "\n",
    "from llmcoder.utils import get_data_dir\n",
    "\n",
    "print(np.array([1,2,3]))\n",
    "df = DataFrame({'a': [1,2,3], 'b': [4,5,6]})\n",
    "illegal_df = DataFrame('not_a_dict')\n",
    "\n",
    "print(get_data_dir(1))\n",
    "\"\"\""
   ]
  },
  {
   "cell_type": "code",
   "execution_count": 76,
   "metadata": {},
   "outputs": [],
   "source": [
    "import ast\n",
    "\n",
    "def extract_import_usages(code):\n",
    "    # Parse the code into an AST\n",
    "    tree = ast.parse(code)\n",
    "\n",
    "    # Mapping of aliases to module names\n",
    "    import_map = {}\n",
    "\n",
    "    # Function to handle import and import from statements\n",
    "    def handle_import(node):\n",
    "        if isinstance(node, ast.Import):\n",
    "            for name in node.names:\n",
    "                import_map[name.asname or name.name] = name.name\n",
    "        elif isinstance(node, ast.ImportFrom):\n",
    "            module = node.module\n",
    "            for name in node.names:\n",
    "                full_name = f\"{module}.{name.name}\"\n",
    "                import_map[name.asname or name.name] = full_name\n",
    "\n",
    "    # Walk the AST and populate the import map\n",
    "    for node in ast.walk(tree):\n",
    "        if isinstance(node, (ast.Import, ast.ImportFrom)):\n",
    "            handle_import(node)\n",
    "\n",
    "    # Function to extract function or class usages\n",
    "    def extract_usages(node):\n",
    "        if isinstance(node, ast.Call) and isinstance(node.func, ast.Attribute):\n",
    "            module_name = node.func.value.id\n",
    "            if module_name in import_map:\n",
    "                func_name = node.func.attr\n",
    "                return f\"{import_map[module_name]}.{func_name}\"\n",
    "        elif isinstance(node, ast.Call) and isinstance(node.func, ast.Name):\n",
    "            name = node.func.id\n",
    "            if name in import_map:\n",
    "                return import_map[name]\n",
    "        return None\n",
    "\n",
    "    # Extract and return all usages\n",
    "    usages = [extract_usages(node) for node in ast.walk(tree)]\n",
    "    return [usage for usage in usages if usage is not None]"
   ]
  },
  {
   "cell_type": "code",
   "execution_count": 77,
   "metadata": {},
   "outputs": [],
   "source": [
    "import builtins\n",
    "\n",
    "def extract_builtin_usages(code):\n",
    "    # Parse the code into an AST\n",
    "    tree = ast.parse(code)\n",
    "\n",
    "    # List of all built-in function names\n",
    "    builtin_functions = [func for func in dir(builtins) if callable(getattr(builtins, func))]\n",
    "\n",
    "    # Function to extract built-in function usages\n",
    "    def extract_usages(node):\n",
    "        if isinstance(node, ast.Call) and isinstance(node.func, ast.Name):\n",
    "            if node.func.id in builtin_functions:\n",
    "                return node.func.id\n",
    "        return None\n",
    "\n",
    "    # Extract and return all built-in function usages\n",
    "    usages = [extract_usages(node) for node in ast.walk(tree)]\n",
    "    return [\"builtins.\" + usage for usage in usages if usage is not None]\n"
   ]
  },
  {
   "cell_type": "code",
   "execution_count": 78,
   "metadata": {},
   "outputs": [
    {
     "name": "stdout",
     "output_type": "stream",
     "text": [
      "{'llmcoder.utils.get_data_dir', 'pandas.DataFrame', 'numpy.array'}\n"
     ]
    }
   ],
   "source": [
    "usages = set(extract_import_usages(code))\n",
    "print(usages)"
   ]
  },
  {
   "cell_type": "code",
   "execution_count": 79,
   "metadata": {},
   "outputs": [
    {
     "name": "stdout",
     "output_type": "stream",
     "text": [
      "{'builtins.print'}\n"
     ]
    }
   ],
   "source": [
    "builtin_usages = set(extract_builtin_usages(code))\n",
    "print(builtin_usages)"
   ]
  },
  {
   "cell_type": "code",
   "execution_count": 80,
   "metadata": {},
   "outputs": [],
   "source": [
    "all_usages = usages.union(builtin_usages)"
   ]
  },
  {
   "cell_type": "code",
   "execution_count": 81,
   "metadata": {},
   "outputs": [],
   "source": [
    "import inspect\n",
    "import importlib\n",
    "\n",
    "def get_signature(usage):\n",
    "    module_name, _, attr_name = usage.rpartition('.')\n",
    "    try:\n",
    "        module = importlib.import_module(module_name)\n",
    "        attr = getattr(module, attr_name)\n",
    "        if callable(attr):\n",
    "            try:\n",
    "                return inspect.signature(attr)\n",
    "            except ValueError:\n",
    "                # For built-in functions, return the docstring as a fallback\n",
    "                return attr.__doc__\n",
    "        else:\n",
    "            return f\"{attr_name} is not callable\"\n",
    "    except ImportError:\n",
    "        return f\"Module {module_name} not found\"\n",
    "    except AttributeError:\n",
    "        return f\"{attr_name} not found in {module_name}\""
   ]
  },
  {
   "cell_type": "code",
   "execution_count": 82,
   "metadata": {},
   "outputs": [
    {
     "name": "stdout",
     "output_type": "stream",
     "text": [
      "llmcoder.utils.get_data_dir: (*args: str, create: bool = False) -> str\n",
      "pandas.DataFrame: (data=None, index: 'Axes | None' = None, columns: 'Axes | None' = None, dtype: 'Dtype | None' = None, copy: 'bool | None' = None) -> 'None'\n",
      "builtins.print: (*args, sep=' ', end='\\n', file=None, flush=False)\n",
      "numpy.array: array(object, dtype=None, *, copy=True, order='K', subok=False, ndmin=0,\n",
      "          like=None)\n",
      "\n",
      "    Create an array.\n",
      "\n",
      "    Parameters\n",
      "    ----------\n",
      "    object : array_like\n",
      "        An array, any object exposing the array interface, an object whose\n",
      "        ``__array__`` method returns an array, or any (nested) sequence.\n",
      "        If object is a scalar, a 0-dimensional array containing object is\n",
      "        returned.\n",
      "    dtype : data-type, optional\n",
      "        The desired data-type for the array. If not given, NumPy will try to use\n",
      "        a default ``dtype`` that can represent the values (by applying promotion\n",
      "        rules when necessary.)\n",
      "    copy : bool, optional\n",
      "        If true (default), then the object is copied.  Otherwise, a copy will\n",
      "        only be made if ``__array__`` returns a copy, if obj is a nested\n",
      "        sequence, or if a copy is needed to satisfy any of the other\n",
      "        requirements (``dtype``, ``order``, etc.).\n",
      "    order : {'K', 'A', 'C', 'F'}, optional\n",
      "        Specify the memory layout of the array. If object is not an array, the\n",
      "        newly created array will be in C order (row major) unless 'F' is\n",
      "        specified, in which case it will be in Fortran order (column major).\n",
      "        If object is an array the following holds.\n",
      "\n",
      "        ===== ========= ===================================================\n",
      "        order  no copy                     copy=True\n",
      "        ===== ========= ===================================================\n",
      "        'K'   unchanged F & C order preserved, otherwise most similar order\n",
      "        'A'   unchanged F order if input is F and not C, otherwise C order\n",
      "        'C'   C order   C order\n",
      "        'F'   F order   F order\n",
      "        ===== ========= ===================================================\n",
      "\n",
      "        When ``copy=False`` and a copy is made for other reasons, the result is\n",
      "        the same as if ``copy=True``, with some exceptions for 'A', see the\n",
      "        Notes section. The default order is 'K'.\n",
      "    subok : bool, optional\n",
      "        If True, then sub-classes will be passed-through, otherwise\n",
      "        the returned array will be forced to be a base-class array (default).\n",
      "    ndmin : int, optional\n",
      "        Specifies the minimum number of dimensions that the resulting\n",
      "        array should have.  Ones will be prepended to the shape as\n",
      "        needed to meet this requirement.\n",
      "    like : array_like, optional\n",
      "        Reference object to allow the creation of arrays which are not\n",
      "        NumPy arrays. If an array-like passed in as ``like`` supports\n",
      "        the ``__array_function__`` protocol, the result will be defined\n",
      "        by it. In this case, it ensures the creation of an array object\n",
      "        compatible with that passed in via this argument.\n",
      "\n",
      "        .. versionadded:: 1.20.0\n",
      "\n",
      "    Returns\n",
      "    -------\n",
      "    out : ndarray\n",
      "        An array object satisfying the specified requirements.\n",
      "\n",
      "    See Also\n",
      "    --------\n",
      "    empty_like : Return an empty array with shape and type of input.\n",
      "    ones_like : Return an array of ones with shape and type of input.\n",
      "    zeros_like : Return an array of zeros with shape and type of input.\n",
      "    full_like : Return a new array with shape of input filled with value.\n",
      "    empty : Return a new uninitialized array.\n",
      "    ones : Return a new array setting values to one.\n",
      "    zeros : Return a new array setting values to zero.\n",
      "    full : Return a new array of given shape filled with value.\n",
      "\n",
      "\n",
      "    Notes\n",
      "    -----\n",
      "    When order is 'A' and ``object`` is an array in neither 'C' nor 'F' order,\n",
      "    and a copy is forced by a change in dtype, then the order of the result is\n",
      "    not necessarily 'C' as expected. This is likely a bug.\n",
      "\n",
      "    Examples\n",
      "    --------\n",
      "    >>> np.array([1, 2, 3])\n",
      "    array([1, 2, 3])\n",
      "\n",
      "    Upcasting:\n",
      "\n",
      "    >>> np.array([1, 2, 3.0])\n",
      "    array([ 1.,  2.,  3.])\n",
      "\n",
      "    More than one dimension:\n",
      "\n",
      "    >>> np.array([[1, 2], [3, 4]])\n",
      "    array([[1, 2],\n",
      "           [3, 4]])\n",
      "\n",
      "    Minimum dimensions 2:\n",
      "\n",
      "    >>> np.array([1, 2, 3], ndmin=2)\n",
      "    array([[1, 2, 3]])\n",
      "\n",
      "    Type provided:\n",
      "\n",
      "    >>> np.array([1, 2, 3], dtype=complex)\n",
      "    array([ 1.+0.j,  2.+0.j,  3.+0.j])\n",
      "\n",
      "    Data-type consisting of more than one element:\n",
      "\n",
      "    >>> x = np.array([(1,2),(3,4)],dtype=[('a','<i4'),('b','<i4')])\n",
      "    >>> x['a']\n",
      "    array([1, 3])\n",
      "\n",
      "    Creating an array from sub-classes:\n",
      "\n",
      "    >>> np.array(np.mat('1 2; 3 4'))\n",
      "    array([[1, 2],\n",
      "           [3, 4]])\n",
      "\n",
      "    >>> np.array(np.mat('1 2; 3 4'), subok=True)\n",
      "    matrix([[1, 2],\n",
      "            [3, 4]])\n"
     ]
    }
   ],
   "source": [
    "for usage in all_usages:\n",
    "    print(f\"{usage}: {get_signature(usage)}\")"
   ]
  },
  {
   "cell_type": "code",
   "execution_count": 83,
   "metadata": {},
   "outputs": [],
   "source": [
    "def extract_function_usages_with_args(code):\n",
    "    tree = ast.parse(code)\n",
    "    function_usages = []\n",
    "\n",
    "    for node in ast.walk(tree):\n",
    "        if isinstance(node, ast.Call):\n",
    "            function_name = ''\n",
    "            if isinstance(node.func, ast.Attribute):\n",
    "                function_name = node.func.attr\n",
    "            elif isinstance(node.func, ast.Name):\n",
    "                function_name = node.func.id\n",
    "            \n",
    "            args = [type(arg).__name__ for arg in node.args]  # Extract argument types\n",
    "            kwargs = [type(value).__name__ for key, value in zip(node.keywords, node.keywords)]\n",
    "            function_usages.append((function_name, args, kwargs))\n",
    "\n",
    "    return function_usages"
   ]
  },
  {
   "cell_type": "code",
   "execution_count": 84,
   "metadata": {},
   "outputs": [
    {
     "name": "stdout",
     "output_type": "stream",
     "text": [
      "[('print', ['Call'], []), ('DataFrame', ['Dict'], []), ('DataFrame', ['Constant'], []), ('print', ['Call'], []), ('array', ['List'], []), ('get_data_dir', ['Constant'], [])]\n"
     ]
    }
   ],
   "source": [
    "usages_with_args = extract_function_usages_with_args(code)\n",
    "print(usages_with_args)"
   ]
  },
  {
   "cell_type": "code",
   "execution_count": 85,
   "metadata": {},
   "outputs": [],
   "source": [
    "def match_arg_types(usage_args, sig_params):\n",
    "    \"\"\"\n",
    "    Match the types of arguments in usage against the expected types in the signature.\n",
    "    For simplification, we'll just compare the count and presence of 'args' and 'kwargs'.\n",
    "    \"\"\"\n",
    "    positional_args = [param for param in sig_params.values() if param.kind in [param.POSITIONAL_OR_KEYWORD, param.POSITIONAL_ONLY]]\n",
    "    keyword_args = [param for param in sig_params.values() if param.kind == param.KEYWORD_ONLY]\n",
    "    \n",
    "    # Check positional arguments\n",
    "    if len(usage_args) > len(positional_args):\n",
    "        return False  # Too many arguments\n",
    "\n",
    "    # For simplicity, this version won't delve into deeper type matching\n",
    "    # It assumes that if the count is right, the types are matched.\n",
    "    # In a more advanced implementation, you could attempt to match the types more accurately.\n",
    "\n",
    "    # Check keyword arguments - this implementation assumes correct usage of keyword arguments\n",
    "    # A more advanced implementation would check the actual keyword names and types\n",
    "\n",
    "    return True"
   ]
  },
  {
   "cell_type": "code",
   "execution_count": 86,
   "metadata": {},
   "outputs": [],
   "source": [
    "def usage_matches_signature(usage, signature):\n",
    "    func_name, args, kwargs = usage\n",
    "    sig_params = signature.parameters\n",
    "\n",
    "    # Count the number of required positional arguments\n",
    "    required_args_count = sum(1 for param in sig_params.values() if param.default is param.empty and param.kind == param.POSITIONAL_OR_KEYWORD)\n",
    "\n",
    "    # Check if the number of arguments matches\n",
    "    if len(args) < required_args_count:\n",
    "        return False\n",
    "\n",
    "    # Check for excess arguments if the function does not accept variadic arguments\n",
    "    if not any(param.kind == param.VAR_POSITIONAL for param in sig_params.values()):\n",
    "        if len(args) > len(sig_params):\n",
    "            return False\n",
    "        \n",
    "    if not match_arg_types(args, sig_params):\n",
    "        return False\n",
    "\n",
    "    # Further type checks can be added here, based on the types in 'args' and the expected types from 'signature'\n",
    "    # However, this requires a more complex implementation and type inference system\n",
    "\n",
    "    return True"
   ]
  },
  {
   "cell_type": "code",
   "execution_count": 87,
   "metadata": {},
   "outputs": [
    {
     "data": {
      "text/plain": [
       "{'builtins.print',\n",
       " 'llmcoder.utils.get_data_dir',\n",
       " 'numpy.array',\n",
       " 'pandas.DataFrame'}"
      ]
     },
     "execution_count": 87,
     "metadata": {},
     "output_type": "execute_result"
    }
   ],
   "source": [
    "all_usages"
   ]
  },
  {
   "cell_type": "code",
   "execution_count": 88,
   "metadata": {},
   "outputs": [
    {
     "data": {
      "text/plain": [
       "[('print', ['Call'], []),\n",
       " ('DataFrame', ['Dict'], []),\n",
       " ('DataFrame', ['Constant'], []),\n",
       " ('print', ['Call'], []),\n",
       " ('array', ['List'], []),\n",
       " ('get_data_dir', ['Constant'], [])]"
      ]
     },
     "execution_count": 88,
     "metadata": {},
     "output_type": "execute_result"
    }
   ],
   "source": [
    "usages_with_args"
   ]
  },
  {
   "cell_type": "code",
   "execution_count": 89,
   "metadata": {},
   "outputs": [],
   "source": [
    "def create_usage_signature_list(unique_usages, usages_with_args, get_signature_func):\n",
    "    # Map short function names to their fully qualified names\n",
    "    name_mapping = {name.split('.')[-1]: name for name in unique_usages}\n",
    "\n",
    "    usage_signature_list = []\n",
    "\n",
    "    for usage in usages_with_args:\n",
    "        func_name, args, kwargs = usage\n",
    "        qualified_name = name_mapping.get(func_name, func_name)\n",
    "\n",
    "        signature = get_signature_func(qualified_name)\n",
    "        usage_signature_list.append({\n",
    "            \"usage\": usage,\n",
    "            \"signature\": signature\n",
    "        })\n",
    "\n",
    "    return usage_signature_list"
   ]
  },
  {
   "cell_type": "code",
   "execution_count": 90,
   "metadata": {},
   "outputs": [
    {
     "name": "stdout",
     "output_type": "stream",
     "text": [
      "{'usage': ('print', ['Call'], []), 'signature': <Signature (*args, sep=' ', end='\\n', file=None, flush=False)>}\n",
      "{'usage': ('DataFrame', ['Dict'], []), 'signature': <Signature (data=None, index: 'Axes | None' = None, columns: 'Axes | None' = None, dtype: 'Dtype | None' = None, copy: 'bool | None' = None) -> 'None'>}\n",
      "{'usage': ('DataFrame', ['Constant'], []), 'signature': <Signature (data=None, index: 'Axes | None' = None, columns: 'Axes | None' = None, dtype: 'Dtype | None' = None, copy: 'bool | None' = None) -> 'None'>}\n",
      "{'usage': ('print', ['Call'], []), 'signature': <Signature (*args, sep=' ', end='\\n', file=None, flush=False)>}\n",
      "{'usage': ('array', ['List'], []), 'signature': \"array(object, dtype=None, *, copy=True, order='K', subok=False, ndmin=0,\\n          like=None)\\n\\n    Create an array.\\n\\n    Parameters\\n    ----------\\n    object : array_like\\n        An array, any object exposing the array interface, an object whose\\n        ``__array__`` method returns an array, or any (nested) sequence.\\n        If object is a scalar, a 0-dimensional array containing object is\\n        returned.\\n    dtype : data-type, optional\\n        The desired data-type for the array. If not given, NumPy will try to use\\n        a default ``dtype`` that can represent the values (by applying promotion\\n        rules when necessary.)\\n    copy : bool, optional\\n        If true (default), then the object is copied.  Otherwise, a copy will\\n        only be made if ``__array__`` returns a copy, if obj is a nested\\n        sequence, or if a copy is needed to satisfy any of the other\\n        requirements (``dtype``, ``order``, etc.).\\n    order : {'K', 'A', 'C', 'F'}, optional\\n        Specify the memory layout of the array. If object is not an array, the\\n        newly created array will be in C order (row major) unless 'F' is\\n        specified, in which case it will be in Fortran order (column major).\\n        If object is an array the following holds.\\n\\n        ===== ========= ===================================================\\n        order  no copy                     copy=True\\n        ===== ========= ===================================================\\n        'K'   unchanged F & C order preserved, otherwise most similar order\\n        'A'   unchanged F order if input is F and not C, otherwise C order\\n        'C'   C order   C order\\n        'F'   F order   F order\\n        ===== ========= ===================================================\\n\\n        When ``copy=False`` and a copy is made for other reasons, the result is\\n        the same as if ``copy=True``, with some exceptions for 'A', see the\\n        Notes section. The default order is 'K'.\\n    subok : bool, optional\\n        If True, then sub-classes will be passed-through, otherwise\\n        the returned array will be forced to be a base-class array (default).\\n    ndmin : int, optional\\n        Specifies the minimum number of dimensions that the resulting\\n        array should have.  Ones will be prepended to the shape as\\n        needed to meet this requirement.\\n    like : array_like, optional\\n        Reference object to allow the creation of arrays which are not\\n        NumPy arrays. If an array-like passed in as ``like`` supports\\n        the ``__array_function__`` protocol, the result will be defined\\n        by it. In this case, it ensures the creation of an array object\\n        compatible with that passed in via this argument.\\n\\n        .. versionadded:: 1.20.0\\n\\n    Returns\\n    -------\\n    out : ndarray\\n        An array object satisfying the specified requirements.\\n\\n    See Also\\n    --------\\n    empty_like : Return an empty array with shape and type of input.\\n    ones_like : Return an array of ones with shape and type of input.\\n    zeros_like : Return an array of zeros with shape and type of input.\\n    full_like : Return a new array with shape of input filled with value.\\n    empty : Return a new uninitialized array.\\n    ones : Return a new array setting values to one.\\n    zeros : Return a new array setting values to zero.\\n    full : Return a new array of given shape filled with value.\\n\\n\\n    Notes\\n    -----\\n    When order is 'A' and ``object`` is an array in neither 'C' nor 'F' order,\\n    and a copy is forced by a change in dtype, then the order of the result is\\n    not necessarily 'C' as expected. This is likely a bug.\\n\\n    Examples\\n    --------\\n    >>> np.array([1, 2, 3])\\n    array([1, 2, 3])\\n\\n    Upcasting:\\n\\n    >>> np.array([1, 2, 3.0])\\n    array([ 1.,  2.,  3.])\\n\\n    More than one dimension:\\n\\n    >>> np.array([[1, 2], [3, 4]])\\n    array([[1, 2],\\n           [3, 4]])\\n\\n    Minimum dimensions 2:\\n\\n    >>> np.array([1, 2, 3], ndmin=2)\\n    array([[1, 2, 3]])\\n\\n    Type provided:\\n\\n    >>> np.array([1, 2, 3], dtype=complex)\\n    array([ 1.+0.j,  2.+0.j,  3.+0.j])\\n\\n    Data-type consisting of more than one element:\\n\\n    >>> x = np.array([(1,2),(3,4)],dtype=[('a','<i4'),('b','<i4')])\\n    >>> x['a']\\n    array([1, 3])\\n\\n    Creating an array from sub-classes:\\n\\n    >>> np.array(np.mat('1 2; 3 4'))\\n    array([[1, 2],\\n           [3, 4]])\\n\\n    >>> np.array(np.mat('1 2; 3 4'), subok=True)\\n    matrix([[1, 2],\\n            [3, 4]])\"}\n",
      "{'usage': ('get_data_dir', ['Constant'], []), 'signature': <Signature (*args: str, create: bool = False) -> str>}\n"
     ]
    }
   ],
   "source": [
    "usage_signature_list = create_usage_signature_list(all_usages, usages_with_args, get_signature)\n",
    "for usage_signature in usage_signature_list:\n",
    "    print(usage_signature)"
   ]
  },
  {
   "cell_type": "code",
   "execution_count": 91,
   "metadata": {},
   "outputs": [
    {
     "name": "stdout",
     "output_type": "stream",
     "text": [
      "Usage ('print', ['Call'], []) does not match signature\n",
      "Usage ('DataFrame', ['Dict'], []) matches signature\n",
      "Usage ('DataFrame', ['Constant'], []) matches signature\n",
      "Usage ('print', ['Call'], []) does not match signature\n",
      "Signature for usage ('array', ['List'], []) could not be found\n",
      "Usage ('get_data_dir', ['Constant'], []) does not match signature\n"
     ]
    }
   ],
   "source": [
    "# For each usage, check if the arguments match the signature\n",
    "for usage_signature in usage_signature_list:\n",
    "    usage = usage_signature[\"usage\"]\n",
    "    signature = usage_signature[\"signature\"]\n",
    "    if type(signature) == str:\n",
    "        print(f\"Signature for usage {usage} could not be found\")\n",
    "        continue\n",
    "    if usage_matches_signature(usage, signature):\n",
    "        print(f\"Usage {usage} matches signature\")\n",
    "    else:\n",
    "        print(f\"Usage {usage} does not match signature\")"
   ]
  }
 ],
 "metadata": {
  "kernelspec": {
   "display_name": "llmcoder",
   "language": "python",
   "name": "python3"
  },
  "language_info": {
   "codemirror_mode": {
    "name": "ipython",
    "version": 3
   },
   "file_extension": ".py",
   "mimetype": "text/x-python",
   "name": "python",
   "nbconvert_exporter": "python",
   "pygments_lexer": "ipython3",
   "version": "3.11.5"
  }
 },
 "nbformat": 4,
 "nbformat_minor": 2
}
