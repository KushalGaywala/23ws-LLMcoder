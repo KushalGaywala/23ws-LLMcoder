{
 "cells": [
  {
   "cell_type": "code",
   "execution_count": 9,
   "id": "0277bc99-70a2-4d25-9ff2-1c5e25f64108",
   "metadata": {},
   "outputs": [],
   "source": [
    "import os\n",
    "import json"
   ]
  },
  {
   "cell_type": "code",
   "execution_count": 10,
   "id": "b580cd5c-4880-4b4c-9bd2-84e2c0802e14",
   "metadata": {},
   "outputs": [],
   "source": [
    "EXAMPLE_DIRS=[\"examples\", \"examples2\"]"
   ]
  },
  {
   "cell_type": "code",
   "execution_count": 14,
   "id": "9c653576-491b-4486-a4b2-29bf9ba7a7fd",
   "metadata": {},
   "outputs": [],
   "source": [
    "example_files = [file for file in os.listdir(EXAMPLE_DIRS[1]) if os.path.isfile(os.path.join(EXAMPLE_DIRS[1], file))]"
   ]
  },
  {
   "cell_type": "code",
   "execution_count": 18,
   "id": "2d9e8e35-5a7b-45fc-a58a-7e64ec85c4ab",
   "metadata": {},
   "outputs": [],
   "source": [
    "with open(os.path.join(EXAMPLE_DIRS[1], example_files[0]), 'r') as file:\n",
    "    example = json.load(file)"
   ]
  },
  {
   "cell_type": "code",
   "execution_count": 23,
   "id": "cfaa8be6-fa42-495d-95a8-773243ea625e",
   "metadata": {},
   "outputs": [
    {
     "name": "stdout",
     "output_type": "stream",
     "text": [
      "# Please try to Create API_KEYS file in the same Directory\n",
      "from API.API_KEYS import YOUTUBE_API_KEY\n",
      "from googleapiclient.discovery import build\n",
      "\n",
      "\n",
      "class Youtube:\n",
      "    def __init__(self):\n",
      "        self.youtube = build('youtube', 'v3', developerKey=YOUTUBE_API_KEY)\n",
      "\n",
      "    def get_all_comments_from_video(self, video_ID, include_comments=False):\n",
      "        comments = []\n",
      "\n",
      "        # Fetch and Read the first batch of comments #\n",
      "        response = self.get_comments_from_video(video_ID)\n",
      "        video_comments = self.read_comments_from_response(response)\n",
      "\n",
      "        # Save first batch of comments #\n",
      "        comments = video_comments\n",
      "\n",
      "        # Get the response if more comments exists till next page token occur #\n",
      "        next_page_token = response.get('nextPageToken')\n",
      "        while next_page_token:\n",
      "            response = self.get_comments_from_video(video_ID, page_token=next_page_token)\n",
      "            video_comments = self.read_comments_from_response(response)\n",
      "            comments.extend(video_comments)\n",
      "            next_page_token = response.get('nextPageToken')\n",
      "\n"
     ]
    }
   ],
   "source": [
    "print(example[1]['content'])"
   ]
  },
  {
   "cell_type": "code",
   "execution_count": 24,
   "id": "e4d8d158-2f2e-4b08-ae1a-25616dab3cda",
   "metadata": {},
   "outputs": [
    {
     "name": "stdout",
     "output_type": "stream",
     "text": [
      "```python\n",
      "import os\n",
      "\n",
      "# Check if API_KEYS file already exists\n",
      "if not os.path.exists(\"API_KEYS.py\"):\n",
      "    # Create API_KEYS file\n",
      "    with open(\"API_KEYS.py\", \"w\") as file:\n",
      "        file.write(\"# Put your API key here\\n\")\n",
      "        file.write(\"YOUTUBE_API_KEY = 'your_api_key_here'\")\n",
      "```\n"
     ]
    }
   ],
   "source": [
    "print(example[2]['content'])"
   ]
  },
  {
   "cell_type": "markdown",
   "id": "f1634ee6-7d34-44bc-a261-93583e8b50a5",
   "metadata": {},
   "source": [
    "```python\n",
    "    return comments\n",
    "```"
   ]
  }
 ],
 "metadata": {
  "kernelspec": {
   "display_name": "Python 3 (ipykernel)",
   "language": "python",
   "name": "python3"
  },
  "language_info": {
   "codemirror_mode": {
    "name": "ipython",
    "version": 3
   },
   "file_extension": ".py",
   "mimetype": "text/x-python",
   "name": "python",
   "nbconvert_exporter": "python",
   "pygments_lexer": "ipython3",
   "version": "3.11.5"
  }
 },
 "nbformat": 4,
 "nbformat_minor": 5
}
