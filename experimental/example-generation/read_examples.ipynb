{
 "cells": [
  {
   "cell_type": "code",
   "execution_count": 62,
   "metadata": {},
   "outputs": [],
   "source": [
    "import json\n",
    "import os"
   ]
  },
  {
   "cell_type": "code",
   "execution_count": 63,
   "metadata": {},
   "outputs": [],
   "source": [
    "filename = os.path.join('examples2', os.listdir('examples2')[7])"
   ]
  },
  {
   "cell_type": "code",
   "execution_count": 64,
   "metadata": {},
   "outputs": [
    {
     "name": "stdout",
     "output_type": "stream",
     "text": [
      "examples2/Youtube-api-Full-code-provided.json\n"
     ]
    }
   ],
   "source": [
    "print(filename)"
   ]
  },
  {
   "cell_type": "code",
   "execution_count": 65,
   "metadata": {},
   "outputs": [],
   "source": [
    "with open(filename) as f:\n",
    "    data = json.load(f)"
   ]
  },
  {
   "cell_type": "code",
   "execution_count": 66,
   "metadata": {},
   "outputs": [
    {
     "name": "stdout",
     "output_type": "stream",
     "text": [
      "# Please try to Create API_KEYS file in the same Directory\n",
      "from API.API_KEYS import YOUTUBE_API_KEY\n",
      "from googleapiclient.discovery import build\n",
      "\n",
      "\n",
      "class Youtube:\n",
      "    def __init__(self):\n",
      "        self.youtube = build('youtube', 'v3', developerKey=YOUTUBE_API_KEY)\n",
      "\n",
      "    def get_all_comments_from_video(self, video_ID, include_comments=False):\n",
      "        comments = []\n",
      "\n",
      "        # Fetch and Read the first batch of comments #\n",
      "        response = self.get_comments_from_video(video_ID)\n",
      "        video_comments = self.read_comments_from_response(response)\n",
      "\n",
      "        # Save first batch of comments #\n",
      "        comments = video_comments\n",
      "\n",
      "        # Get the response if more comments exists till next page token occur #\n",
      "\n",
      "\n"
     ]
    }
   ],
   "source": [
    "print(data[1]['content'])"
   ]
  },
  {
   "cell_type": "code",
   "execution_count": 67,
   "metadata": {},
   "outputs": [
    {
     "name": "stdout",
     "output_type": "stream",
     "text": [
      "```python\n",
      "        while 'nextPageToken' in response:\n",
      "            next_page_token = response['nextPageToken']\n",
      "\n",
      "            # Fetch and Read the next batch of comments #\n",
      "            response = self.get_comments_from_video(video_ID, next_page_token)\n",
      "            video_comments = self.read_comments_from_response(response)\n",
      "\n",
      "            # Save next batch of comments #\n",
      "            comments += video_comments\n",
      "\n",
      "        return comments\n",
      "```\n",
      "```python\n",
      "    def get_comments_from_video(self, video_ID, page_token=None):\n",
      "        response = self.youtube.commentThreads().list(\n",
      "            part='snippet',\n",
      "            videoId=video_ID,\n",
      "            pageToken=page_token,\n",
      "            maxResults=100\n",
      "        ).execute()\n",
      "\n",
      "        return response\n",
      "```\n",
      "```python\n",
      "    def read_comments_from_response(self, response):\n",
      "        video_comments = []\n",
      "\n",
      "        for item in response['items']:\n",
      "            comment = item['snippet']['topLevelComment']['snippet']['textDisplay']\n",
      "            video_comments.append(comment)\n",
      "\n",
      "        return video_comments\n",
      "```\n",
      "```python\n",
      "youtube = Youtube()\n",
      "video_ID = 'xxxxxxxxxx'  # Replace with the actual video ID\n",
      "comments = youtube.get_all_comments_from_video(video_ID)\n",
      "for comment in comments:\n",
      "    print(comment)\n",
      "```\n",
      "```\n"
     ]
    }
   ],
   "source": [
    "print(data[2]['content'])"
   ]
  }
 ],
 "metadata": {
  "kernelspec": {
   "display_name": "llmcoder",
   "language": "python",
   "name": "python3"
  },
  "language_info": {
   "codemirror_mode": {
    "name": "ipython",
    "version": 3
   },
   "file_extension": ".py",
   "mimetype": "text/x-python",
   "name": "python",
   "nbconvert_exporter": "python",
   "pygments_lexer": "ipython3",
   "version": "3.11.5"
  }
 },
 "nbformat": 4,
 "nbformat_minor": 2
}
