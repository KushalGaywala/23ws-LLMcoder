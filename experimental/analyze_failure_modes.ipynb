{
 "cells": [
  {
   "cell_type": "code",
   "execution_count": null,
   "metadata": {},
   "outputs": [],
   "source": [
    "# Read the resulting conversations\n",
    "# Print the input code from the user\n",
    "# Print the ground truth\n",
    "# Print the LLMcoder completions\n",
    "\n",
    "# Comment the results and analyze and list failure modes\n",
    "# -> Summarize later (using GPT?)\n",
    "\n",
    "# Store?\n",
    "# comments.json for our comments and analysis\n",
    "# /data/LLMcoder-Eval/eval_curated/comments....json\n",
    "# {\n",
    "#     \"<results_id>\": \"<comment>\",\n",
    "#     ...\n",
    "# }"
   ]
  },
  {
   "cell_type": "code",
   "execution_count": 7,
   "metadata": {},
   "outputs": [],
   "source": [
    "import json\n",
    "import os\n",
    "\n",
    "from llmcoder.utils import get_data_dir"
   ]
  },
  {
   "cell_type": "code",
   "execution_count": 4,
   "metadata": {},
   "outputs": [
    {
     "name": "stdout",
     "output_type": "stream",
     "text": [
      "/home/psaegert/Projects/23ws-LLMcoder/data/LLMcoder-Eval/eval_curated\n"
     ]
    }
   ],
   "source": [
    "DATA_DIR = get_data_dir('LLMcoder-Eval/eval_curated')\n",
    "print(DATA_DIR)"
   ]
  },
  {
   "cell_type": "code",
   "execution_count": null,
   "metadata": {},
   "outputs": [],
   "source": [
    "# Three results for now:\n",
    "# 1) plain GPT-3.5-Turbo\n",
    "# 2) GPT-3.5-Turbo + custom system prompt\n",
    "# 3) Fine-Tuned GPT-3.5-Turbo"
   ]
  },
  {
   "cell_type": "code",
   "execution_count": 13,
   "metadata": {},
   "outputs": [],
   "source": [
    "# Define the ground truth\n",
    "GROUND_TRUTH_FILE = \"conversations.jsonl\"\n",
    "RESULTS_FILE = \"results_baseline_eval-curated_2023-12-01_15-16-45.json\""
   ]
  },
  {
   "cell_type": "code",
   "execution_count": null,
   "metadata": {},
   "outputs": [],
   "source": [
    "ground_truth[0]"
   ]
  },
  {
   "cell_type": "code",
   "execution_count": 49,
   "metadata": {},
   "outputs": [
    {
     "name": "stdout",
     "output_type": "stream",
     "text": [
      "Inputs: 90\n",
      "Ground truth: 90\n"
     ]
    }
   ],
   "source": [
    "# Load the inputs and ground truth from the ground truth file\n",
    "with open(os.path.join(DATA_DIR, GROUND_TRUTH_FILE), \"r\") as f:\n",
    "    ground_truth_file = [json.loads(line) for line in f.readlines()]\n",
    "\n",
    "# Extract the input code and ground truth from the ground truth file\n",
    "# The ground truth file is a list of conversations\n",
    "# The input is the message with \"role\": \"user\"\n",
    "# The ground truth is the message with \"tole\": \"assistant\"\n",
    "\n",
    "inputs = []\n",
    "ground_truths = []\n",
    "for conversation in ground_truth_file:\n",
    "    for message in conversation['messages']:\n",
    "        if message[\"role\"] == \"user\":\n",
    "            inputs.append(message[\"content\"])\n",
    "        elif message[\"role\"] == \"assistant\":\n",
    "            ground_truths.append(message[\"content\"])\n",
    "\n",
    "print(f'Inputs: {len(inputs)}')\n",
    "print(f'Ground truth: {len(ground_truths)}')"
   ]
  },
  {
   "cell_type": "code",
   "execution_count": 50,
   "metadata": {},
   "outputs": [],
   "source": [
    "# Load the results\n",
    "with open(os.path.join(DATA_DIR, RESULTS_FILE), 'r') as f:\n",
    "    results = json.load(f)"
   ]
  },
  {
   "cell_type": "code",
   "execution_count": 60,
   "metadata": {},
   "outputs": [],
   "source": [
    "# Create a unified dictionary of inputs, ground truth and results\n",
    "# The keys are the results ids\n",
    "# The values are dictionaries with keys:\n",
    "# - input\n",
    "# - ground_truth\n",
    "# - completion\n",
    "\n",
    "results_dict = {}\n",
    "for input, ground_truth, (result_key, result_value) in zip(inputs, ground_truths, results.items()):\n",
    "    results_dict[result_key] = {\n",
    "        'input': input,\n",
    "        'ground_truth': ground_truth,\n",
    "        'completion': result_value['messages'][-1][\"content\"]\n",
    "    }"
   ]
  },
  {
   "cell_type": "code",
   "execution_count": 61,
   "metadata": {},
   "outputs": [
    {
     "name": "stdout",
     "output_type": "stream",
     "text": [
      "Key: 0\n",
      "Input:\n",
      "from typing import List, Union\n",
      "import requests\n",
      "import os\n",
      "from llama.program.util.config import get_config, edit_config\n",
      "import llama\n",
      "import lamini\n",
      "import numpy as np\n",
      "from llama.error.error import (\n",
      "    APIError,\n",
      "    AuthenticationError,\n",
      "    ModelNameError,\n",
      "    RateLimitError,\n",
      "    UnavailableResourceError,\n",
      "    ServerTimeoutError,\n",
      "    UserError,\n",
      ")\n",
      "\n",
      "\n",
      "def query_run_embedding(prompt: Union[str, List[str]], config={}):\n",
      "    params = {\"prompt\": prompt}\n",
      "    e\n",
      "--------------------------------------------------------------------------------\n",
      "Ground truth:\n",
      "dit_config(config)\n",
      "    url = get_configured_url()\n",
      "    resp = make_web_request(\"post\", url + \"/v1/inference/embedding\", None, params)\n",
      "    embeddings = resp[\"embedding\"]\n",
      "\n",
      "    if isinstance(prompt, str):\n",
      "        return np.reshape(embeddings, (1, -1))\n",
      "    return [np.reshape(embedding, (1, -1)) for embedding in embeddings]\n",
      "\n",
      "--------------------------------------------------------------------------------\n",
      "Completion:\n",
      "xtra_headers = get_config(\"extra_headers\")\n",
      "\n"
     ]
    }
   ],
   "source": [
    "for key, value in results_dict.items():\n",
    "    print(f'Key: {key}')\n",
    "    print(f'Input:\\n{value[\"input\"]}')\n",
    "    print(\"-\" * 80)\n",
    "    print(f'Ground truth:\\n{value[\"ground_truth\"]}')\n",
    "    print(\"-\" * 80)\n",
    "    print(f'Completion:\\n{value[\"completion\"]}')\n",
    "    print('')\n",
    "    break"
   ]
  },
  {
   "cell_type": "code",
   "execution_count": null,
   "metadata": {},
   "outputs": [],
   "source": []
  }
 ],
 "metadata": {
  "kernelspec": {
   "display_name": "llmcoder",
   "language": "python",
   "name": "python3"
  },
  "language_info": {
   "codemirror_mode": {
    "name": "ipython",
    "version": 3
   },
   "file_extension": ".py",
   "mimetype": "text/x-python",
   "name": "python",
   "nbconvert_exporter": "python",
   "pygments_lexer": "ipython3",
   "version": "3.11.5"
  }
 },
 "nbformat": 4,
 "nbformat_minor": 2
}
