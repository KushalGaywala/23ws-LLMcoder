{
 "cells": [
  {
   "cell_type": "code",
   "execution_count": 47,
   "metadata": {},
   "outputs": [],
   "source": [
    "import numpy as np"
   ]
  },
  {
   "cell_type": "code",
   "execution_count": 48,
   "metadata": {},
   "outputs": [],
   "source": [
    "scores_good = np.array([-1.2, 7.665, 9.88])\n",
    "scores_good_2 = np.array([-1.2, 3.357, 9.88])\n",
    "scores_medium = np.array([-1.2, 0.2, -0.1])\n",
    "scores_bad = np.array([-1.2, -5, -8.33])"
   ]
  },
  {
   "cell_type": "code",
   "execution_count": 53,
   "metadata": {},
   "outputs": [],
   "source": [
    "def agility_score(scores, l=1):\n",
    "    weights = np.exp(- np.arange(len(scores) - 1) * l)\n",
    "    print(weights)\n",
    "    return np.sum(weights * np.sign(np.diff(scores)) * np.diff(scores)**2)"
   ]
  },
  {
   "cell_type": "code",
   "execution_count": 54,
   "metadata": {},
   "outputs": [
    {
     "name": "stdout",
     "output_type": "stream",
     "text": [
      "[1.         0.36787944]\n",
      "80.39312431126137\n",
      "[1.         0.36787944]\n",
      "36.419345950628085\n",
      "[1.         0.36787944]\n",
      "1.9268908502945699\n",
      "[1.         0.36787944]\n",
      "-18.519378335206007\n"
     ]
    }
   ],
   "source": [
    "print(agility_score(scores_good))\n",
    "print(agility_score(scores_good_2))\n",
    "print(agility_score(scores_medium))\n",
    "print(agility_score(scores_bad))"
   ]
  }
 ],
 "metadata": {
  "kernelspec": {
   "display_name": "llmcoder",
   "language": "python",
   "name": "python3"
  },
  "language_info": {
   "codemirror_mode": {
    "name": "ipython",
    "version": 3
   },
   "file_extension": ".py",
   "mimetype": "text/x-python",
   "name": "python",
   "nbconvert_exporter": "python",
   "pygments_lexer": "ipython3",
   "version": "3.11.5"
  }
 },
 "nbformat": 4,
 "nbformat_minor": 2
}
