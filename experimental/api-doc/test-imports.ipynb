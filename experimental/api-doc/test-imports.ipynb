{
 "cells": [
  {
   "cell_type": "code",
   "execution_count": 10,
   "id": "f0385a5c-9910-4d43-9bf0-5e0494e7faad",
   "metadata": {},
   "outputs": [],
   "source": [
    "import json\n",
    "import ast"
   ]
  },
  {
   "cell_type": "code",
   "execution_count": 3,
   "id": "e2551e8b-599a-4ee9-bf3a-f7ecac514bb6",
   "metadata": {},
   "outputs": [],
   "source": [
    "code = '''\n",
    "import os\n",
    "import numpy as np\n",
    "import pandas as pd\n",
    "import matplotlib.plot as plt\n",
    "import matplotlib.slsl as lsls\n",
    "\n",
    "def make_array():\n",
    "    a = 10\n",
    "    a = 10 + 1\n",
    "    array1 = np.arange(1,10)\n",
    "    plt.plot()\n",
    "    return np.array([1,2,3])\n",
    "'''"
   ]
  },
  {
   "cell_type": "code",
   "execution_count": 4,
   "id": "78396c9c-86b8-4041-ac27-fc076f6fc3d6",
   "metadata": {},
   "outputs": [
    {
     "data": {
      "text/plain": [
       "[(None, 'os'),\n",
       " ('np', 'numpy'),\n",
       " ('pd', 'pandas'),\n",
       " ('plt', 'matplotlib.plot'),\n",
       " ('lsls', 'matplotlib.slsl')]"
      ]
     },
     "execution_count": 4,
     "metadata": {},
     "output_type": "execute_result"
    }
   ],
   "source": []
  },
  {
   "cell_type": "code",
   "execution_count": 224,
   "id": "8cd4f9d0-e7fb-4009-b6ca-e8d04af8685a",
   "metadata": {},
   "outputs": [
    {
     "data": {
      "text/plain": [
       "<module 'matplotlib' from '/home/kushal/.config/python.env/llmcoder.env/lib/python3.11/site-packages/matplotlib/__init__.py'>"
      ]
     },
     "execution_count": 224,
     "metadata": {},
     "output_type": "execute_result"
    }
   ],
   "source": [
    "importlib.import_module('matplotlib==')"
   ]
  },
  {
   "cell_type": "code",
   "execution_count": 34,
   "id": "296728fc-d77f-4060-a249-b8b597aba518",
   "metadata": {},
   "outputs": [],
   "source": [
    "# package = [\n",
    "#     {\n",
    "#         \"name\": str,\n",
    "#         \"alias\": str\n",
    "#     }\n",
    "# ]\n",
    "packages = []"
   ]
  },
  {
   "cell_type": "code",
   "execution_count": 35,
   "id": "b6554a6c-7a85-47e1-b583-c67da9bb4764",
   "metadata": {},
   "outputs": [],
   "source": [
    "tree = ast.parse(code)\n",
    "for node in ast.walk(code_tree):\n",
    "    if 'names' in node.__dir__():\n",
    "        packages.append({\"name\": node.names[0].name, \"asname\": node.names[0].asname})"
   ]
  },
  {
   "cell_type": "code",
   "execution_count": 36,
   "id": "b5fe48a4-bf95-4d1a-a08e-8ee15ec221ff",
   "metadata": {},
   "outputs": [
    {
     "data": {
      "text/plain": [
       "[(None, 'os'),\n",
       " ('np', 'numpy'),\n",
       " ('pd', 'pandas'),\n",
       " ('plt', 'matplotlib.plot'),\n",
       " ('lsls', 'matplotlib.slsl')]"
      ]
     },
     "execution_count": 36,
     "metadata": {},
     "output_type": "execute_result"
    }
   ],
   "source": [
    "[(node.names[0].asname, node.names[0].name) for node in ast.walk(tree) if isinstance(node, ast.Import) or isinstance(node, ast.ImportFrom)]"
   ]
  },
  {
   "cell_type": "code",
   "execution_count": 37,
   "id": "9d30f39e-ee58-4f08-9fb5-ba843bd17473",
   "metadata": {},
   "outputs": [
    {
     "name": "stdout",
     "output_type": "stream",
     "text": [
      "{'name': 'os', 'asname': None}\n",
      "{'name': 'numpy', 'asname': 'np'}\n",
      "{'name': 'pandas', 'asname': 'pd'}\n",
      "{'name': 'matplotlib.plot', 'asname': 'plt'}\n",
      "{'name': 'matplotlib.slsl', 'asname': 'lsls'}\n"
     ]
    }
   ],
   "source": [
    "for package in packages:\n",
    "    print(package)"
   ]
  },
  {
   "cell_type": "code",
   "execution_count": 42,
   "id": "67f822cf-06e8-48b9-82e4-7afa14c0e3ec",
   "metadata": {},
   "outputs": [],
   "source": [
    "import re"
   ]
  },
  {
   "cell_type": "code",
   "execution_count": 43,
   "id": "d7717931-17c9-4d37-8200-2bbbdb0eedd0",
   "metadata": {},
   "outputs": [],
   "source": [
    "np_lines = [line for line in code.splitlines() if re.search(r\"\\bnp\\.\", line)]"
   ]
  },
  {
   "cell_type": "code",
   "execution_count": 44,
   "id": "49506e38-db9b-4366-befb-1004876c4a0c",
   "metadata": {},
   "outputs": [
    {
     "name": "stdout",
     "output_type": "stream",
     "text": [
      "arange(1,10)\n",
      "array([1,2,3])\n"
     ]
    }
   ],
   "source": [
    "for line in code.splitlines():\n",
    "    if re.search(r\"\\bnp\\.\", line):\n",
    "        # get actual definition used of the package\n",
    "        get_package = line.split('np.')[-1]\n",
    "        print(get_package)"
   ]
  },
  {
   "cell_type": "code",
   "execution_count": 45,
   "id": "8d6d0cc3-047f-4e01-863e-07d142da447d",
   "metadata": {},
   "outputs": [
    {
     "data": {
      "text/plain": [
       "\"str(object='') -> str\\nstr(bytes_or_buffer[, encoding[, errors]]) -> str\\n\\nCreate a new string object from the given object. If encoding or\\nerrors is specified, then the object must expose a data buffer\\nthat will be decoded using the given encoding and error handler.\\nOtherwise, returns the result of object.__str__() (if defined)\\nor repr(object).\\nencoding defaults to sys.getdefaultencoding().\\nerrors defaults to 'strict'.\""
      ]
     },
     "execution_count": 45,
     "metadata": {},
     "output_type": "execute_result"
    }
   ],
   "source": [
    "\"kusha\".upper().__doc__"
   ]
  },
  {
   "cell_type": "code",
   "execution_count": 46,
   "id": "c6782e35-988c-49ad-893a-c76de3acdbb3",
   "metadata": {},
   "outputs": [],
   "source": [
    "npnpn = \"np1\""
   ]
  },
  {
   "cell_type": "code",
   "execution_count": 47,
   "id": "2108af44-9b11-4a28-adf1-c264a59b2a3d",
   "metadata": {},
   "outputs": [],
   "source": [
    "pn = \"numpy\""
   ]
  },
  {
   "cell_type": "code",
   "execution_count": 48,
   "id": "1e99b493-c9fb-421b-b7a8-6afb5a60eeb8",
   "metadata": {},
   "outputs": [],
   "source": [
    "import importlib"
   ]
  },
  {
   "cell_type": "code",
   "execution_count": 60,
   "id": "10474256-63e7-4dc2-9ba5-f852e29e4d5a",
   "metadata": {},
   "outputs": [
    {
     "data": {
      "text/plain": [
       "<module 'numpy' from '/home/kushal/.config/python.env/llmcoder.env/lib/python3.11/site-packages/numpy/__init__.py'>"
      ]
     },
     "execution_count": 60,
     "metadata": {},
     "output_type": "execute_result"
    }
   ],
   "source": [
    "importlib.import_module(pn, \"np1\")"
   ]
  },
  {
   "cell_type": "code",
   "execution_count": 50,
   "id": "e757ebd2-9dca-4fe6-a54a-5df4ab83d2dc",
   "metadata": {},
   "outputs": [
    {
     "name": "stdout",
     "output_type": "stream",
     "text": [
      "Import a module.\n",
      "\n",
      "    The 'package' argument is required when performing a relative import. It\n",
      "    specifies the package to use as the anchor point from which to resolve the\n",
      "    relative import to an absolute import.\n",
      "\n",
      "    \n"
     ]
    }
   ],
   "source": [
    "print(importlib.import_module.__doc__)"
   ]
  },
  {
   "cell_type": "code",
   "execution_count": 55,
   "id": "06a41672-2107-478a-a81b-5adda00d1290",
   "metadata": {},
   "outputs": [],
   "source": [
    "import numpy as np"
   ]
  },
  {
   "cell_type": "code",
   "execution_count": 66,
   "id": "f18702c1-514c-468a-8ec6-5eb067f05e21",
   "metadata": {},
   "outputs": [
    {
     "data": {
      "text/plain": [
       "<module 'numpy' from '/home/kushal/.config/python.env/llmcoder.env/lib/python3.11/site-packages/numpy/__init__.py'>"
      ]
     },
     "execution_count": 66,
     "metadata": {},
     "output_type": "execute_result"
    }
   ],
   "source": [
    "importlib.import_module('numpy')"
   ]
  },
  {
   "cell_type": "code",
   "execution_count": 82,
   "id": "82fcf727-2222-4f12-aff2-1cdc8d1b11e7",
   "metadata": {},
   "outputs": [
    {
     "name": "stdout",
     "output_type": "stream",
     "text": [
      "numpy np\n"
     ]
    }
   ],
   "source": [
    "print(packages[1]['name'], packages[1]['asname'])\n",
    "pakName = packages[1]['name']\n",
    "pakAsname = packages[1]['asname']"
   ]
  },
  {
   "cell_type": "code",
   "execution_count": 89,
   "id": "9b6fa4ac-03fb-4ab1-986f-601bdb67b1c6",
   "metadata": {},
   "outputs": [
    {
     "name": "stdout",
     "output_type": "stream",
     "text": [
      "This is a sample numpy.array(numpy.ones(5)) and another numpy.sum example.\n"
     ]
    }
   ],
   "source": [
    "import re\n",
    "\n",
    "text = \"This is a sample np.array(np.ones(5)) and another np.sum example.\"\n",
    "\n",
    "# Assuming pakAsname is a variable containing the string \"np\"\n",
    "pakAsname = \"np\"\n",
    "pakName = \"numpy\"\n",
    "\n",
    "# Modified pattern to capture pakAsname separately\n",
    "pattern = fr'\\b({re.escape(pakAsname)})\\.(\\w+)\\b'\n",
    "\n",
    "# Using a lambda function to dynamically replace the captured parts\n",
    "subText = re.sub(pattern, lambda match: f'{pakName}.{match.group(2)}', text)\n",
    "\n",
    "print(subText)\n"
   ]
  },
  {
   "cell_type": "code",
   "execution_count": 103,
   "id": "38a4d226-4293-4769-a79c-c2ce632a4a4f",
   "metadata": {},
   "outputs": [
    {
     "data": {
      "text/plain": [
       "'numpy.array'"
      ]
     },
     "execution_count": 103,
     "metadata": {},
     "output_type": "execute_result"
    }
   ],
   "source": [
    "re.search(fr'\\b{pakName}\\.\\w+', subText)[0]"
   ]
  },
  {
   "cell_type": "code",
   "execution_count": 132,
   "id": "6a7ce560-a047-42b7-8b1d-6464dd3f9cfc",
   "metadata": {},
   "outputs": [
    {
     "data": {
      "text/plain": [
       "\"\\n    Display all open figures.\\n\\n    Parameters\\n    ----------\\n    block : bool, optional\\n        Whether to wait for all figures to be closed before returning.\\n\\n        If `True` block and run the GUI main loop until all figure windows\\n        are closed.\\n\\n        If `False` ensure that all figure windows are displayed and return\\n        immediately.  In this case, you are responsible for ensuring\\n        that the event loop is running to have responsive figures.\\n\\n        Defaults to True in non-interactive mode and to False in interactive\\n        mode (see `.pyplot.isinteractive`).\\n\\n    See Also\\n    --------\\n    ion : Enable interactive mode, which shows / updates the figure after\\n          every plotting command, so that calling ``show()`` is not necessary.\\n    ioff : Disable interactive mode.\\n    savefig : Save the figure to an image file instead of showing it on screen.\\n\\n    Notes\\n    -----\\n    **Saving figures to file and showing a window at the same time**\\n\\n    If you want an image file as well as a user interface window, use\\n    `.pyplot.savefig` before `.pyplot.show`. At the end of (a blocking)\\n    ``show()`` the figure is closed and thus unregistered from pyplot. Calling\\n    `.pyplot.savefig` afterwards would save a new and thus empty figure. This\\n    limitation of command order does not apply if the show is non-blocking or\\n    if you keep a reference to the figure and use `.Figure.savefig`.\\n\\n    **Auto-show in jupyter notebooks**\\n\\n    The jupyter backends (activated via ``%matplotlib inline``,\\n    ``%matplotlib notebook``, or ``%matplotlib widget``), call ``show()`` at\\n    the end of every cell by default. Thus, you usually don't have to call it\\n    explicitly there.\\n    \""
      ]
     },
     "execution_count": 132,
     "metadata": {},
     "output_type": "execute_result"
    }
   ],
   "source": [
    "import matplotlib as plt\n",
    "\n",
    "plt.pyplot.show.__doc__"
   ]
  },
  {
   "cell_type": "code",
   "execution_count": 129,
   "id": "d993a521-e20c-4061-aa9c-aabbb033f34d",
   "metadata": {},
   "outputs": [
    {
     "data": {
      "text/plain": [
       "\"\\n    Display all open figures.\\n\\n    Parameters\\n    ----------\\n    block : bool, optional\\n        Whether to wait for all figures to be closed before returning.\\n\\n        If `True` block and run the GUI main loop until all figure windows\\n        are closed.\\n\\n        If `False` ensure that all figure windows are displayed and return\\n        immediately.  In this case, you are responsible for ensuring\\n        that the event loop is running to have responsive figures.\\n\\n        Defaults to True in non-interactive mode and to False in interactive\\n        mode (see `.pyplot.isinteractive`).\\n\\n    See Also\\n    --------\\n    ion : Enable interactive mode, which shows / updates the figure after\\n          every plotting command, so that calling ``show()`` is not necessary.\\n    ioff : Disable interactive mode.\\n    savefig : Save the figure to an image file instead of showing it on screen.\\n\\n    Notes\\n    -----\\n    **Saving figures to file and showing a window at the same time**\\n\\n    If you want an image file as well as a user interface window, use\\n    `.pyplot.savefig` before `.pyplot.show`. At the end of (a blocking)\\n    ``show()`` the figure is closed and thus unregistered from pyplot. Calling\\n    `.pyplot.savefig` afterwards would save a new and thus empty figure. This\\n    limitation of command order does not apply if the show is non-blocking or\\n    if you keep a reference to the figure and use `.Figure.savefig`.\\n\\n    **Auto-show in jupyter notebooks**\\n\\n    The jupyter backends (activated via ``%matplotlib inline``,\\n    ``%matplotlib notebook``, or ``%matplotlib widget``), call ``show()`` at\\n    the end of every cell by default. Thus, you usually don't have to call it\\n    explicitly there.\\n    \""
      ]
     },
     "execution_count": 129,
     "metadata": {},
     "output_type": "execute_result"
    }
   ],
   "source": [
    "from matplotlib import pyplot\n",
    "import matplotlib\n",
    "matplotlib.pyplot.show.__doc__"
   ]
  },
  {
   "cell_type": "code",
   "execution_count": 123,
   "id": "2a90ef56-5f45-4337-af44-9d5238d8267e",
   "metadata": {},
   "outputs": [
    {
     "name": "stdout",
     "output_type": "stream",
     "text": [
      "{'pyplot.plot', 'pyplot.show', 'np.sin', 'np.linspace'}\n"
     ]
    },
    {
     "ename": "ModuleNotFoundError",
     "evalue": "No module named 'pyplot'",
     "output_type": "error",
     "traceback": [
      "\u001b[0;31m---------------------------------------------------------------------------\u001b[0m",
      "\u001b[0;31mModuleNotFoundError\u001b[0m                       Traceback (most recent call last)",
      "Cell \u001b[0;32mIn[123], line 46\u001b[0m\n\u001b[1;32m     44\u001b[0m \u001b[38;5;28mprint\u001b[39m(functions)\n\u001b[1;32m     45\u001b[0m functions\u001b[38;5;241m.\u001b[39madd(\u001b[38;5;124m'\u001b[39m\u001b[38;5;124mnp.linspace\u001b[39m\u001b[38;5;124m'\u001b[39m)  \u001b[38;5;66;03m# Add specific function 'np.linspace'\u001b[39;00m\n\u001b[0;32m---> 46\u001b[0m \u001b[43mgenerate_docs_for_functions\u001b[49m\u001b[43m(\u001b[49m\u001b[43mfunctions\u001b[49m\u001b[43m)\u001b[49m\n",
      "Cell \u001b[0;32mIn[123], line 21\u001b[0m, in \u001b[0;36mgenerate_docs_for_functions\u001b[0;34m(functions)\u001b[0m\n\u001b[1;32m     18\u001b[0m \u001b[38;5;28;01mdef\u001b[39;00m \u001b[38;5;21mgenerate_docs_for_functions\u001b[39m(functions):\n\u001b[1;32m     19\u001b[0m     \u001b[38;5;28;01mfor\u001b[39;00m func \u001b[38;5;129;01min\u001b[39;00m functions:\n\u001b[1;32m     20\u001b[0m         \u001b[38;5;66;03m# try:\u001b[39;00m\n\u001b[0;32m---> 21\u001b[0m         module \u001b[38;5;241m=\u001b[39m \u001b[43mimportlib\u001b[49m\u001b[38;5;241;43m.\u001b[39;49m\u001b[43mimport_module\u001b[49m\u001b[43m(\u001b[49m\u001b[43mfunc\u001b[49m\u001b[38;5;241;43m.\u001b[39;49m\u001b[43msplit\u001b[49m\u001b[43m(\u001b[49m\u001b[38;5;124;43m'\u001b[39;49m\u001b[38;5;124;43m.\u001b[39;49m\u001b[38;5;124;43m'\u001b[39;49m\u001b[43m)\u001b[49m\u001b[43m[\u001b[49m\u001b[38;5;241;43m0\u001b[39;49m\u001b[43m]\u001b[49m\u001b[43m)\u001b[49m\n\u001b[1;32m     22\u001b[0m         \u001b[38;5;28mprint\u001b[39m(module)\n\u001b[1;32m     23\u001b[0m         docstring \u001b[38;5;241m=\u001b[39m \u001b[38;5;28mgetattr\u001b[39m(module, func\u001b[38;5;241m.\u001b[39msplit(\u001b[38;5;124m'\u001b[39m\u001b[38;5;124m.\u001b[39m\u001b[38;5;124m'\u001b[39m)[\u001b[38;5;241m1\u001b[39m])\u001b[38;5;241m.\u001b[39m\u001b[38;5;18m__doc__\u001b[39m\n",
      "File \u001b[0;32m/usr/lib/python3.11/importlib/__init__.py:126\u001b[0m, in \u001b[0;36mimport_module\u001b[0;34m(name, package)\u001b[0m\n\u001b[1;32m    124\u001b[0m             \u001b[38;5;28;01mbreak\u001b[39;00m\n\u001b[1;32m    125\u001b[0m         level \u001b[38;5;241m+\u001b[39m\u001b[38;5;241m=\u001b[39m \u001b[38;5;241m1\u001b[39m\n\u001b[0;32m--> 126\u001b[0m \u001b[38;5;28;01mreturn\u001b[39;00m \u001b[43m_bootstrap\u001b[49m\u001b[38;5;241;43m.\u001b[39;49m\u001b[43m_gcd_import\u001b[49m\u001b[43m(\u001b[49m\u001b[43mname\u001b[49m\u001b[43m[\u001b[49m\u001b[43mlevel\u001b[49m\u001b[43m:\u001b[49m\u001b[43m]\u001b[49m\u001b[43m,\u001b[49m\u001b[43m \u001b[49m\u001b[43mpackage\u001b[49m\u001b[43m,\u001b[49m\u001b[43m \u001b[49m\u001b[43mlevel\u001b[49m\u001b[43m)\u001b[49m\n",
      "File \u001b[0;32m<frozen importlib._bootstrap>:1204\u001b[0m, in \u001b[0;36m_gcd_import\u001b[0;34m(name, package, level)\u001b[0m\n",
      "File \u001b[0;32m<frozen importlib._bootstrap>:1176\u001b[0m, in \u001b[0;36m_find_and_load\u001b[0;34m(name, import_)\u001b[0m\n",
      "File \u001b[0;32m<frozen importlib._bootstrap>:1140\u001b[0m, in \u001b[0;36m_find_and_load_unlocked\u001b[0;34m(name, import_)\u001b[0m\n",
      "\u001b[0;31mModuleNotFoundError\u001b[0m: No module named 'pyplot'"
     ]
    }
   ],
   "source": [
    "import ast\n",
    "import importlib.util\n",
    "from pathlib import Path\n",
    "\n",
    "def extract_functions_from_code(code):\n",
    "    tree = ast.parse(code)\n",
    "    functions = set()\n",
    "\n",
    "    for node in ast.walk(tree):\n",
    "        if isinstance(node, ast.Call):\n",
    "            if isinstance(node.func, ast.Attribute) and isinstance(node.func.value, ast.Name):\n",
    "                package = node.func.value.id\n",
    "                function = node.func.attr\n",
    "                functions.add(f\"{package}.{function}\")\n",
    "\n",
    "    return functions\n",
    "\n",
    "def generate_docs_for_functions(functions):\n",
    "    for func in functions:\n",
    "        # try:\n",
    "        module = importlib.import_module(func.split('.')[0])\n",
    "        print(module)\n",
    "        docstring = getattr(module, func.split('.')[1]).__doc__\n",
    "        print(docstrinsdfgs)\n",
    "        if docstring:\n",
    "            print(f\"Documentation for {func}:\\n{docstring}\\n\")\n",
    "        else:\n",
    "            print(f\"No documentation found for {func}\\n\")\n",
    "        # except (ImportError, AttributeError):\n",
    "            # print(f\"Function {func} not found\\n\")\n",
    "\n",
    "if __name__ == \"__main__\":\n",
    "    code = \"\"\"\n",
    "import numpy as np\n",
    "from matplotlib import pyplot\n",
    "x = np.linspace(0, 1, 100)\n",
    "y = np.sin(2 * np.pi * x)\n",
    "\n",
    "pyplot.plot(x, y)\n",
    "pyplot.show()\n",
    "    \"\"\"\n",
    "\n",
    "    functions = extract_functions_from_code(code)\n",
    "    print(functions)\n",
    "    functions.add('np.linspace')  # Add specific function 'np.linspace'\n",
    "    generate_docs_for_functions(functions)\n"
   ]
  },
  {
   "cell_type": "code",
   "execution_count": 109,
   "id": "047fa103-2250-4813-bf22-0f950ea5d696",
   "metadata": {},
   "outputs": [
    {
     "name": "stdout",
     "output_type": "stream",
     "text": [
      "Documentation for numpy:\n",
      "\n",
      "NumPy\n",
      "=====\n",
      "\n",
      "Provides\n",
      "  1. An array object of arbitrary homogeneous items\n",
      "  2. Fast mathematical operations over arrays\n",
      "  3. Linear Algebra, Fourier Transforms, Random Number Generation\n",
      "\n",
      "How to use the documentation\n",
      "----------------------------\n",
      "Documentation is available in two forms: docstrings provided\n",
      "with the code, and a loose standing reference guide, available from\n",
      "`the NumPy homepage <https://numpy.org>`_.\n",
      "\n",
      "We recommend exploring the docstrings using\n",
      "`IPython <https://ipython.org>`_, an advanced Python shell with\n",
      "TAB-completion and introspection capabilities.  See below for further\n",
      "instructions.\n",
      "\n",
      "The docstring examples assume that `numpy` has been imported as ``np``::\n",
      "\n",
      "  >>> import numpy as np\n",
      "\n",
      "Code snippets are indicated by three greater-than signs::\n",
      "\n",
      "  >>> x = 42\n",
      "  >>> x = x + 1\n",
      "\n",
      "Use the built-in ``help`` function to view a function's docstring::\n",
      "\n",
      "  >>> help(np.sort)\n",
      "  ... # doctest: +SKIP\n",
      "\n",
      "For some objects, ``np.info(obj)`` may provide additional help.  This is\n",
      "particularly true if you see the line \"Help on ufunc object:\" at the top\n",
      "of the help() page.  Ufuncs are implemented in C, not Python, for speed.\n",
      "The native Python help() does not know how to view their help, but our\n",
      "np.info() function does.\n",
      "\n",
      "To search for documents containing a keyword, do::\n",
      "\n",
      "  >>> np.lookfor('keyword')\n",
      "  ... # doctest: +SKIP\n",
      "\n",
      "General-purpose documents like a glossary and help on the basic concepts\n",
      "of numpy are available under the ``doc`` sub-module::\n",
      "\n",
      "  >>> from numpy import doc\n",
      "  >>> help(doc)\n",
      "  ... # doctest: +SKIP\n",
      "\n",
      "Available subpackages\n",
      "---------------------\n",
      "lib\n",
      "    Basic functions used by several sub-packages.\n",
      "random\n",
      "    Core Random Tools\n",
      "linalg\n",
      "    Core Linear Algebra Tools\n",
      "fft\n",
      "    Core FFT routines\n",
      "polynomial\n",
      "    Polynomial tools\n",
      "testing\n",
      "    NumPy testing tools\n",
      "distutils\n",
      "    Enhancements to distutils with support for\n",
      "    Fortran compilers support and more  (for Python <= 3.11).\n",
      "\n",
      "Utilities\n",
      "---------\n",
      "test\n",
      "    Run numpy unittests\n",
      "show_config\n",
      "    Show numpy build configuration\n",
      "matlib\n",
      "    Make everything matrices.\n",
      "__version__\n",
      "    NumPy version string\n",
      "\n",
      "Viewing documentation using IPython\n",
      "-----------------------------------\n",
      "\n",
      "Start IPython and import `numpy` usually under the alias ``np``: `import\n",
      "numpy as np`.  Then, directly past or use the ``%cpaste`` magic to paste\n",
      "examples into the shell.  To see which functions are available in `numpy`,\n",
      "type ``np.<TAB>`` (where ``<TAB>`` refers to the TAB key), or use\n",
      "``np.*cos*?<ENTER>`` (where ``<ENTER>`` refers to the ENTER key) to narrow\n",
      "down the list.  To view the docstring for a function, use\n",
      "``np.cos?<ENTER>`` (to view the docstring) and ``np.cos??<ENTER>`` (to view\n",
      "the source code).\n",
      "\n",
      "Copies vs. in-place operation\n",
      "-----------------------------\n",
      "Most of the functions in `numpy` return a copy of the array argument\n",
      "(e.g., `np.sort`).  In-place versions of these functions are often\n",
      "available as array methods, i.e. ``x = np.array([1,2,3]); x.sort()``.\n",
      "Exceptions to this rule are documented.\n",
      "\n",
      "\n",
      "\n",
      "Documentation for matplotlib:\n",
      "\n",
      "An object-oriented plotting library.\n",
      "\n",
      "A procedural interface is provided by the companion pyplot module,\n",
      "which may be imported directly, e.g.::\n",
      "\n",
      "    import matplotlib.pyplot as plt\n",
      "\n",
      "or using ipython::\n",
      "\n",
      "    ipython\n",
      "\n",
      "at your terminal, followed by::\n",
      "\n",
      "    In [1]: %matplotlib\n",
      "    In [2]: import matplotlib.pyplot as plt\n",
      "\n",
      "at the ipython shell prompt.\n",
      "\n",
      "For the most part, direct use of the explicit object-oriented library is\n",
      "encouraged when programming; the implicit pyplot interface is primarily for\n",
      "working interactively. The exceptions to this suggestion are the pyplot\n",
      "functions `.pyplot.figure`, `.pyplot.subplot`, `.pyplot.subplots`, and\n",
      "`.pyplot.savefig`, which can greatly simplify scripting.  See\n",
      ":ref:`api_interfaces` for an explanation of the tradeoffs between the implicit\n",
      "and explicit interfaces.\n",
      "\n",
      "Modules include:\n",
      "\n",
      ":mod:`matplotlib.axes`\n",
      "    The `~.axes.Axes` class.  Most pyplot functions are wrappers for\n",
      "    `~.axes.Axes` methods.  The axes module is the highest level of OO\n",
      "    access to the library.\n",
      "\n",
      ":mod:`matplotlib.figure`\n",
      "    The `.Figure` class.\n",
      "\n",
      ":mod:`matplotlib.artist`\n",
      "    The `.Artist` base class for all classes that draw things.\n",
      "\n",
      ":mod:`matplotlib.lines`\n",
      "    The `.Line2D` class for drawing lines and markers.\n",
      "\n",
      ":mod:`matplotlib.patches`\n",
      "    Classes for drawing polygons.\n",
      "\n",
      ":mod:`matplotlib.text`\n",
      "    The `.Text` and `.Annotation` classes.\n",
      "\n",
      ":mod:`matplotlib.image`\n",
      "    The `.AxesImage` and `.FigureImage` classes.\n",
      "\n",
      ":mod:`matplotlib.collections`\n",
      "    Classes for efficient drawing of groups of lines or polygons.\n",
      "\n",
      ":mod:`matplotlib.colors`\n",
      "    Color specifications and making colormaps.\n",
      "\n",
      ":mod:`matplotlib.cm`\n",
      "    Colormaps, and the `.ScalarMappable` mixin class for providing color\n",
      "    mapping functionality to other classes.\n",
      "\n",
      ":mod:`matplotlib.ticker`\n",
      "    Calculation of tick mark locations and formatting of tick labels.\n",
      "\n",
      ":mod:`matplotlib.backends`\n",
      "    A subpackage with modules for various GUI libraries and output formats.\n",
      "\n",
      "The base matplotlib namespace includes:\n",
      "\n",
      "`~matplotlib.rcParams`\n",
      "    Default configuration settings; their defaults may be overridden using\n",
      "    a :file:`matplotlibrc` file.\n",
      "\n",
      "`~matplotlib.use`\n",
      "    Setting the Matplotlib backend.  This should be called before any\n",
      "    figure is created, because it is not possible to switch between\n",
      "    different GUI backends after that.\n",
      "\n",
      "The following environment variables can be used to customize the behavior:\n",
      "\n",
      ":envvar:`MPLBACKEND`\n",
      "    This optional variable can be set to choose the Matplotlib backend. See\n",
      "    :ref:`what-is-a-backend`.\n",
      "\n",
      ":envvar:`MPLCONFIGDIR`\n",
      "    This is the directory used to store user customizations to\n",
      "    Matplotlib, as well as some caches to improve performance. If\n",
      "    :envvar:`MPLCONFIGDIR` is not defined, :file:`{HOME}/.config/matplotlib`\n",
      "    and :file:`{HOME}/.cache/matplotlib` are used on Linux, and\n",
      "    :file:`{HOME}/.matplotlib` on other platforms, if they are\n",
      "    writable. Otherwise, the Python standard library's `tempfile.gettempdir`\n",
      "    is used to find a base directory in which the :file:`matplotlib`\n",
      "    subdirectory is created.\n",
      "\n",
      "Matplotlib was initially written by John D. Hunter (1968-2012) and is now\n",
      "developed and maintained by a host of others.\n",
      "\n",
      "Occasionally the internal documentation (python docstrings) will refer\n",
      "to MATLAB®, a registered trademark of The MathWorks, Inc.\n",
      "\n",
      "\n",
      "\n"
     ]
    }
   ],
   "source": [
    "### import ast\n",
    "import importlib.util\n",
    "from pathlib import Path\n",
    "\n",
    "def extract_packages_from_code(code):\n",
    "    tree = ast.parse(code)\n",
    "    packages = set()\n",
    "\n",
    "    for node in ast.walk(tree):\n",
    "        if isinstance(node, ast.Import):\n",
    "            for alias in node.names:\n",
    "                packages.add(alias.name)\n",
    "        elif isinstance(node, ast.ImportFrom):\n",
    "            packages.add(node.module)\n",
    "\n",
    "    return packages\n",
    "\n",
    "def generate_docs(packages):\n",
    "    for package in packages:\n",
    "        try:\n",
    "            module = importlib.import_module(package)\n",
    "            docstring = module.__doc__\n",
    "            if docstring:\n",
    "                print(f\"Documentation for {package}:\\n{docstring}\\n\")\n",
    "            else:\n",
    "                print(f\"No documentation found for {package}\\n\")\n",
    "        except ImportError:\n",
    "            print(f\"Package {package} not found\\n\")\n",
    "\n",
    "if __name__ == \"__main__\":\n",
    "    code = \"\"\"\n",
    "import numpy as np\n",
    "from matplotlib import pyplot\n",
    " \n",
    "x = np.linspace(0, 1, 100)\n",
    "y = np.sin(2 * np.pi * x)\n",
    "\n",
    "pyplot.plot(x, y)\n",
    "pyplot.show()\n",
    "    \"\"\"\n",
    "\n",
    "    packages = extract_packages_from_code(code)\n",
    "    generate_docs(packages)"
   ]
  },
  {
   "cell_type": "code",
   "execution_count": 88,
   "id": "1321e1e0-5394-4d89-b237-e86453b9baf3",
   "metadata": {},
   "outputs": [
    {
     "name": "stdout",
     "output_type": "stream",
     "text": [
      "This is a sample np.array(np.ones(5)) and another np.sum example.\n",
      "This is a sample numpy(numpy(5)) and another numpy example.\n",
      "numpy\n"
     ]
    }
   ],
   "source": [
    "import re\n",
    "\n",
    "text = \"This is a sample np.array(np.ones(5)) and another np.sum example.\"\n",
    "\n",
    "pattern = fr'\\b{pakAsname}\\.\\w+\\b'\n",
    "\n",
    "subText = re.sub(pattern, pakName, text)\n",
    "searched = re.search(pakName, subText)\n",
    "print(text)\n",
    "print(subText)\n",
    "print(searched[0])"
   ]
  },
  {
   "cell_type": "markdown",
   "id": "fba35d03-c98a-4306-a79a-584c822f5b3f",
   "metadata": {},
   "source": [
    "['names', 'lineno', 'col_offset', 'end_lineno', 'end_col_offset', '_fields', '__match_args__', '__module__', '__doc__', '__weakref__', '_attributes', '__new__', '__getattribute__', '__setattr__', '__delattr__', '__init__', '__reduce__', '__dict__', '__repr__', '__hash__', '__str__', '__lt__', '__le__', '__eq__', '__ne__', '__gt__', '__ge__', '__reduce_ex__', '__getstate__', '__subclasshook__', '__init_subclass__', '__format__', '__sizeof__', '__dir__', '__class__']"
   ]
  },
  {
   "cell_type": "code",
   "execution_count": 127,
   "id": "27433695-0046-4f47-9f84-445793337126",
   "metadata": {},
   "outputs": [
    {
     "data": {
      "text/plain": [
       "[]"
      ]
     },
     "execution_count": 127,
     "metadata": {},
     "output_type": "execute_result"
    }
   ],
   "source": [
    "tree = ast.parse(code)\n",
    "[node.names[0].name for node in ast.walk(tree) if isinstance(node, ast.Global)]"
   ]
  },
  {
   "cell_type": "code",
   "execution_count": 22,
   "id": "94bca46f-c825-4ce3-8b60-df2bcc731948",
   "metadata": {},
   "outputs": [],
   "source": [
    "import matplotlib.pyplot as plt"
   ]
  },
  {
   "cell_type": "code",
   "execution_count": 23,
   "id": "ff4f65c2-5ee0-453a-abe3-479289915632",
   "metadata": {},
   "outputs": [
    {
     "name": "stdout",
     "output_type": "stream",
     "text": [
      "\n",
      "`matplotlib.pyplot` is a state-based interface to matplotlib. It provides\n",
      "an implicit,  MATLAB-like, way of plotting.  It also opens figures on your\n",
      "screen, and acts as the figure GUI manager.\n",
      "\n",
      "pyplot is mainly intended for interactive plots and simple cases of\n",
      "programmatic plot generation::\n",
      "\n",
      "    import numpy as np\n",
      "    import matplotlib.pyplot as plt\n",
      "\n",
      "    x = np.arange(0, 5, 0.1)\n",
      "    y = np.sin(x)\n",
      "    plt.plot(x, y)\n",
      "\n",
      "The explicit object-oriented API is recommended for complex plots, though\n",
      "pyplot is still usually used to create the figure and often the axes in the\n",
      "figure. See `.pyplot.figure`, `.pyplot.subplots`, and\n",
      "`.pyplot.subplot_mosaic` to create figures, and\n",
      ":doc:`Axes API </api/axes_api>` for the plotting methods on an Axes::\n",
      "\n",
      "    import numpy as np\n",
      "    import matplotlib.pyplot as plt\n",
      "\n",
      "    x = np.arange(0, 5, 0.1)\n",
      "    y = np.sin(x)\n",
      "    fig, ax = plt.subplots()\n",
      "    ax.plot(x, y)\n",
      "\n",
      "\n",
      "See :ref:`api_interfaces` for an explanation of the tradeoffs between the\n",
      "implicit and explicit interfaces.\n",
      "\n"
     ]
    }
   ],
   "source": [
    "print(plt.__doc__)"
   ]
  },
  {
   "cell_type": "code",
   "execution_count": 24,
   "id": "719c1608-e271-4a27-b578-170ed7f6293e",
   "metadata": {},
   "outputs": [
    {
     "name": "stdout",
     "output_type": "stream",
     "text": [
      "<bound method InteractiveShell.get_ipython of <ipykernel.zmqshell.ZMQInteractiveShell object at 0x7f1503353e90>>\n",
      "<function open at 0x7f150443d120>\n",
      "<module 'ast' from '/usr/lib/python3.11/ast.py'>\n"
     ]
    }
   ],
   "source": [
    "for name, obj in globals().items():\n",
    "    if name in str(obj):\n",
    "        print(str(obj))"
   ]
  }
 ],
 "metadata": {
  "kernelspec": {
   "display_name": "Python 3 (ipykernel)",
   "language": "python",
   "name": "python3"
  },
  "language_info": {
   "codemirror_mode": {
    "name": "ipython",
    "version": 3
   },
   "file_extension": ".py",
   "mimetype": "text/x-python",
   "name": "python",
   "nbconvert_exporter": "python",
   "pygments_lexer": "ipython3",
   "version": "3.11.5"
  }
 },
 "nbformat": 4,
 "nbformat_minor": 5
}
