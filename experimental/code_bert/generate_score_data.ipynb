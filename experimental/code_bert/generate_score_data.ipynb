{
 "cells": [
  {
   "cell_type": "code",
   "execution_count": 1,
   "metadata": {},
   "outputs": [],
   "source": [
    "from llmcoder import LLMCoder\n",
    "from llmcoder.utils import get_data_dir, get_system_prompt\n",
    "import json\n",
    "import os\n",
    "import numpy as np\n",
    "from tqdm import tqdm\n",
    "import tiktoken"
   ]
  },
  {
   "cell_type": "code",
   "execution_count": 2,
   "metadata": {},
   "outputs": [],
   "source": [
    "# Run llmcoder preprocess -n codebert -s 100"
   ]
  },
  {
   "cell_type": "code",
   "execution_count": 3,
   "metadata": {},
   "outputs": [],
   "source": [
    "llmcoder = LLMCoder()"
   ]
  },
  {
   "cell_type": "code",
   "execution_count": 4,
   "metadata": {},
   "outputs": [],
   "source": [
    "base_messages = llmcoder.messages.copy()"
   ]
  },
  {
   "cell_type": "code",
   "execution_count": 5,
   "metadata": {},
   "outputs": [
    {
     "name": "stdout",
     "output_type": "stream",
     "text": [
      "/home/psaegert/Projects/23ws-LLMcoder/data/codebert\n"
     ]
    }
   ],
   "source": [
    "CODE_BERT_DATA_DIR = get_data_dir(\"codebert\")\n",
    "print(CODE_BERT_DATA_DIR)"
   ]
  },
  {
   "cell_type": "code",
   "execution_count": 6,
   "metadata": {},
   "outputs": [
    {
     "name": "stderr",
     "output_type": "stream",
     "text": [
      "100%|██████████| 2200/2200 [00:00<00:00, 107831.54it/s]\n"
     ]
    }
   ],
   "source": [
    "# Scan through the pairs in the dataset and truncate the output.txt file to the first appearence of an empty line\n",
    "for pair_folder in tqdm(sorted(os.listdir(os.path.join(CODE_BERT_DATA_DIR, \"pairs\")))):\n",
    "    truncate_at = None\n",
    "    with open(os.path.join(CODE_BERT_DATA_DIR, \"pairs\", pair_folder, \"output.txt\"), \"r\") as f:\n",
    "        lines = f.readlines()\n",
    "        for i, line in enumerate(lines):\n",
    "            if line.strip() == \"\":\n",
    "                truncate_at = i\n",
    "                break\n",
    "\n",
    "    if truncate_at is not None:\n",
    "        with open(os.path.join(CODE_BERT_DATA_DIR, \"pairs\", pair_folder, \"output.txt\"), \"w\") as f:\n",
    "            f.writelines(lines[:i])\n",
    "            "
   ]
  },
  {
   "cell_type": "code",
   "execution_count": 7,
   "metadata": {},
   "outputs": [],
   "source": [
    "# Run llmcoder export -n codebert"
   ]
  },
  {
   "cell_type": "code",
   "execution_count": 8,
   "metadata": {},
   "outputs": [
    {
     "data": {
      "text/plain": [
       "2200"
      ]
     },
     "execution_count": 8,
     "metadata": {},
     "output_type": "execute_result"
    }
   ],
   "source": [
    "# Read the conversations.jsonl file\n",
    "with open(os.path.join(CODE_BERT_DATA_DIR, \"conversations.jsonl\")) as f:\n",
    "    conversations = [json.loads(line) for line in f]\n",
    "len(conversations)"
   ]
  },
  {
   "cell_type": "code",
   "execution_count": 9,
   "metadata": {},
   "outputs": [
    {
     "name": "stdout",
     "output_type": "stream",
     "text": [
      "import argparse\n",
      "import os\n",
      "import subprocess\n",
      "\n",
      "\n",
      "def get_commit_message():\n",
      "    \"\"\"Retrieve the commit message.\"\"\"\n",
      "    build_source_version_message = os.environ[\"BUILD_SOURCEVERSIONMESSAGE\"]\n",
      "\n",
      "    if os.environ[\"BUILD_REASON\"] == \"PullRequest\":\n",
      "        # By default pull requests use refs/pull/PULL_ID/merge as the source branch\n",
      "        # which has a \"Merge ID into ID\" as a commit message. The latest commit\n",
      "        # message is the second to last commit\n",
      "        commit_id = build_source_version_message.split()[1]\n",
      "        git_cmd = [\"git\", \"log\", commit_id, \"-1\", \"--pretty=%B\"]\n",
      "        commit_message = subprocess.run(\n",
      "            git_cmd, capture_output=True, text=True\n",
      "        ).stdout.strip()\n",
      "    else:\n",
      "        commit_message = build_source_version_message\n",
      "\n",
      "    # Sanitize the commit message to avoid introducing a vulnerability: a PR\n",
      "    # submitter could include the \"##vso\" special marker in their commit\n",
      "    # message to attempt to obfuscate the injection of arbitrary commands in\n",
      "    # the Azure pipeline.\n",
      "    #\n",
      "    # This can be a problem if the PR reviewers\n"
     ]
    }
   ],
   "source": [
    "print(conversations[0][\"messages\"][1][\"content\"])"
   ]
  },
  {
   "cell_type": "code",
   "execution_count": 10,
   "metadata": {},
   "outputs": [],
   "source": [
    "N_COMPLETIONS = 10\n",
    "OPENAI_MAX_TOKENS = 4097"
   ]
  },
  {
   "cell_type": "code",
   "execution_count": 11,
   "metadata": {},
   "outputs": [],
   "source": [
    "scoring_prompt = get_system_prompt(\"2023-12-09_Scorer_v1.1.txt\")"
   ]
  },
  {
   "cell_type": "code",
   "execution_count": 12,
   "metadata": {},
   "outputs": [],
   "source": [
    "enc = tiktoken.get_encoding(\"p50k_base\")"
   ]
  },
  {
   "cell_type": "code",
   "execution_count": 13,
   "metadata": {},
   "outputs": [
    {
     "name": "stderr",
     "output_type": "stream",
     "text": [
      "100%|██████████| 1000/1000 [2:23:01<00:00,  8.58s/it] \n"
     ]
    }
   ],
   "source": [
    "X = []\n",
    "y = []\n",
    "\n",
    "batch_size = 2\n",
    "\n",
    "# Shuffle the conversations\n",
    "np.random.shuffle(conversations)\n",
    "\n",
    "# Generate completions with LLMCoder\n",
    "for conversation in tqdm(conversations[:1000]):\n",
    "    user_code = conversation[\"messages\"][1][\"content\"]\n",
    "\n",
    "    # Construct a message list\n",
    "    messages = base_messages + [{\n",
    "        \"role\": \"user\",\n",
    "        \"content\": user_code\n",
    "    }]\n",
    "\n",
    "    # Generate N_COMPLETIONS completions\n",
    "    chat_completions = llmcoder.client.chat.completions.create(\n",
    "        messages=messages,\n",
    "        model=llmcoder.model_first,\n",
    "        temperature=0.7,  # Default is 0.7\n",
    "        n=N_COMPLETIONS\n",
    "    )\n",
    "\n",
    "    # Extract the completion text\n",
    "    completed_code_candidates = [user_code[-1000:] + choice.message.content for choice in chat_completions.choices]\n",
    "\n",
    "    # Add the ground truth completion to the candidates\n",
    "    completed_code_candidates.append(user_code[-1000:] + conversation[\"messages\"][2][\"content\"])\n",
    "\n",
    "    # Throw out any candidates that are too long\n",
    "    if len(enc.encode(llmcoder.score_prompt(completed_code_candidates))) > OPENAI_MAX_TOKENS - 10: # What, do you think I trust this code?\n",
    "        continue  # We have enough data, so we can skip this\n",
    "\n",
    "    # Score the candidates in batches of batch_size\n",
    "    scores = np.empty((len(completed_code_candidates), 4))\n",
    "    for i in range(0, len(completed_code_candidates), batch_size):\n",
    "        upper_bound = min(i + batch_size, len(completed_code_candidates) - 1)\n",
    "        if upper_bound - i == 0:\n",
    "            break\n",
    "        batch_scores = llmcoder.score_code(completed_code_candidates[i : upper_bound], client=llmcoder.client, scoring_prompt=scoring_prompt, reduction=None)\n",
    "        scores[i : upper_bound, :] = batch_scores\n",
    "\n",
    "    # Give the ground truth completion a score of 10\n",
    "    scores[-1] = 10\n",
    "\n",
    "    # Add the scores to the X and y lists\n",
    "    X.extend(completed_code_candidates)\n",
    "    y.extend(scores)"
   ]
  },
  {
   "cell_type": "code",
   "execution_count": 14,
   "metadata": {},
   "outputs": [],
   "source": [
    "assert len(X) == len(y)"
   ]
  },
  {
   "cell_type": "code",
   "execution_count": 15,
   "metadata": {},
   "outputs": [
    {
     "data": {
      "application/vnd.jupyter.widget-view+json": {
       "model_id": "3e3aaa1cd08342eebd656986aed2d716",
       "version_major": 2,
       "version_minor": 0
      },
      "text/plain": [
       "Saving the dataset (0/1 shards):   0%|          | 0/4356 [00:00<?, ? examples/s]"
      ]
     },
     "metadata": {},
     "output_type": "display_data"
    },
    {
     "data": {
      "application/vnd.jupyter.widget-view+json": {
       "model_id": "ff87f0227fa840a8b61cd940452a66bd",
       "version_major": 2,
       "version_minor": 0
      },
      "text/plain": [
       "Saving the dataset (0/1 shards):   0%|          | 0/484 [00:00<?, ? examples/s]"
      ]
     },
     "metadata": {},
     "output_type": "display_data"
    }
   ],
   "source": [
    "# Store the dataset with huggingface datasets\n",
    "import datasets\n",
    "\n",
    "dataset = datasets.Dataset.from_dict({\n",
    "    \"code\": X,\n",
    "    \"score\": y\n",
    "})\n",
    "\n",
    "# Split the dataset into train, validation and test sets\n",
    "dataset = dataset.train_test_split(test_size=0.1)\n",
    "\n",
    "dataset.save_to_disk(os.path.join(CODE_BERT_DATA_DIR, \"score_codebert_dataset\"))"
   ]
  },
  {
   "cell_type": "code",
   "execution_count": 16,
   "metadata": {},
   "outputs": [
    {
     "data": {
      "text/plain": [
       "DatasetDict({\n",
       "    train: Dataset({\n",
       "        features: ['code', 'score'],\n",
       "        num_rows: 4356\n",
       "    })\n",
       "    test: Dataset({\n",
       "        features: ['code', 'score'],\n",
       "        num_rows: 484\n",
       "    })\n",
       "})"
      ]
     },
     "execution_count": 16,
     "metadata": {},
     "output_type": "execute_result"
    }
   ],
   "source": [
    "dataset"
   ]
  },
  {
   "cell_type": "code",
   "execution_count": 47,
   "metadata": {},
   "outputs": [
    {
     "name": "stdout",
     "output_type": "stream",
     "text": [
      "[7.0, 6.0, 7.0, 6.0]\n"
     ]
    }
   ],
   "source": [
    "print(dataset[\"train\"][1]['score'])"
   ]
  },
  {
   "cell_type": "code",
   "execution_count": 48,
   "metadata": {},
   "outputs": [
    {
     "name": "stdout",
     "output_type": "stream",
     "text": [
      "cuda\n"
     ]
    }
   ],
   "source": [
    "import torch\n",
    "from torch import nn\n",
    "device = torch.device(\"cuda\" if torch.cuda.is_available() else \"cpu\")\n",
    "print(device)"
   ]
  },
  {
   "cell_type": "code",
   "execution_count": 59,
   "metadata": {},
   "outputs": [],
   "source": [
    "from transformers import AutoTokenizer\n",
    "\n",
    "tokenizer = AutoTokenizer.from_pretrained(\"microsoft/CodeBERT-base\")"
   ]
  },
  {
   "cell_type": "code",
   "execution_count": 60,
   "metadata": {},
   "outputs": [
    {
     "data": {
      "text/plain": [
       "RobertaForSequenceClassification(\n",
       "  (roberta): RobertaModel(\n",
       "    (embeddings): RobertaEmbeddings(\n",
       "      (word_embeddings): Embedding(50265, 768, padding_idx=1)\n",
       "      (position_embeddings): Embedding(514, 768, padding_idx=1)\n",
       "      (token_type_embeddings): Embedding(1, 768)\n",
       "      (LayerNorm): LayerNorm((768,), eps=1e-05, elementwise_affine=True)\n",
       "      (dropout): Dropout(p=0.1, inplace=False)\n",
       "    )\n",
       "    (encoder): RobertaEncoder(\n",
       "      (layer): ModuleList(\n",
       "        (0-11): 12 x RobertaLayer(\n",
       "          (attention): RobertaAttention(\n",
       "            (self): RobertaSelfAttention(\n",
       "              (query): Linear(in_features=768, out_features=768, bias=True)\n",
       "              (key): Linear(in_features=768, out_features=768, bias=True)\n",
       "              (value): Linear(in_features=768, out_features=768, bias=True)\n",
       "              (dropout): Dropout(p=0.1, inplace=False)\n",
       "            )\n",
       "            (output): RobertaSelfOutput(\n",
       "              (dense): Linear(in_features=768, out_features=768, bias=True)\n",
       "              (LayerNorm): LayerNorm((768,), eps=1e-05, elementwise_affine=True)\n",
       "              (dropout): Dropout(p=0.1, inplace=False)\n",
       "            )\n",
       "          )\n",
       "          (intermediate): RobertaIntermediate(\n",
       "            (dense): Linear(in_features=768, out_features=3072, bias=True)\n",
       "            (intermediate_act_fn): GELUActivation()\n",
       "          )\n",
       "          (output): RobertaOutput(\n",
       "            (dense): Linear(in_features=3072, out_features=768, bias=True)\n",
       "            (LayerNorm): LayerNorm((768,), eps=1e-05, elementwise_affine=True)\n",
       "            (dropout): Dropout(p=0.1, inplace=False)\n",
       "          )\n",
       "        )\n",
       "      )\n",
       "    )\n",
       "  )\n",
       "  (classifier): RobertaClassificationHead(\n",
       "    (dense): Linear(in_features=768, out_features=768, bias=True)\n",
       "    (dropout): Dropout(p=0.1, inplace=False)\n",
       "    (out_proj): Linear(in_features=768, out_features=4, bias=True)\n",
       "  )\n",
       ")"
      ]
     },
     "execution_count": 60,
     "metadata": {},
     "output_type": "execute_result"
    }
   ],
   "source": [
    "from transformers import RobertaConfig, RobertaForSequenceClassification\n",
    "\n",
    "config = RobertaConfig.from_pretrained(\"microsoft/CodeBERT-base\", num_labels=4)\n",
    "model = RobertaForSequenceClassification(config).to(device)\n",
    "model"
   ]
  },
  {
   "cell_type": "code",
   "execution_count": 61,
   "metadata": {},
   "outputs": [],
   "source": [
    "from torch.utils.data import Dataset\n",
    "\n",
    "class CodeDataset(Dataset):\n",
    "    def __init__(self, encodings, labels):\n",
    "        self.encodings = encodings\n",
    "        self.labels = labels\n",
    "\n",
    "    def __getitem__(self, idx):\n",
    "        item = {key: torch.tensor(val[idx]) for key, val in self.encodings.items()}\n",
    "        item['labels'] = torch.tensor(self.labels[idx])\n",
    "        return item\n",
    "\n",
    "    def __len__(self):\n",
    "        return len(self.labels)\n",
    "\n",
    "train_encodings = tokenizer(dataset[\"train\"][\"code\"], truncation=True, padding=True)\n",
    "train_labels = np.array(dataset[\"train\"][\"score\"])\n",
    "\n",
    "# Standard scale the labels\n",
    "train_labels /= 10\n",
    "\n",
    "train_dataset = CodeDataset(train_encodings, train_labels)\n",
    "\n",
    "val_encodings = tokenizer(dataset[\"test\"][\"code\"], truncation=True, padding=True)\n",
    "val_labels = np.array(dataset[\"test\"][\"score\"])\n",
    "\n",
    "# Standard scale the labels\n",
    "val_labels /= 10\n",
    "\n",
    "val_dataset = CodeDataset(val_encodings, val_labels)"
   ]
  },
  {
   "cell_type": "code",
   "execution_count": 62,
   "metadata": {},
   "outputs": [],
   "source": [
    "import numpy as np\n",
    "from sklearn.metrics import mean_squared_error\n",
    "\n",
    "def compute_metrics(eval_pred):\n",
    "    logits, labels = eval_pred\n",
    "    predictions = np.squeeze(logits)  # Remove dimensions of size 1\n",
    "    return {\"mse\": mean_squared_error(labels, predictions)}"
   ]
  },
  {
   "cell_type": "code",
   "execution_count": 63,
   "metadata": {},
   "outputs": [],
   "source": [
    "from transformers import TrainingArguments\n",
    "\n",
    "training_args = TrainingArguments(\n",
    "    output_dir='./results',\n",
    "    num_train_epochs=16,\n",
    "    per_device_train_batch_size=16,\n",
    "    per_device_eval_batch_size=64,\n",
    "    warmup_steps=500,\n",
    "    weight_decay=0.01,\n",
    "    logging_dir='./logs',\n",
    "    logging_steps=10,\n",
    "    evaluation_strategy=\"epoch\",\n",
    ")"
   ]
  },
  {
   "cell_type": "code",
   "execution_count": 64,
   "metadata": {},
   "outputs": [],
   "source": [
    "from torch import nn\n",
    "from transformers import Trainer"
   ]
  },
  {
   "cell_type": "code",
   "execution_count": 65,
   "metadata": {},
   "outputs": [],
   "source": [
    "trainer = Trainer(\n",
    "    model=model,\n",
    "    args=training_args,\n",
    "    train_dataset=train_dataset,\n",
    "    eval_dataset=val_dataset,\n",
    "    tokenizer=tokenizer,\n",
    "    compute_metrics=compute_metrics\n",
    ")"
   ]
  },
  {
   "cell_type": "code",
   "execution_count": 66,
   "metadata": {},
   "outputs": [
    {
     "name": "stderr",
     "output_type": "stream",
     "text": [
      "You're using a RobertaTokenizerFast tokenizer. Please note that with a fast tokenizer, using the `__call__` method is faster than using a method to encode the text followed by a call to the `pad` method to get a padded encoding.\n"
     ]
    },
    {
     "data": {
      "text/html": [
       "\n",
       "    <div>\n",
       "      \n",
       "      <progress value='4368' max='4368' style='width:300px; height:20px; vertical-align: middle;'></progress>\n",
       "      [4368/4368 15:43, Epoch 16/16]\n",
       "    </div>\n",
       "    <table border=\"1\" class=\"dataframe\">\n",
       "  <thead>\n",
       " <tr style=\"text-align: left;\">\n",
       "      <th>Epoch</th>\n",
       "      <th>Training Loss</th>\n",
       "      <th>Validation Loss</th>\n",
       "      <th>Mse</th>\n",
       "    </tr>\n",
       "  </thead>\n",
       "  <tbody>\n",
       "    <tr>\n",
       "      <td>1</td>\n",
       "      <td>0.368400</td>\n",
       "      <td>0.391199</td>\n",
       "      <td>2.663119</td>\n",
       "    </tr>\n",
       "    <tr>\n",
       "      <td>2</td>\n",
       "      <td>0.385400</td>\n",
       "      <td>0.382157</td>\n",
       "      <td>1.768052</td>\n",
       "    </tr>\n",
       "    <tr>\n",
       "      <td>3</td>\n",
       "      <td>0.357800</td>\n",
       "      <td>0.363547</td>\n",
       "      <td>1.844101</td>\n",
       "    </tr>\n",
       "    <tr>\n",
       "      <td>4</td>\n",
       "      <td>0.376000</td>\n",
       "      <td>0.360737</td>\n",
       "      <td>2.486769</td>\n",
       "    </tr>\n",
       "    <tr>\n",
       "      <td>5</td>\n",
       "      <td>0.372500</td>\n",
       "      <td>0.352571</td>\n",
       "      <td>3.222676</td>\n",
       "    </tr>\n",
       "    <tr>\n",
       "      <td>6</td>\n",
       "      <td>0.341400</td>\n",
       "      <td>0.351575</td>\n",
       "      <td>3.913135</td>\n",
       "    </tr>\n",
       "    <tr>\n",
       "      <td>7</td>\n",
       "      <td>0.319800</td>\n",
       "      <td>0.352505</td>\n",
       "      <td>5.246758</td>\n",
       "    </tr>\n",
       "    <tr>\n",
       "      <td>8</td>\n",
       "      <td>0.341700</td>\n",
       "      <td>0.350089</td>\n",
       "      <td>4.363342</td>\n",
       "    </tr>\n",
       "    <tr>\n",
       "      <td>9</td>\n",
       "      <td>0.345500</td>\n",
       "      <td>0.352147</td>\n",
       "      <td>5.661312</td>\n",
       "    </tr>\n",
       "    <tr>\n",
       "      <td>10</td>\n",
       "      <td>0.330500</td>\n",
       "      <td>0.346344</td>\n",
       "      <td>5.445999</td>\n",
       "    </tr>\n",
       "    <tr>\n",
       "      <td>11</td>\n",
       "      <td>0.329200</td>\n",
       "      <td>0.352813</td>\n",
       "      <td>5.568907</td>\n",
       "    </tr>\n",
       "    <tr>\n",
       "      <td>12</td>\n",
       "      <td>0.347800</td>\n",
       "      <td>0.348510</td>\n",
       "      <td>5.920588</td>\n",
       "    </tr>\n",
       "    <tr>\n",
       "      <td>13</td>\n",
       "      <td>0.368500</td>\n",
       "      <td>0.348186</td>\n",
       "      <td>5.698081</td>\n",
       "    </tr>\n",
       "    <tr>\n",
       "      <td>14</td>\n",
       "      <td>0.320500</td>\n",
       "      <td>0.349019</td>\n",
       "      <td>6.085174</td>\n",
       "    </tr>\n",
       "    <tr>\n",
       "      <td>15</td>\n",
       "      <td>0.335900</td>\n",
       "      <td>0.350557</td>\n",
       "      <td>7.061360</td>\n",
       "    </tr>\n",
       "    <tr>\n",
       "      <td>16</td>\n",
       "      <td>0.345700</td>\n",
       "      <td>0.349023</td>\n",
       "      <td>6.709890</td>\n",
       "    </tr>\n",
       "  </tbody>\n",
       "</table><p>"
      ],
      "text/plain": [
       "<IPython.core.display.HTML object>"
      ]
     },
     "metadata": {},
     "output_type": "display_data"
    },
    {
     "data": {
      "text/plain": [
       "TrainOutput(global_step=4368, training_loss=0.3484636201308324, metrics={'train_runtime': 943.5927, 'train_samples_per_second': 73.862, 'train_steps_per_second': 4.629, 'total_flos': 1.8338117409570816e+16, 'train_loss': 0.3484636201308324, 'epoch': 16.0})"
      ]
     },
     "execution_count": 66,
     "metadata": {},
     "output_type": "execute_result"
    }
   ],
   "source": [
    "trainer.train()"
   ]
  },
  {
   "cell_type": "code",
   "execution_count": 67,
   "metadata": {},
   "outputs": [
    {
     "data": {
      "text/html": [
       "\n",
       "    <div>\n",
       "      \n",
       "      <progress value='8' max='8' style='width:300px; height:20px; vertical-align: middle;'></progress>\n",
       "      [8/8 00:01]\n",
       "    </div>\n",
       "    "
      ],
      "text/plain": [
       "<IPython.core.display.HTML object>"
      ]
     },
     "metadata": {},
     "output_type": "display_data"
    },
    {
     "data": {
      "text/plain": [
       "{'eval_loss': 0.34902313351631165,\n",
       " 'eval_mse': 6.709889888763428,\n",
       " 'eval_runtime': 2.0956,\n",
       " 'eval_samples_per_second': 230.962,\n",
       " 'eval_steps_per_second': 3.818,\n",
       " 'epoch': 16.0}"
      ]
     },
     "execution_count": 67,
     "metadata": {},
     "output_type": "execute_result"
    }
   ],
   "source": [
    "trainer.evaluate()"
   ]
  },
  {
   "cell_type": "code",
   "execution_count": 68,
   "metadata": {},
   "outputs": [],
   "source": [
    "trainer.save_model('score_codebert_16')"
   ]
  },
  {
   "cell_type": "code",
   "execution_count": 73,
   "metadata": {},
   "outputs": [
    {
     "name": "stdout",
     "output_type": "stream",
     "text": [
      "tensor([[1.8515, 5.3318, 6.1809, 2.5942]], device='cuda:0',\n",
      "       grad_fn=<AddmmBackward0>)\n"
     ]
    }
   ],
   "source": [
    "# Run the model on a few examples\n",
    "\n",
    "\n",
    "example1 = \"\"\"def foo():\n",
    "    print('Hello, world!')\n",
    "\n",
    "if __name__ == '__main__':\n",
    "    foo()\n",
    "\"\"\"\n",
    "\n",
    "input_ids = tokenizer.encode(example1, return_tensors=\"pt\").to(device)\n",
    "logits = model(input_ids).logits\n",
    "print(logits)"
   ]
  },
  {
   "cell_type": "code",
   "execution_count": null,
   "metadata": {},
   "outputs": [],
   "source": []
  }
 ],
 "metadata": {
  "kernelspec": {
   "display_name": "llmcoder",
   "language": "python",
   "name": "python3"
  },
  "language_info": {
   "codemirror_mode": {
    "name": "ipython",
    "version": 3
   },
   "file_extension": ".py",
   "mimetype": "text/x-python",
   "name": "python",
   "nbconvert_exporter": "python",
   "pygments_lexer": "ipython3",
   "version": "3.11.5"
  }
 },
 "nbformat": 4,
 "nbformat_minor": 2
}
