{
 "cells": [
  {
   "cell_type": "code",
   "execution_count": 20,
   "metadata": {},
   "outputs": [],
   "source": [
    "from llmcoder.LLMCoder import LLMCoder\n",
    "from llmcoder.analyze.MypyAnalyzer import MypyAnalyzer\n",
    "from llmcoder.analyze.HallucinationAnalyzer import HallucinationAnalyzer"
   ]
  },
  {
   "cell_type": "code",
   "execution_count": 21,
   "metadata": {},
   "outputs": [],
   "source": [
    "input = \"\"\"import tiktoken\n",
    "import numpy as np\n",
    "\n",
    "example_dict = {\n",
    "    \"enc\": tiktoken.Tiktoken()\n",
    "}\n",
    "\n",
    "rand_int = np.\"\"\"\n",
    "completion = \"\"\"intarray([1,2,3])\n",
    "\"\"\""
   ]
  },
  {
   "cell_type": "code",
   "execution_count": 22,
   "metadata": {},
   "outputs": [
    {
     "name": "stdout",
     "output_type": "stream",
     "text": [
      "bert_load_from_file: gguf version     = 2\n",
      "bert_load_from_file: gguf alignment   = 32\n",
      "bert_load_from_file: gguf data offset = 695552\n",
      "bert_load_from_file: model name           = BERT\n",
      "bert_load_from_file: model architecture   = bert\n",
      "bert_load_from_file: model file type      = 1\n",
      "bert_load_from_file: bert tokenizer vocab = 30522\n"
     ]
    }
   ],
   "source": [
    "mypy_analyzer = MypyAnalyzer()\n",
    "hallucination_analyzer = HallucinationAnalyzer(verbose=True)"
   ]
  },
  {
   "cell_type": "code",
   "execution_count": 23,
   "metadata": {},
   "outputs": [],
   "source": [
    "mypy_analyzer_result = mypy_analyzer.analyze(input, completion)\n",
    "context = {}\n",
    "context['mypy_analyzer_v1'] = mypy_analyzer_result"
   ]
  },
  {
   "cell_type": "code",
   "execution_count": 24,
   "metadata": {},
   "outputs": [
    {
     "data": {
      "text/plain": [
       "{'mypy_analyzer_v1': {'type': 'critical',\n",
       "  'score': -1,\n",
       "  'pass': False,\n",
       "  'message': 'The completion you provided resulted in the following errors:\\nyour completion:8: error: Module has no attribute \"intarray\"  [attr-defined]\\nFound 2 errors in 1 file (checked 1 source file)'}}"
      ]
     },
     "execution_count": 24,
     "metadata": {},
     "output_type": "execute_result"
    }
   ],
   "source": [
    "context"
   ]
  },
  {
   "cell_type": "code",
   "execution_count": 1,
   "metadata": {},
   "outputs": [
    {
     "ename": "NameError",
     "evalue": "name 'hallucination_analyzer' is not defined",
     "output_type": "error",
     "traceback": [
      "\u001b[0;31m---------------------------------------------------------------------------\u001b[0m",
      "\u001b[0;31mNameError\u001b[0m                                 Traceback (most recent call last)",
      "\u001b[1;32m/home/kushal/Projects/llmcoder/23ws-LLMcoder/experimental/anti-hallucination-analyzer/test-similarity-hallucination.ipynb Cell 6\u001b[0m line \u001b[0;36m1\n\u001b[0;32m----> <a href='vscode-notebook-cell:/home/kushal/Projects/llmcoder/23ws-LLMcoder/experimental/anti-hallucination-analyzer/test-similarity-hallucination.ipynb#W5sZmlsZQ%3D%3D?line=0'>1</a>\u001b[0m hallucination_analyzer_result \u001b[39m=\u001b[39m hallucination_analyzer\u001b[39m.\u001b[39manalyze(\u001b[39minput\u001b[39m, completion, context)\n",
      "\u001b[0;31mNameError\u001b[0m: name 'hallucination_analyzer' is not defined"
     ]
    }
   ],
   "source": [
    "hallucination_analyzer_result = hallucination_analyzer.analyze(input, completion, context)"
   ]
  },
  {
   "cell_type": "code",
   "execution_count": null,
   "metadata": {},
   "outputs": [],
   "source": [
    "hallucinated_embedding = self.gpt4all.embed_query(module_matches[0][-1])\n",
    "suggested_attributes_embeddings = self.gpt4all.embed_documents([suggested_attribute.full_name.split('.')[-1] for suggested_attribute in suggested_attributes if isinstance(suggested_attribute.full_name, str)])\n",
    "suggested_attributes_similarities = sorted([np.dot(hallucinated_embedding, embedding) for suggested_attribute, embedding in zip(suggested_attributes, suggested_attributes_embeddings)], reverse=True)"
   ]
  },
  {
   "cell_type": "code",
   "execution_count": 25,
   "metadata": {},
   "outputs": [
    {
     "name": "stdout",
     "output_type": "stream",
     "text": [
      "[Hallucinations] Using context from previous analyzers: ['mypy_analyzer_v1']\n",
      "[Hallucinations] Found problematic function or class: intarray\n",
      "Unexpected exception formatting exception. Falling back to standard exception\n"
     ]
    },
    {
     "name": "stderr",
     "output_type": "stream",
     "text": [
      "Traceback (most recent call last):\n",
      "  File \"/home/kushal/.config/python.env/llmcoder.env/lib/python3.11/site-packages/IPython/core/interactiveshell.py\", line 3548, in run_code\n",
      "    exec(code_obj, self.user_global_ns, self.user_ns)\n",
      "  File \"/tmp/ipykernel_62016/773098465.py\", line 1, in <module>\n",
      "    hallucination_analyzer_result = hallucination_analyzer.analyze(input, completion, context)\n",
      "                                    ^^^^^^^^^^^^^^^^^^^^^^^^^^^^^^^^^^^^^^^^^^^^^^^^^^^^^^^^^^\n",
      "  File \"/home/kushal/Projects/llmcoder/23ws-LLMcoder/src/llmcoder/analyze/HallucinationAnalyzer.py\", line 91, in analyze\n",
      "    hallucinated_embedding = self.client.embeddings.create(input=[module_matches[0][-1]], model=\"text-embedding-3-small\")\n",
      "                                               ^^^^^^^^^^^^^^^^^^^^^^^^^^^^^^^^^^^^^^^^^^^^^^^^^^^^^^^^^^^^^^^^^^^^^^^^^^^\n",
      "  File \"/home/kushal/Projects/llmcoder/23ws-LLMcoder/src/llmcoder/analyze/HallucinationAnalyzer.py\", line 91, in <listcomp>\n",
      "    hallucinated_embedding = self.client.embeddings.create(input=[module_matches[0][-1]], model=\"text-embedding-3-small\")\n",
      "                                                ^^^^^^^^^^^^^^^^^^^^^^^^^^^^^^^^^^^^^^^^^\n",
      "TypeError: unsupported operand type(s) for *: 'CreateEmbeddingResponse' and 'float'\n",
      "\n",
      "During handling of the above exception, another exception occurred:\n",
      "\n",
      "Traceback (most recent call last):\n",
      "  File \"/home/kushal/.config/python.env/llmcoder.env/lib/python3.11/site-packages/IPython/core/interactiveshell.py\", line 2142, in showtraceback\n",
      "    stb = self.InteractiveTB.structured_traceback(\n",
      "          ^^^^^^^^^^^^^^^^^^^^^^^^^^^^^^^^^^^^^^^^\n",
      "  File \"/home/kushal/.config/python.env/llmcoder.env/lib/python3.11/site-packages/IPython/core/ultratb.py\", line 1435, in structured_traceback\n",
      "    return FormattedTB.structured_traceback(\n",
      "           ^^^^^^^^^^^^^^^^^^^^^^^^^^^^^^^^^\n",
      "  File \"/home/kushal/.config/python.env/llmcoder.env/lib/python3.11/site-packages/IPython/core/ultratb.py\", line 1326, in structured_traceback\n",
      "    return VerboseTB.structured_traceback(\n",
      "           ^^^^^^^^^^^^^^^^^^^^^^^^^^^^^^^\n",
      "  File \"/home/kushal/.config/python.env/llmcoder.env/lib/python3.11/site-packages/IPython/core/ultratb.py\", line 1173, in structured_traceback\n",
      "    formatted_exception = self.format_exception_as_a_whole(etype, evalue, etb, number_of_lines_of_context,\n",
      "                          ^^^^^^^^^^^^^^^^^^^^^^^^^^^^^^^^^^^^^^^^^^^^^^^^^^^^^^^^^^^^^^^^^^^^^^^^^^^^^^^^\n",
      "  File \"/home/kushal/.config/python.env/llmcoder.env/lib/python3.11/site-packages/IPython/core/ultratb.py\", line 1088, in format_exception_as_a_whole\n",
      "    frames.append(self.format_record(record))\n",
      "                  ^^^^^^^^^^^^^^^^^^^^^^^^^^\n",
      "  File \"/home/kushal/.config/python.env/llmcoder.env/lib/python3.11/site-packages/IPython/core/ultratb.py\", line 970, in format_record\n",
      "    frame_info.lines, Colors, self.has_colors, lvals\n",
      "    ^^^^^^^^^^^^^^^^\n",
      "  File \"/home/kushal/.config/python.env/llmcoder.env/lib/python3.11/site-packages/IPython/core/ultratb.py\", line 792, in lines\n",
      "    return self._sd.lines\n",
      "           ^^^^^^^^^^^^^^\n",
      "  File \"/home/kushal/.config/python.env/llmcoder.env/lib/python3.11/site-packages/stack_data/utils.py\", line 145, in cached_property_wrapper\n",
      "    value = obj.__dict__[self.func.__name__] = self.func(obj)\n",
      "                                               ^^^^^^^^^^^^^^\n",
      "  File \"/home/kushal/.config/python.env/llmcoder.env/lib/python3.11/site-packages/stack_data/core.py\", line 734, in lines\n",
      "    pieces = self.included_pieces\n",
      "             ^^^^^^^^^^^^^^^^^^^^\n",
      "  File \"/home/kushal/.config/python.env/llmcoder.env/lib/python3.11/site-packages/stack_data/utils.py\", line 145, in cached_property_wrapper\n",
      "    value = obj.__dict__[self.func.__name__] = self.func(obj)\n",
      "                                               ^^^^^^^^^^^^^^\n",
      "  File \"/home/kushal/.config/python.env/llmcoder.env/lib/python3.11/site-packages/stack_data/core.py\", line 681, in included_pieces\n",
      "    pos = scope_pieces.index(self.executing_piece)\n",
      "                             ^^^^^^^^^^^^^^^^^^^^\n",
      "  File \"/home/kushal/.config/python.env/llmcoder.env/lib/python3.11/site-packages/stack_data/utils.py\", line 145, in cached_property_wrapper\n",
      "    value = obj.__dict__[self.func.__name__] = self.func(obj)\n",
      "                                               ^^^^^^^^^^^^^^\n",
      "  File \"/home/kushal/.config/python.env/llmcoder.env/lib/python3.11/site-packages/stack_data/core.py\", line 660, in executing_piece\n",
      "    return only(\n",
      "           ^^^^^\n",
      "  File \"/home/kushal/.config/python.env/llmcoder.env/lib/python3.11/site-packages/executing/executing.py\", line 116, in only\n",
      "    raise NotOneValueFound('Expected one value, found 0')\n",
      "executing.executing.NotOneValueFound: Expected one value, found 0\n"
     ]
    }
   ],
   "source": [
    "hallucination_analyzer_result = hallucination_analyzer.analyze(input, completion, context)"
   ]
  },
  {
   "cell_type": "code",
   "execution_count": null,
   "metadata": {},
   "outputs": [],
   "source": [
    "import os\n",
    "import io\n",
    "\n",
    "from llmcoder.utils import get_data_dir \n",
    "\n",
    "def load_vectors(fname):\n",
    "    fin = io.open(fname, 'r', encoding='utf-8', newline='\\n', errors='ignore')\n",
    "    n, d = map(int, fin.readline().split())\n",
    "    data = {}\n",
    "    for line in fin:\n",
    "        tokens = line.rstrip().split(' ')\n",
    "        data[tokens[0]] = map(float, tokens[1:])\n",
    "    return data"
   ]
  },
  {
   "cell_type": "code",
   "execution_count": null,
   "metadata": {},
   "outputs": [],
   "source": [
    "load_vectors(os.path.join(get_data_dir(), \"crawl-300d-2M.vec\"))"
   ]
  }
 ],
 "metadata": {
  "kernelspec": {
   "display_name": "llmcoder.env",
   "language": "python",
   "name": "python3"
  },
  "language_info": {
   "codemirror_mode": {
    "name": "ipython",
    "version": 3
   },
   "file_extension": ".py",
   "mimetype": "text/x-python",
   "name": "python",
   "nbconvert_exporter": "python",
   "pygments_lexer": "ipython3",
   "version": "3.11.5"
  }
 },
 "nbformat": 4,
 "nbformat_minor": 2
}
