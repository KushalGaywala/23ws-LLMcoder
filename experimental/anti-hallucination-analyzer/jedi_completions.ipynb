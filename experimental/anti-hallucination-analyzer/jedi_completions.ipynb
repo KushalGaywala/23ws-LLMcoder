{
 "cells": [
  {
   "cell_type": "code",
   "execution_count": 13,
   "metadata": {},
   "outputs": [],
   "source": [
    "import jedi\n",
    "import re\n",
    "\n",
    "from llmcoder.analyze.MypyAnalyzer import MypyAnalyzer"
   ]
  },
  {
   "cell_type": "code",
   "execution_count": 14,
   "metadata": {},
   "outputs": [],
   "source": [
    "source = \"\"\"\n",
    "import tiktoken\n",
    "import numpy as np\n",
    "\n",
    "example_dict = {\n",
    "    \"enc\": tiktoken.Tiktoken()\n",
    "}\n",
    "\n",
    "rand_int = np.random.randiint(0, 10, 1)\n",
    "\"\"\"\n",
    "\n",
    "script = jedi.Script(source)"
   ]
  },
  {
   "cell_type": "code",
   "execution_count": 15,
   "metadata": {},
   "outputs": [],
   "source": [
    "# script.complete_search(\"np.\") # https://www.phind.com/search?cache=ey5i26k2mr5wuezcjx9tzkaf"
   ]
  },
  {
   "cell_type": "code",
   "execution_count": 16,
   "metadata": {},
   "outputs": [],
   "source": [
    "mypy_analyzer = MypyAnalyzer()"
   ]
  },
  {
   "cell_type": "code",
   "execution_count": 17,
   "metadata": {},
   "outputs": [],
   "source": [
    "analysis_results = mypy_analyzer.analyze(input = \"\", completion = source)"
   ]
  },
  {
   "cell_type": "code",
   "execution_count": 18,
   "metadata": {},
   "outputs": [],
   "source": [
    "def extract_modules(s):\n",
    "    pattern = r'([a-zA-Z0-9_]*)\\.([a-zA-Z0-9_]*)'\n",
    "    match = re.search(pattern, s)\n",
    "    if match:\n",
    "        return match.group(1) + '.' + match.group(2)\n",
    "    else:\n",
    "        return None"
   ]
  },
  {
   "cell_type": "code",
   "execution_count": 21,
   "metadata": {},
   "outputs": [
    {
     "name": "stdout",
     "output_type": "stream",
     "text": [
      "    \"enc\": tiktoken.Tiktoken() ['Tiktoken']\n",
      "tiktoken\n",
      "[<Completion: Encoding>, <Completion: encoding_for_model>, <Completion: encoding_name_for_model>, <Completion: get_encoding>, <Completion: list_encoding_names>, <Completion: registry>, <Completion: core>, <Completion: load>, <Completion: model>, <Completion: _educational>, <Completion: tiktoken._tiktoken>, <Completion: __package__>, <Completion: __doc__>, <Completion: __name__>, <Completion: __file__>]\n",
      "---\n",
      "rand_int = np.random.randiint(0, 10, 1) ['randiint']\n",
      "np\n"
     ]
    }
   ],
   "source": [
    "for line in analysis_results[\"message\"].split(\"\\n\"):\n",
    "    if line.startswith(\"your completion:\"):\n",
    "        error_line_number = int(line.split(\":\")[1])\n",
    "        error_line = source.split(\"\\n\")[error_line_number - 1]\n",
    "\n",
    "        matches_no_attr = re.findall(r'has no attribute \\\"(.+?)\\\"', line)\n",
    "\n",
    "        for match in matches_no_attr:\n",
    "            if match.startswith(\"type[\"):\n",
    "                match = match[5:-1]\n",
    "\n",
    "        print(error_line, matches_no_attr)\n",
    "\n",
    "        # Get the module/class name of the hallucinated attribute from the error_line and the match\n",
    "        # E.g. \"tiktoken\" in \"tiktoken.Tiktoken\" or numpy.random\" in \"numpy.random.randint\"\n",
    "        module_matches = re.findall(r'([a-zA-Z0-9_]*)\\.([a-zA-Z0-9_]*)', error_line)\n",
    "\n",
    "        if len(module_matches) == 0:\n",
    "            continue\n",
    "\n",
    "        hallucinated_attribute_module = '.'.join(module_matches[0][:-1])\n",
    "\n",
    "        print(hallucinated_attribute_module)\n",
    "\n",
    "        try:\n",
    "            suggested_attributes = script.complete_search(hallucinated_attribute_module + '.')\n",
    "        except AttributeError:\n",
    "            continue\n",
    "\n",
    "        results_str = \"\"\n",
    "        for suggested_attribute in suggested_attributes:\n",
    "            results_str += suggested_attribute.name + \", \"\n",
    "\n",
    "            "
   ]
  },
  {
   "cell_type": "code",
   "execution_count": 25,
   "metadata": {},
   "outputs": [
    {
     "data": {
      "text/plain": [
       "'Encoding'"
      ]
     },
     "execution_count": 25,
     "metadata": {},
     "output_type": "execute_result"
    }
   ],
   "source": [
    "suggested_attributes[0].name"
   ]
  }
 ],
 "metadata": {
  "kernelspec": {
   "display_name": "llmcoder",
   "language": "python",
   "name": "python3"
  },
  "language_info": {
   "codemirror_mode": {
    "name": "ipython",
    "version": 3
   },
   "file_extension": ".py",
   "mimetype": "text/x-python",
   "name": "python",
   "nbconvert_exporter": "python",
   "pygments_lexer": "ipython3",
   "version": "3.11.5"
  }
 },
 "nbformat": 4,
 "nbformat_minor": 2
}
