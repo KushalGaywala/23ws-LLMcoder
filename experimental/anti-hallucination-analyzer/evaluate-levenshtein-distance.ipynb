{
 "cells": [
  {
   "cell_type": "code",
   "execution_count": 1,
   "metadata": {},
   "outputs": [],
   "source": [
    "from llmcoder.LLMCoder import LLMCoder\n",
    "from llmcoder.analyze.MypyAnalyzer import MypyAnalyzer\n",
    "from llmcoder.analyze.HallucinationAnalyzer import HallucinationAnalyzer"
   ]
  },
  {
   "cell_type": "code",
   "execution_count": 2,
   "metadata": {},
   "outputs": [],
   "source": [
    "input = \"\"\"import tiktoken\n",
    "import numpy as np\n",
    "\n",
    "example_dict = {\n",
    "    \"enc\": tiktoken.Tiktoken()\n",
    "}\n",
    "\n",
    "rand_int = np.\"\"\"\n",
    "completion = \"\"\"intarray([1,2,3])\n",
    "\"\"\""
   ]
  },
  {
   "cell_type": "code",
   "execution_count": 3,
   "metadata": {},
   "outputs": [
    {
     "name": "stdout",
     "output_type": "stream",
     "text": [
      "bert_load_from_file: gguf version     = 2\n",
      "bert_load_from_file: gguf alignment   = 32\n",
      "bert_load_from_file: gguf data offset = 695552\n",
      "bert_load_from_file: model name           = BERT\n",
      "bert_load_from_file: model architecture   = bert\n",
      "bert_load_from_file: model file type      = 1\n",
      "bert_load_from_file: bert tokenizer vocab = 30522\n"
     ]
    }
   ],
   "source": [
    "mypy_analyzer = MypyAnalyzer(verbose=True)\n",
    "hallucination_analyzer = HallucinationAnalyzer(verbose=True)"
   ]
  },
  {
   "cell_type": "code",
   "execution_count": 4,
   "metadata": {},
   "outputs": [
    {
     "name": "stdout",
     "output_type": "stream",
     "text": [
      "[Mypy] No missing stubs found.\n",
      "[Mypy] /tmp/tmpjw42uk5z.py:5: error: Module has no attribute \"Tiktoken\"  [attr-defined]\n",
      "[Mypy] /tmp/tmpjw42uk5z.py:8: error: Module has no attribute \"intarray\"  [attr-defined]\n",
      "[Mypy] Found 2 errors in 1 file (checked 1 source file)\n",
      "[MyPyJediAnalyzer] Mypy Error: /tmp/tmpjw42uk5z.py:5: error: Module has no attribute \"Tiktoken\"  [attr-defined]\n",
      "[MyPyJediAnalyzer] Mypy Error: /tmp/tmpjw42uk5z.py:8: error: Module has no attribute \"intarray\"  [attr-defined]\n",
      "[MyPyJediAnalyzer] Mypy Error: Found 2 errors in 1 file (checked 1 source file)\n",
      "[MyPyJediAnalyzer] Mypy Error: \n"
     ]
    }
   ],
   "source": [
    "mypy_analyzer_result = mypy_analyzer.analyze(input, completion)\n",
    "context = {}\n",
    "context['mypy_analyzer_v1'] = mypy_analyzer_result"
   ]
  },
  {
   "cell_type": "code",
   "execution_count": 5,
   "metadata": {},
   "outputs": [
    {
     "data": {
      "text/plain": [
       "{'mypy_analyzer_v1': {'type': 'critical',\n",
       "  'score': -1,\n",
       "  'pass': False,\n",
       "  'message': 'The completion you provided resulted in the following errors:\\nyour completion:8: error: Module has no attribute \"intarray\"  [attr-defined]\\nFound 2 errors in 1 file (checked 1 source file)'}}"
      ]
     },
     "execution_count": 5,
     "metadata": {},
     "output_type": "execute_result"
    }
   ],
   "source": [
    "context"
   ]
  },
  {
   "cell_type": "code",
   "execution_count": 7,
   "metadata": {},
   "outputs": [],
   "source": [
    "context = {'mypy_analyzer_v1': {'type': 'critical',\n",
    "  'score': -1,\n",
    "  'pass': False,\n",
    "  'message': 'The completion you provided resulted in the following errors:\\nyour completion:8: error: Module has no attribute \"intarray\"  [attr-defined]\\nFound 2 errors in 1 file (checked 1 source file)'}}"
   ]
  },
  {
   "cell_type": "code",
   "execution_count": 8,
   "metadata": {},
   "outputs": [
    {
     "name": "stdout",
     "output_type": "stream",
     "text": [
      "[Hallucinations] Using context from previous analyzers: ['mypy_analyzer_v1']\n",
      "[Hallucinations] Found problematic function or class: intarray\n",
      "[Hallucinations] Found hallucination: intarray in np with 10 suggestions\n",
      "[Hallucinations] Full name: np.intarray, append to []\n",
      "[Hallucinations] Found 1 hallucinations: ['np.intarray']\n",
      "[Hallucinations] Suggested attributes for np.intarray: ['ndarray', 'array', 'asarray', 'asfarray', 'recarray', 'numarray', 'asfarray', 'asanyarray', 'interp', 'chararray']\n"
     ]
    }
   ],
   "source": [
    "hallucination_analyzer_result = hallucination_analyzer.analyze(input, completion, context)"
   ]
  }
 ],
 "metadata": {
  "kernelspec": {
   "display_name": "llmcoder.env",
   "language": "python",
   "name": "python3"
  },
  "language_info": {
   "codemirror_mode": {
    "name": "ipython",
    "version": 3
   },
   "file_extension": ".py",
   "mimetype": "text/x-python",
   "name": "python",
   "nbconvert_exporter": "python",
   "pygments_lexer": "ipython3",
   "version": "3.11.7"
  }
 },
 "nbformat": 4,
 "nbformat_minor": 2
}
