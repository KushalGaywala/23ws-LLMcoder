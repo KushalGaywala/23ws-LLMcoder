{
 "cells": [
  {
   "cell_type": "code",
   "execution_count": 133,
   "metadata": {},
   "outputs": [],
   "source": [
    "import numpy as np\n",
    "from openai import OpenAI\n",
    "from llmcoder.utils import get_openai_key, get_system_prompt"
   ]
  },
  {
   "cell_type": "code",
   "execution_count": 134,
   "metadata": {},
   "outputs": [],
   "source": [
    "cands = [\"\"\"for score in scores:\n",
    "    # Compute the geometric mean of the scores\n",
    "    score = np.array([float(s) for s in score.split(\"\\n\")])\n",
    "    score_mean = np.exp(np.mean(np.log(score)))\n",
    "    print(score_mean)\"\"\", \"\"\"for score in scores:\n",
    "    # Compute the geometric mean of the scores\n",
    "    score = np.mean([float(s) for s in score.split(\"\\n\")])\n",
    "    print(score, score_mean)\"\"\", \"\"\"for score in scores:\n",
    "    # Compute the geometric mean of the scores\n",
    "    score = np.array([float(s) for s in score.split(\"\\n\")])\n",
    "    score = np.exp(np.mean(np.log(score)))\n",
    "    print(score)\"\"\"]"
   ]
  },
  {
   "cell_type": "code",
   "execution_count": 135,
   "metadata": {},
   "outputs": [],
   "source": [
    "client = OpenAI(api_key=get_openai_key())"
   ]
  },
  {
   "cell_type": "code",
   "execution_count": 136,
   "metadata": {},
   "outputs": [],
   "source": [
    "def score_code(code):\n",
    "    messages= [\n",
    "        {\n",
    "            \"role\": \"system\",\n",
    "            \"content\": get_system_prompt(\"2023-12-09_Scorer_v2.txt\")\n",
    "        }, {\n",
    "            \"role\": \"user\",\n",
    "            \"content\": code\n",
    "        }\n",
    "    ]\n",
    "    completions = client.chat.completions.create(messages=messages, model=\"gpt-3.5-turbo\", temperature=0)\n",
    "\n",
    "    return completions.choices[0].message.content"
   ]
  },
  {
   "cell_type": "code",
   "execution_count": 137,
   "metadata": {},
   "outputs": [],
   "source": [
    "scores = [score_code(cand) for cand in cands]"
   ]
  },
  {
   "cell_type": "code",
   "execution_count": 138,
   "metadata": {},
   "outputs": [
    {
     "name": "stdout",
     "output_type": "stream",
     "text": [
      "[7.5 8.5 9. ] 8.309487385131698\n",
      "[5. 7. 8.] 6.542132620377179\n",
      "[7.5 8.  8.5] 7.989569740454013\n"
     ]
    }
   ],
   "source": [
    "for score in scores:\n",
    "    # Compute the geometric mean of the scores    \n",
    "    score = np.array([float(s) for s in score.split(\"\\n\")])\n",
    "    score_mean = np.exp(np.mean(np.log(score)))\n",
    "    print(score, score_mean)"
   ]
  },
  {
   "cell_type": "code",
   "execution_count": null,
   "metadata": {},
   "outputs": [],
   "source": []
  }
 ],
 "metadata": {
  "kernelspec": {
   "display_name": "llmcoder",
   "language": "python",
   "name": "python3"
  },
  "language_info": {
   "codemirror_mode": {
    "name": "ipython",
    "version": 3
   },
   "file_extension": ".py",
   "mimetype": "text/x-python",
   "name": "python",
   "nbconvert_exporter": "python",
   "pygments_lexer": "ipython3",
   "version": "3.11.5"
  }
 },
 "nbformat": 4,
 "nbformat_minor": 2
}
