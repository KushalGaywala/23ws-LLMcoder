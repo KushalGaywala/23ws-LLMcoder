{
 "cells": [
  {
   "cell_type": "code",
   "execution_count": 1,
   "metadata": {},
   "outputs": [],
   "source": [
    "from llmcoder import LLMCoder"
   ]
  },
  {
   "cell_type": "code",
   "execution_count": 2,
   "metadata": {},
   "outputs": [],
   "source": [
    "llmcoder = LLMCoder(\n",
    "    analyzers=[\"mypy_analyzer_v1\", \"signature_analyzer_v1\"],\n",
    "    max_iter=5,\n",
    "    feedback_variant=\"coworker\",\n",
    "    n_procs=3,\n",
    "    backtracking=False)"
   ]
  },
  {
   "cell_type": "code",
   "execution_count": 3,
   "metadata": {},
   "outputs": [],
   "source": [
    "initial_code = '''# Import random forest regressor\n",
    "'''"
   ]
  },
  {
   "cell_type": "code",
   "execution_count": 4,
   "metadata": {},
   "outputs": [
    {
     "name": "stdout",
     "output_type": "stream",
     "text": [
      "[LLMcoder] Creating first completions...\n",
      "[LLMcoder] Choosing conversation R with score 0\n",
      "[LLMcoder] Found 0 repeated mistakes, 2 duplicates. Increasing temperature to 0.7 and number of choices to 3... [repetition 1/5]\n",
      "[LLMcoder] Found 0 repeated mistakes, 5 duplicates. Increasing temperature to 0.9 and number of choices to 6... [repetition 2/5]\n",
      "[LLMcoder] Found 0 repeated mistakes, 11 duplicates. Increasing temperature to 1.1 and number of choices to 12... [repetition 3/5]\n",
      "[LLMcoder] Found 0 repeated mistakes, 23 duplicates. Increasing temperature to 1.3 and number of choices to 24... [repetition 4/5]\n",
      "[LLMcoder] Found 0 repeated mistakes, 47 duplicates. Increasing temperature to 1.5 and number of choices to 32... [repetition 5/5]\n",
      "[LLMcoder] Analyzing completion...\n",
      "[LLMcoder] Analyzing code in coworker mode...\n",
      "[LLMcoder] Running mypy_analyzer_v1...\n",
      "[Mypy] No missing stubs found.\n",
      "[Mypy] /tmp/tmpf446ru1j.py:2: error: Skipping analyzing \"sklearn.ensemble\": module is installed, but missing library stubs or py.typed marker  [import-untyped]\n",
      "[Mypy] /tmp/tmpf446ru1j.py:2: note: See https://mypy.readthedocs.io/en/stable/running_mypy.html#missing-imports\n",
      "[Mypy] Found 1 error in 1 file (checked 1 source file)\n",
      "[LLMcoder] Running signature_analyzer_v1...\n",
      "[Signatures] Using context from previous analyzers: ['mypy_analyzer_v1']\n",
      "[Signatures] No problematic functions or classes found in the context.\n",
      "[LLMcoder] Have 1 conversations:\n",
      "[LLMcoder] Passing   Score     Prob      Path\n",
      "[LLMcoder] True      0         1.0       ['R', 0]\n",
      "[LLMcoder] First completion is correct. Stopping early...\n"
     ]
    }
   ],
   "source": [
    "completion = llmcoder.complete(initial_code, n=3)"
   ]
  },
  {
   "cell_type": "code",
   "execution_count": 5,
   "metadata": {},
   "outputs": [
    {
     "name": "stdout",
     "output_type": "stream",
     "text": [
      "from sklearn.ensemble import RandomForestRegressor\n"
     ]
    }
   ],
   "source": [
    "print(completion)"
   ]
  }
 ],
 "metadata": {
  "kernelspec": {
   "display_name": "llmcoder",
   "language": "python",
   "name": "python3"
  },
  "language_info": {
   "codemirror_mode": {
    "name": "ipython",
    "version": 3
   },
   "file_extension": ".py",
   "mimetype": "text/x-python",
   "name": "python",
   "nbconvert_exporter": "python",
   "pygments_lexer": "ipython3",
   "version": "3.11.7"
  }
 },
 "nbformat": 4,
 "nbformat_minor": 2
}
