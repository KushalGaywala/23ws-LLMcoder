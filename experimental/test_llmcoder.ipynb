{
 "cells": [
  {
   "cell_type": "code",
   "execution_count": 6,
   "metadata": {},
   "outputs": [],
   "source": [
    "from llmcoder import LLMCoder"
   ]
  },
  {
   "cell_type": "code",
   "execution_count": 7,
   "metadata": {},
   "outputs": [],
   "source": [
    "llmcoder = LLMCoder(analyzers=[])"
   ]
  },
  {
   "cell_type": "code",
   "execution_count": 8,
   "metadata": {},
   "outputs": [],
   "source": [
    "test_code = \"\"\"# AI ToolsFirst prototype for completion fetching documentation\n",
    "import argparse\n",
    "import sys\n",
    "\n",
    "\n",
    "def main() -> \"\"\""
   ]
  },
  {
   "cell_type": "code",
   "execution_count": 9,
   "metadata": {},
   "outputs": [],
   "source": [
    "completion = llmcoder.complete(test_code)"
   ]
  },
  {
   "cell_type": "code",
   "execution_count": 10,
   "metadata": {},
   "outputs": [
    {
     "name": "stdout",
     "output_type": "stream",
     "text": [
      "# AI ToolsFirst prototype for completion fetching documentation\n",
      "import argparse\n",
      "import sys\n",
      "\n",
      "\n",
      "def main() -> None:\n",
      "    parser = argparse.ArgumentParser(\n",
      "        description=\"Run the model for CI/CD pipeline\")\n",
      "    parser.add_argument(\"--config_path\", required=True, type=str)\n",
      "    parser.add_argument(\"--environment\", required=True, type=str)\n",
      "    parser.add_argument(\"--CI/CD/CD\", type=str)\n",
      "    return \n"
     ]
    }
   ],
   "source": [
    "print(test_code + completion)"
   ]
  }
 ],
 "metadata": {
  "kernelspec": {
   "display_name": "llmcoder",
   "language": "python",
   "name": "python3"
  },
  "language_info": {
   "codemirror_mode": {
    "name": "ipython",
    "version": 3
   },
   "file_extension": ".py",
   "mimetype": "text/x-python",
   "name": "python",
   "nbconvert_exporter": "python",
   "pygments_lexer": "ipython3",
   "version": "3.11.5"
  }
 },
 "nbformat": 4,
 "nbformat_minor": 2
}
