{
 "cells": [
  {
   "cell_type": "code",
   "execution_count": 1,
   "metadata": {},
   "outputs": [],
   "source": [
    "from llmcoder import LLMCoder\n",
    "\n",
    "from llmcoder.analyze.MypyAnalyzer import MypyAnalyzer\n",
    "from llmcoder.analyze.SignatureAnalyzer import SignatureAnalyzer"
   ]
  },
  {
   "cell_type": "code",
   "execution_count": 2,
   "metadata": {},
   "outputs": [],
   "source": [
    "code = \"\"\"\n",
    "from llmcoder.analyze import APIDocumentationAnalyzer\n",
    "a = APIDocumentationAnalyzer()\n",
    "analyzer_results = [a.an\"\"\"\n",
    "\n",
    "completion = \"\"\"alyze(input, completion, generator)]\"\"\""
   ]
  },
  {
   "cell_type": "code",
   "execution_count": 3,
   "metadata": {},
   "outputs": [],
   "source": [
    "mypy = MypyAnalyzer(verbose=True)"
   ]
  },
  {
   "cell_type": "code",
   "execution_count": 4,
   "metadata": {},
   "outputs": [
    {
     "name": "stdout",
     "output_type": "stream",
     "text": [
      "[Mypy] No missing stubs found.\n",
      "[Mypy] /tmp/tmp_mkht9o6.py:15: error: Argument 3 to \"analyze\" of \"APIDocumentationAnalyzer\" has incompatible type \"ellipsis\"; expected \"dict[str, dict[str, bool | str]] | None\"  [arg-type]\n",
      "[Mypy] Found 1 error in 1 file (checked 1 source file)\n"
     ]
    }
   ],
   "source": [
    "context = mypy.analyze(code, completion)"
   ]
  },
  {
   "cell_type": "code",
   "execution_count": 5,
   "metadata": {},
   "outputs": [],
   "source": [
    "sig = SignatureAnalyzer(verbose=True)"
   ]
  },
  {
   "cell_type": "code",
   "execution_count": 6,
   "metadata": {},
   "outputs": [
    {
     "name": "stdout",
     "output_type": "stream",
     "text": [
      "[Signatures] Using context from previous analyzers: ['mypy_analyzer_v1']\n",
      "[Signatures] all_matches=['APIDocumentationAnalyzer.analyze']\n",
      "[Signatures] Found problematic function or class: APIDocumentationAnalyzer.analyze\n",
      "[Signatures] function_calls=[('llmcoder', 'APIDocumentationAnalyzer', 'analyze')]\n",
      "[Signatures] Got signatures and documentations:\n",
      "[Signatures] APIDocumentationAnalyzer.analyze: (self, input: str, completion: str, context: dict[str, dict[str, bool | str]] | None = None) -> dict[str, bool | str], analyze analyzes the code that is passed in APIDocumentAnalyze class object and returns the documentation with the API References\n"
     ]
    },
    {
     "data": {
      "text/plain": [
       "{'pass': True,\n",
       " 'type': 'info',\n",
       " 'score': -1,\n",
       " 'message': 'To fix these errors, use these ground truth signatures as a reference for your next completion:\\nAPIDocumentationAnalyzer.analyze: (self, input: str, completion: str, context: dict[str, dict[str, bool | str]] | None = None) -> dict[str, bool | str]'}"
      ]
     },
     "execution_count": 6,
     "metadata": {},
     "output_type": "execute_result"
    }
   ],
   "source": [
    "sig.analyze(code, completion, {'mypy_analyzer_v1': context})"
   ]
  }
 ],
 "metadata": {
  "kernelspec": {
   "display_name": "llmcoder",
   "language": "python",
   "name": "python3"
  },
  "language_info": {
   "codemirror_mode": {
    "name": "ipython",
    "version": 3
   },
   "file_extension": ".py",
   "mimetype": "text/x-python",
   "name": "python",
   "nbconvert_exporter": "python",
   "pygments_lexer": "ipython3",
   "version": "3.11.5"
  }
 },
 "nbformat": 4,
 "nbformat_minor": 2
}
