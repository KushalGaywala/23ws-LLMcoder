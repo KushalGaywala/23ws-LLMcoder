{
 "cells": [
  {
   "cell_type": "code",
   "execution_count": 10,
   "metadata": {},
   "outputs": [],
   "source": [
    "from llmcoder import LLMCoder\n",
    "\n",
    "from llmcoder.analyze.MypyAnalyzer import MypyAnalyzer\n",
    "from llmcoder.analyze.SignatureAnalyzer import SignatureAnalyzer"
   ]
  },
  {
   "cell_type": "code",
   "execution_count": 11,
   "metadata": {},
   "outputs": [
    {
     "name": "stdout",
     "output_type": "stream",
     "text": [
      "[Mypy] No missing stubs found.\n",
      "[Mypy] /tmp/tmp7oc9ocva.py:4: error: Argument 1 to \"analyze\" of \"APIDocumentationAnalyzer\" has incompatible type \"Callable[[object], str]\"; expected \"str\"  [arg-type]\n",
      "[Mypy] /tmp/tmp7oc9ocva.py:4: error: Name \"completion\" is not defined  [name-defined]\n",
      "[Mypy] /tmp/tmp7oc9ocva.py:4: error: Name \"generator\" is not defined  [name-defined]\n",
      "[Mypy] Found 3 errors in 1 file (checked 1 source file)\n",
      "[Signatures] Using context from previous analyzers: ['mypy_analyzer_v1']\n",
      "[Signatures] all_matches=['APIDocumentationAnalyzer.analyze']\n",
      "[Signatures] Found problematic function or class: APIDocumentationAnalyzer.analyze\n",
      "[Signatures] all_matches=[]\n",
      "[Signatures] all_matches=[]\n",
      "[Signatures] function_calls=[('llmcoder', 'APIDocumentationAnalyzer', 'analyze')]\n",
      "[Signatures] Got signatures and documentations:\n",
      "[Signatures] APIDocumentationAnalyzer.analyze: (self, input: str, completion: str, context: dict[str, dict[str, bool | str]] | None = None) -> dict[str, bool | str], analyze analyzes the code that is passed in APIDocumentAnalyze class object and returns the documentation with the API References\n"
     ]
    }
   ],
   "source": [
    "# Argument 1 to \"analyze\" of \"APIDocumentationAnalyzer\" has incompatible type \"Callable[[object], str]\"; expected \"str\"  [arg-type]\n",
    "code = \"\"\"\n",
    "from llmcoder.analyze import APIDocumentationAnalyzer\n",
    "a = APIDocumentationAnalyzer()\n",
    "analyzer_results = [a.an\"\"\"\n",
    "\n",
    "completion = \"\"\"alyze(input, completion, generator)]\"\"\"\n",
    "\n",
    "mypy = MypyAnalyzer(verbose=True)\n",
    "sig = SignatureAnalyzer(verbose=True)\n",
    "\n",
    "mypy_result = mypy.analyze(code, completion)\n",
    "sig_result = sig.analyze(code, completion, {'mypy_analyzer_v1': mypy_result})\n",
    "\n",
    "assert \"APIDocumentationAnalyzer.analyze\" in sig_result['message']"
   ]
  },
  {
   "cell_type": "code",
   "execution_count": 16,
   "metadata": {},
   "outputs": [
    {
     "name": "stdout",
     "output_type": "stream",
     "text": [
      "[Mypy] No missing stubs found.\n",
      "[Mypy] /tmp/tmp2pxa0xbg.py:4: error: \"analyze\" of \"APIDocumentationAnalyzer\" gets multiple values for keyword argument \"input\"  [misc]\n",
      "[Mypy] Found 1 error in 1 file (checked 1 source file)\n",
      "[Signatures] Using context from previous analyzers: ['mypy_analyzer_v1']\n",
      "[Signatures] all_matches=['APIDocumentationAnalyzer.analyze']\n",
      "[Signatures] Found problematic function or class: APIDocumentationAnalyzer.analyze\n",
      "[Signatures] function_calls=[('llmcoder', 'APIDocumentationAnalyzer', 'analyze')]\n",
      "[Signatures] Got signatures and documentations:\n",
      "[Signatures] APIDocumentationAnalyzer.analyze: (self, input: str, completion: str, context: dict[str, dict[str, bool | str]] | None = None) -> dict[str, bool | str], analyze analyzes the code that is passed in APIDocumentAnalyze class object and returns the documentation with the API References\n"
     ]
    }
   ],
   "source": [
    "# \"analyze\" of \"APIDocumentationAnalyzer\" gets multiple values for keyword argument \"input\"  [misc]\n",
    "code = \"\"\"\n",
    "from llmcoder.analyze import APIDocumentationAnalyzer\n",
    "a = APIDocumentationAnalyzer()\n",
    "analyzer_results = [a.an\"\"\"\n",
    "\n",
    "completion = \"\"\"alyze(input=\"a\", input=\"b\", completion=\"v\")]\"\"\"\n",
    "\n",
    "mypy = MypyAnalyzer(verbose=True)\n",
    "sig = SignatureAnalyzer(verbose=True)\n",
    "\n",
    "mypy_result = mypy.analyze(code, completion)\n",
    "sig_result = sig.analyze(code, completion, {'mypy_analyzer_v1': mypy_result})\n",
    "\n",
    "assert \"APIDocumentationAnalyzer.analyze\" in sig_result['message']"
   ]
  },
  {
   "cell_type": "code",
   "execution_count": 2,
   "metadata": {},
   "outputs": [
    {
     "name": "stdout",
     "output_type": "stream",
     "text": [
      "[Mypy] No missing stubs found.\n",
      "[Mypy] /tmp/tmp9liq6avn.py:3: error: Unexpected keyword argument \"seed\" for \"LLMCoder\"  [call-arg]\n",
      "[Mypy] Found 1 error in 1 file (checked 1 source file)\n",
      "[Signatures] Using context from previous analyzers: ['mypy_analyzer_v1']\n",
      "[Signatures] all_matches=['LLMCoder']\n",
      "[Signatures] Found problematic function or class: LLMCoder\n",
      "[Signatures] function_calls=[(None, 'LLMCoder', None)]\n",
      "[Signatures] Got signatures and documentations:\n",
      "[Signatures] LLMCoder: (analyzers: list[str] = None, model_first: str = 'ft:gpt-3.5-turbo-1106:personal::8LCi9Q0d', model_feedback: str = 'ft:gpt-3.5-turbo-1106:personal::8LCi9Q0d', feedback_variant: str = 'coworker', system_prompt: str | None = None, max_iter: int = 10, log_conversation: bool = True, n_procs: int = 1, verbose: bool = True) -> None, Initialize the LLMCoder\n"
     ]
    }
   ],
   "source": [
    "# Unexpected keyword argument \"seed\" for \"LLMCoder\"  [call-arg]\n",
    "code = \"\"\"\n",
    "from llmcoder import LLMCoder\n",
    "coder = LLMCoder(\"\"\"\n",
    "\n",
    "completion = \"\"\"seed=1)\"\"\"\n",
    "\n",
    "mypy = MypyAnalyzer(verbose=True)\n",
    "sig = SignatureAnalyzer(verbose=True)\n",
    "\n",
    "mypy_result = mypy.analyze(code, completion)\n",
    "sig_result = sig.analyze(code, completion, {'mypy_analyzer_v1': mypy_result})\n",
    "\n",
    "assert \"LLMCoder: (\" in sig_result['message']"
   ]
  },
  {
   "cell_type": "code",
   "execution_count": 23,
   "metadata": {},
   "outputs": [
    {
     "name": "stdout",
     "output_type": "stream",
     "text": [
      "[Mypy] No missing stubs found.\n",
      "[Mypy] /tmp/tmpe2ttf484.py:3: error: Too many arguments for \"APIDocumentationAnalyzer\"  [call-arg]\n",
      "[Mypy] Found 1 error in 1 file (checked 1 source file)\n",
      "[Signatures] Using context from previous analyzers: ['mypy_analyzer_v1']\n",
      "[Signatures] all_matches=['APIDocumentationAnalyzer']\n",
      "[Signatures] Found problematic function or class: APIDocumentationAnalyzer\n",
      "[Signatures] function_calls=[('llmcoder', 'APIDocumentationAnalyzer', None)]\n",
      "[Signatures] Got signatures and documentations:\n",
      "[Signatures] APIDocumentationAnalyzer: () -> None, Helper class that provides a standard way to create an ABC using\n"
     ]
    }
   ],
   "source": [
    "# Too many arguments for \"APIDocumentationAnalyzer\"  [call-arg]\n",
    "code = \"\"\"\n",
    "from llmcoder.analyze import APIDocumentationAnalyzer\n",
    "a = APIDocumentationAnalyzer(\"\"\"\n",
    "\n",
    "completion = \"\"\"1, 2, 3, 4, 5, 6, 7)\"\"\"\n",
    "\n",
    "mypy = MypyAnalyzer(verbose=True)\n",
    "sig = SignatureAnalyzer(verbose=True)\n",
    "\n",
    "mypy_result = mypy.analyze(code, completion)\n",
    "sig_result = sig.analyze(code, completion, {'mypy_analyzer_v1': mypy_result})\n",
    "\n",
    "assert \"APIDocumentationAnalyzer: (\" in sig_result['message']"
   ]
  },
  {
   "cell_type": "code",
   "execution_count": null,
   "metadata": {},
   "outputs": [],
   "source": []
  },
  {
   "cell_type": "code",
   "execution_count": 18,
   "metadata": {},
   "outputs": [
    {
     "name": "stdout",
     "output_type": "stream",
     "text": [
      "[Mypy] No missing stubs found.\n",
      "[Mypy] /tmp/tmph1_dgmyx.py:5: error: Argument 1 to \"analyze\" of \"APIDocumentationAnalyzer\" has incompatible type \"int\"; expected \"str\"  [arg-type]\n",
      "[Mypy] Found 1 error in 1 file (checked 1 source file)\n",
      "[Signatures] Using context from previous analyzers: ['mypy_analyzer_v1']\n",
      "[Signatures] all_matches=['APIDocumentationAnalyzer.analyze']\n",
      "[Signatures] Found problematic function or class: APIDocumentationAnalyzer.analyze\n",
      "[Signatures] function_calls=[('llmcoder', 'APIDocumentationAnalyzer', 'analyze')]\n",
      "[Signatures] Got signatures and documentations:\n",
      "[Signatures] APIDocumentationAnalyzer.analyze: (self, input: str, completion: str, context: dict[str, dict[str, bool | str]] | None = None) -> dict[str, bool | str], analyze analyzes the code that is passed in APIDocumentAnalyze class object and returns the documentation with the API References\n"
     ]
    }
   ],
   "source": [
    "# Argument 1 to \"analyze\" of \"APIDocumentationAnalyzer\" has incompatible type \"int\"; expected \"str\"  [arg-type]\n",
    "code = \"\"\"\n",
    "from llmcoder.analyze import APIDocumentationAnalyzer\n",
    "a = APIDocumentationAnalyzer()\n",
    "\n",
    "a.analyze(\"\"\"\n",
    "\n",
    "completion = \"\"\"1, completion=\"a\")\"\"\"\n",
    "\n",
    "mypy = MypyAnalyzer(verbose=True)\n",
    "sig = SignatureAnalyzer(verbose=True)\n",
    "\n",
    "mypy_result = mypy.analyze(code, completion)\n",
    "sig_result = sig.analyze(code, completion, {'mypy_analyzer_v1': mypy_result})\n",
    "\n",
    "assert \"APIDocumentationAnalyzer.analyze: (\" in sig_result['message']"
   ]
  },
  {
   "cell_type": "code",
   "execution_count": 19,
   "metadata": {},
   "outputs": [
    {
     "name": "stdout",
     "output_type": "stream",
     "text": [
      "[Mypy] No missing stubs found.\n",
      "[Mypy] /tmp/tmp5bk0lnzy.py:5: error: \"analyze\" of \"APIDocumentationAnalyzer\" gets multiple values for keyword argument \"input\"  [misc]\n",
      "[Mypy] Found 1 error in 1 file (checked 1 source file)\n",
      "[Signatures] Using context from previous analyzers: ['mypy_analyzer_v1']\n",
      "[Signatures] all_matches=['APIDocumentationAnalyzer.analyze']\n",
      "[Signatures] Found problematic function or class: APIDocumentationAnalyzer.analyze\n",
      "[Signatures] function_calls=[('llmcoder', 'APIDocumentationAnalyzer', 'analyze')]\n",
      "[Signatures] Got signatures and documentations:\n",
      "[Signatures] APIDocumentationAnalyzer.analyze: (self, input: str, completion: str, context: dict[str, dict[str, bool | str]] | None = None) -> dict[str, bool | str], analyze analyzes the code that is passed in APIDocumentAnalyze class object and returns the documentation with the API References\n"
     ]
    }
   ],
   "source": [
    "# analyze\" of \"APIDocumentationAnalyzer\" gets multiple values for keyword argument \"input\"  [misc]\n",
    "code = \"\"\"\n",
    "from llmcoder.analyze import APIDocumentationAnalyzer\n",
    "a = APIDocumentationAnalyzer()\n",
    "\n",
    "a.analyze(\"\"\"\n",
    "\n",
    "completion = \"\"\"input=\"a\", input=\"b\", completion=\"a\")\"\"\"\n",
    "\n",
    "mypy = MypyAnalyzer(verbose=True)\n",
    "sig = SignatureAnalyzer(verbose=True)\n",
    "\n",
    "mypy_result = mypy.analyze(code, completion)\n",
    "sig_result = sig.analyze(code, completion, {'mypy_analyzer_v1': mypy_result})\n",
    "\n",
    "assert \"APIDocumentationAnalyzer.analyze: (\" in sig_result['message']"
   ]
  },
  {
   "cell_type": "code",
   "execution_count": 21,
   "metadata": {},
   "outputs": [
    {
     "name": "stdout",
     "output_type": "stream",
     "text": [
      "[Mypy] No missing stubs found.\n",
      "[Mypy] /tmp/tmpcsk1d356.py:4: error: Missing positional arguments \"input\", \"completion\" in call to \"analyze\" of \"APIDocumentationAnalyzer\"  [call-arg]\n",
      "[Mypy] Found 1 error in 1 file (checked 1 source file)\n",
      "[Signatures] Using context from previous analyzers: ['mypy_analyzer_v1']\n",
      "[Signatures] all_matches=['APIDocumentationAnalyzer.analyze']\n",
      "[Signatures] Found problematic function or class: APIDocumentationAnalyzer.analyze\n",
      "[Signatures] function_calls=[('llmcoder', 'APIDocumentationAnalyzer', 'analyze')]\n",
      "[Signatures] Got signatures and documentations:\n",
      "[Signatures] APIDocumentationAnalyzer.analyze: (self, input: str, completion: str, context: dict[str, dict[str, bool | str]] | None = None) -> dict[str, bool | str], analyze analyzes the code that is passed in APIDocumentAnalyze class object and returns the documentation with the API References\n"
     ]
    }
   ],
   "source": [
    "# Missing positional arguments \"input\", \"completion\" in call to \"analyze\" of \"APIDocumentationAnalyzer\"  [call-arg]\n",
    "code = \"\"\"\n",
    "from llmcoder.analyze import APIDocumentationAnalyzer\n",
    "a = APIDocumentationAnalyzer()\n",
    "analyzer_results = [a.an\"\"\"\n",
    "\n",
    "completion = \"\"\"alyze()]\"\"\"\n",
    "\n",
    "mypy = MypyAnalyzer(verbose=True)\n",
    "sig = SignatureAnalyzer(verbose=True)\n",
    "\n",
    "mypy_result = mypy.analyze(code, completion)\n",
    "sig_result = sig.analyze(code, completion, {'mypy_analyzer_v1': mypy_result})\n",
    "\n",
    "assert \"APIDocumentationAnalyzer.analyze\" in sig_result['message']"
   ]
  },
  {
   "cell_type": "code",
   "execution_count": 22,
   "metadata": {},
   "outputs": [
    {
     "name": "stdout",
     "output_type": "stream",
     "text": [
      "[Mypy] No missing stubs found.\n",
      "[Mypy] /tmp/tmpeom71tu3.py:4: error: Too many arguments for \"analyze\" of \"APIDocumentationAnalyzer\"  [call-arg]\n",
      "[Mypy] Found 1 error in 1 file (checked 1 source file)\n",
      "[Signatures] Using context from previous analyzers: ['mypy_analyzer_v1']\n",
      "[Signatures] all_matches=['APIDocumentationAnalyzer.analyze', 'analyze']\n",
      "[Signatures] Found problematic function or class: APIDocumentationAnalyzer.analyze\n",
      "[Signatures] Found problematic function or class: analyze\n",
      "[Signatures] function_calls=[('llmcoder', 'analyze', None), ('llmcoder', 'APIDocumentationAnalyzer', 'analyze')]\n",
      "[Signatures] No import found for analyze\n",
      "[Signatures] Got signatures and documentations:\n",
      "[Signatures] APIDocumentationAnalyzer.analyze: (self, input: str, completion: str, context: dict[str, dict[str, bool | str]] | None = None) -> dict[str, bool | str], analyze analyzes the code that is passed in APIDocumentAnalyze class object and returns the documentation with the API References\n"
     ]
    }
   ],
   "source": [
    "# Too many arguments for \"analyze\" of \"APIDocumentationAnalyzer\"  [call-arg]\n",
    "code = \"\"\"\n",
    "from llmcoder.analyze import APIDocumentationAnalyzer\n",
    "a = APIDocumentationAnalyzer()\n",
    "analyzer_results = [a.an\"\"\"\n",
    "\n",
    "completion = \"\"\"alyze(\"a\", \"b\", {\"a\": {\"a\": True}}, \"d\")]\"\"\"\n",
    "\n",
    "mypy = MypyAnalyzer(verbose=True)\n",
    "sig = SignatureAnalyzer(verbose=True)\n",
    "\n",
    "mypy_result = mypy.analyze(code, completion)\n",
    "sig_result = sig.analyze(code, completion, {'mypy_analyzer_v1': mypy_result})\n",
    "\n",
    "assert \"APIDocumentationAnalyzer.analyze\" in sig_result['message']"
   ]
  },
  {
   "cell_type": "code",
   "execution_count": 25,
   "metadata": {},
   "outputs": [
    {
     "name": "stdout",
     "output_type": "stream",
     "text": [
      "[Mypy] No missing stubs found.\n",
      "[Mypy] /tmp/tmpw44rptqu.py:10: error: Signature of \"analyze\" incompatible with supertype \"Analyzer\"  [override]\n",
      "[Mypy] /tmp/tmpw44rptqu.py:10: note:      Superclass:\n",
      "[Mypy] /tmp/tmpw44rptqu.py:10: note:          def analyze(self, input: str, completion: str, context: dict[str, dict[str, float | int | str]] | None = ...) -> dict[Any, Any]\n",
      "[Mypy] /tmp/tmpw44rptqu.py:10: note:      Subclass:\n",
      "[Mypy] /tmp/tmpw44rptqu.py:10: note:          def analyze(self, input: str, completion: str, install_stubs: bool = ..., *mypy_args: str | None) -> dict[Any, Any]\n",
      "[Mypy] Found 1 error in 1 file (checked 1 source file)\n",
      "[Signatures] Using context from previous analyzers: ['mypy_analyzer_v1']\n",
      "[Signatures] all_matches=['Analyzer.analyze']\n",
      "[Signatures] Found problematic function or class: Analyzer.analyze\n",
      "[Signatures] all_matches=[]\n",
      "[Signatures] all_matches=[]\n",
      "[Signatures] all_matches=[]\n",
      "[Signatures] all_matches=[]\n",
      "[Signatures] function_calls=[]\n",
      "[Signatures] Got signatures and documentations:\n"
     ]
    }
   ],
   "source": [
    "# Signature of \"analyze\" incompatible with supertype \"Analyzer\"  [override]\n",
    "code = \"\"\"\n",
    "import os\n",
    "import re\n",
    "import subprocess\n",
    "import tempfile\n",
    "\n",
    "from llmcoder.analyze.Analyzer import Analyzer\n",
    "\n",
    "class MypyAnalyzer(Analyzer):\n",
    "    def analyze(\"\"\"\n",
    "\n",
    "completion = \"\"\"self, input: str, completion: str, install_stubs: bool = True, *mypy_args: str | None) -> dict:\n",
    "        return {}\"\"\"\n",
    "\n",
    "mypy = MypyAnalyzer(verbose=True)\n",
    "sig = SignatureAnalyzer(verbose=True)\n",
    "\n",
    "mypy_result = mypy.analyze(code, completion)\n",
    "sig_result = sig.analyze(code, completion, {'mypy_analyzer_v1': mypy_result})\n",
    "\n",
    "assert \"Analyzer.analyze\" in sig_result['message']"
   ]
  },
  {
   "cell_type": "code",
   "execution_count": null,
   "metadata": {},
   "outputs": [],
   "source": []
  }
 ],
 "metadata": {
  "kernelspec": {
   "display_name": "llmcoder",
   "language": "python",
   "name": "python3"
  },
  "language_info": {
   "codemirror_mode": {
    "name": "ipython",
    "version": 3
   },
   "file_extension": ".py",
   "mimetype": "text/x-python",
   "name": "python",
   "nbconvert_exporter": "python",
   "pygments_lexer": "ipython3",
   "version": "3.11.7"
  }
 },
 "nbformat": 4,
 "nbformat_minor": 2
}
