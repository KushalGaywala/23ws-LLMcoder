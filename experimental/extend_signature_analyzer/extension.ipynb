{
 "cells": [
  {
   "cell_type": "code",
   "execution_count": 1,
   "metadata": {},
   "outputs": [],
   "source": [
    "from llmcoder import LLMCoder\n",
    "\n",
    "from llmcoder.analyze.MypyAnalyzer import MypyAnalyzer\n",
    "from llmcoder.analyze.SignatureAnalyzer import SignatureAnalyzer"
   ]
  },
  {
   "cell_type": "code",
   "execution_count": 2,
   "metadata": {},
   "outputs": [],
   "source": [
    "code = \"\"\"\n",
    "from llmcoder.analyze import APIDocumentationAnalyzer\n",
    "a = APIDocumentationAnalyzer()\n",
    "from numpy.random._pickle import __bit_generator_ctor\n",
    "import numpy as np\n",
    "\n",
    "if __name__ == \"__main__\":\n",
    "    generator = ...\n",
    "input = \\\"\\\"\\\"from llmcoder.utils import get_data_dir\n",
    "    \n",
    "if __name__ == \"__main__\":\n",
    "    data_dir \\\"\\\"\\\"\n",
    "\n",
    "completion = \\\"\\\"\\\" get_data_dir([\"test\"])\\\"\\\"\\\"\n",
    "analyzer_results = [a.an\"\"\"\n",
    "\n",
    "completion = \"\"\"alyze(input, completion, generator)]\"\"\""
   ]
  },
  {
   "cell_type": "code",
   "execution_count": 3,
   "metadata": {},
   "outputs": [],
   "source": [
    "mypy = MypyAnalyzer(verbose=True)"
   ]
  },
  {
   "cell_type": "code",
   "execution_count": 4,
   "metadata": {},
   "outputs": [
    {
     "name": "stdout",
     "output_type": "stream",
     "text": [
      "[Mypy] No missing stubs found.\n",
      "[Mypy] /tmp/tmps9j4qfiq.py:15: error: Argument 3 to \"analyze\" of \"APIDocumentationAnalyzer\" has incompatible type \"ellipsis\"; expected \"dict[str, dict[str, bool | str]] | None\"  [arg-type]\n",
      "[Mypy] Found 1 error in 1 file (checked 1 source file)\n"
     ]
    }
   ],
   "source": [
    "context = mypy.analyze(code, completion)"
   ]
  },
  {
   "cell_type": "code",
   "execution_count": 5,
   "metadata": {},
   "outputs": [],
   "source": [
    "sig = SignatureAnalyzer(verbose=True)"
   ]
  },
  {
   "cell_type": "code",
   "execution_count": 6,
   "metadata": {},
   "outputs": [
    {
     "name": "stdout",
     "output_type": "stream",
     "text": [
      "[Signatures] Using context from previous analyzers: ['mypy_analyzer_v1']\n",
      "[Signatures] all_matches=['APIDocumentationAnalyzer.analyze']\n",
      "[Signatures] Found problematic function or class: APIDocumentationAnalyzer.analyze\n",
      "llmcoder.analyze.APIDocumentationAnalyzer\n",
      "llmcoder.analyze.APIDocumentationAnalyzer.analyze\n",
      "[Signatures] function_calls=[]\n",
      "[Signatures] Got signatures and documentations:\n"
     ]
    },
    {
     "data": {
      "text/plain": [
       "{'pass': False,\n",
       " 'type': 'info',\n",
       " 'score': 0,\n",
       " 'message': 'Cannot find the relevant signatures of APIDocumentationAnalyzer.analyze'}"
      ]
     },
     "execution_count": 6,
     "metadata": {},
     "output_type": "execute_result"
    }
   ],
   "source": [
    "sig.analyze(code, completion, {'mypy_analyzer_v1': context})"
   ]
  }
 ],
 "metadata": {
  "kernelspec": {
   "display_name": "llmcoder",
   "language": "python",
   "name": "python3"
  },
  "language_info": {
   "codemirror_mode": {
    "name": "ipython",
    "version": 3
   },
   "file_extension": ".py",
   "mimetype": "text/x-python",
   "name": "python",
   "nbconvert_exporter": "python",
   "pygments_lexer": "ipython3",
   "version": "3.11.7"
  }
 },
 "nbformat": 4,
 "nbformat_minor": 2
}
